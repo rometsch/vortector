{
 "cells": [
  {
   "cell_type": "markdown",
   "metadata": {},
   "source": [
    "# Testing Notebook\n",
    "\n",
    "This notebook is used for running development version of the Vortector"
   ]
  },
  {
   "cell_type": "code",
   "execution_count": 1,
   "metadata": {},
   "outputs": [],
   "source": [
    "import numpy as np\n",
    "import matplotlib.pyplot as plt\n",
    "import matplotlib.gridspec as gridspec\n",
    "\n",
    "%reload_ext autoreload\n",
    "%autoreload 2\n",
    "\n",
    "from src.vortector.vortector import Vortector\n",
    "from src.vortector.visualize import show_fit_overview_2D, show_fit_overview_1D\n",
    "from src.vortector.contour import detect_elliptic_contours\n",
    "\n",
    "%matplotlib widget"
   ]
  },
  {
   "cell_type": "code",
   "execution_count": 2,
   "metadata": {},
   "outputs": [],
   "source": [
    "from opensimplex import OpenSimplex\n",
    "def simplex_noise(Nx, Ny, seed=0, feature_size=None):\n",
    "    if feature_size is None:\n",
    "        feature_size = max(Nx, Ny)/13\n",
    "    ng = OpenSimplex(seed)\n",
    "    noise = np.zeros((Nx, Ny))\n",
    "    for nx in range(Nx):\n",
    "        for ny in range(Ny):\n",
    "            noise[nx, ny] = ng.noise3d(nx/feature_size, ny/feature_size, 0)\n",
    "    return noise"
   ]
  },
  {
   "cell_type": "code",
   "execution_count": 3,
   "metadata": {},
   "outputs": [
    {
     "data": {
      "text/plain": [
       "19.79480138614315"
      ]
     },
     "execution_count": 3,
     "metadata": {},
     "output_type": "execute_result"
    }
   ],
   "source": [
    "from numpy.random import default_rng\n",
    "rng = default_rng(None)\n",
    "rng.uniform(low=1, high=20)"
   ]
  },
  {
   "cell_type": "markdown",
   "metadata": {},
   "source": [
    "### Creating a grid"
   ]
  },
  {
   "cell_type": "code",
   "execution_count": 4,
   "metadata": {},
   "outputs": [
    {
     "name": "stdout",
     "output_type": "stream",
     "text": [
      "Rs.shape (121, 251)\n",
      "Phis.shape (121, 251)\n",
      "Area.shape (121, 251)\n"
     ]
    }
   ],
   "source": [
    "# grid coordinates, use squared cells\n",
    "ris = np.geomspace(1, 20, 122) # cell interfaces\n",
    "phiis = np.linspace(-np.pi, np.pi, 252) # cell interfaces\n",
    "\n",
    "# calculate cell centers, sizes\n",
    "drs = ris[1:] - ris[:-1]\n",
    "rs = 0.5*(ris[1:] + ris[:-1])\n",
    "dphis = phiis[1:] - phiis[:-1]\n",
    "phis = 0.5*(phiis[1:] + phiis[:-1])\n",
    "\n",
    "# calculate cell area along the radial direction\n",
    "area = dphis[0] * 0.5* (ris[1:]**2 - ris[:-1]**2)\n",
    "\n",
    "# create meshgrids\n",
    "Phis, Rs = np.meshgrid(phis, rs)\n",
    "print(\"Rs.shape\", Rs.shape)\n",
    "print(\"Phis.shape\", Phis.shape)\n",
    "\n",
    "# calculate the area of the cells\n",
    "Area = np.tile(area, (Rs.shape[1],1)).T\n",
    "print(\"Area.shape\", Area.shape)"
   ]
  },
  {
   "cell_type": "code",
   "execution_count": 5,
   "metadata": {},
   "outputs": [],
   "source": [
    "r_vort = 10\n",
    "r_vort_sigma = 2\n",
    "phi_vort = np.pi/4\n",
    "phi_vort_sigma = np.pi/8\n",
    "\n",
    "vorticity = 1 - 0.8*np.exp( - 0.5*(Rs-r_vort)**2/r_vort_sigma**2)*np.exp( - 0.5*(Phis-phi_vort)**2/phi_vort_sigma**2)\n",
    "density = 2 + 3*np.exp( - 0.5*(Rs-r_vort)**2/r_vort_sigma**2)*np.exp( - 0.5*(Phis-phi_vort)**2/phi_vort_sigma**2)\n",
    "\n",
    "r_vort = 14\n",
    "r_vort_sigma = 1\n",
    "phi_vort = -np.pi/3\n",
    "phi_vort_sigma = np.pi/8\n",
    "\n",
    "vorticity -= 0.8*np.exp( - 0.5*(Rs-r_vort)**2/r_vort_sigma**2)*np.exp( - 0.5*(Phis-phi_vort)**2/phi_vort_sigma**2)\n",
    "density += 2*np.exp( - 0.5*(Rs-r_vort)**2/r_vort_sigma**2)*np.exp( - 0.5*(Phis-phi_vort)**2/phi_vort_sigma**2)\n",
    "\n",
    "vorticity += 0.1*simplex_noise(Rs.shape[0], Rs.shape[1], seed=3546384)\n",
    "density += 0.5*simplex_noise(Rs.shape[0], Rs.shape[1], seed=6468946)\n",
    "\n",
    "vortensity = vorticity/density\n",
    "vortensity = vortensity/np.max(vortensity)\n",
    "\n",
    "vd = Vortector(Rs, Phis, Area, vortensity, density, verbose=True)"
   ]
  },
  {
   "cell_type": "code",
   "execution_count": 51,
   "metadata": {},
   "outputs": [
    {
     "data": {
      "application/vnd.jupyter.widget-view+json": {
       "model_id": "2601264950354d809b8bbbaaf16b99d7",
       "version_major": 2,
       "version_minor": 0
      },
      "text/plain": [
       "Canvas(toolbar=Toolbar(toolitems=[('Home', 'Reset original view', 'home', 'home'), ('Back', 'Back to previous …"
      ]
     },
     "metadata": {},
     "output_type": "display_data"
    }
   ],
   "source": [
    "from synthvortex import VortexGenerator\n",
    "vgen = VortexGenerator(2, periodic_y=True)\n",
    "\n",
    "# fig, axes = plt.subplots(1,2,dpi=150)\n",
    "\n",
    "# im = axes[0].pcolormesh(vgen.Rs, vgen.Phis, vgen.vortensity, vmin=0, vmax=1, shading=\"auto\")\n",
    "# axes[0].contour(vgen.Rs, vgen.Phis, vgen.vortensity, cmap=\"Greys\", linewidths=1)\n",
    "# axes[0].set_xlabel(\"r\")\n",
    "# axes[0].set_ylabel(\"phi\")\n",
    "# cbar = fig.colorbar(im, ax=axes[0], orientation=\"horizontal\")\n",
    "# cbar.set_label(\"vortensity\")\n",
    "\n",
    "# im = axes[1].pcolormesh(vgen.Rs, vgen.Phis, vgen.density, shading=\"auto\")\n",
    "# axes[1].contour(vgen.Rs, vgen.Phis, vgen.density, cmap=\"Greys\", linewidths=1)\n",
    "# axes[1].set_xlabel(\"r\")\n",
    "# cbar = fig.colorbar(im, ax=axes[1], orientation=\"horizontal\")\n",
    "# cbar.set_label(\"density\")\n",
    "fig_vortector = plt.figure(dpi=150)"
   ]
  },
  {
   "cell_type": "code",
   "execution_count": 148,
   "metadata": {},
   "outputs": [
    {
     "name": "stdout",
     "output_type": "stream",
     "text": [
      "Number of found contours: 93\n",
      "Number of closed contours: 84\n",
      "Area of contours: [14128.0, 14128.0, 12371.5, 12371.5, 11133.0, 11133.0, 10073.5, 10073.5, 9225.0, 9225.0, 8383.5, 8383.5, 4634.0, 4634.0, 4288.0, 4288.0, 3981.0, 3981.0, 3665.0, 3665.0, 3383.0, 3383.0, 3100.5, 3100.5, 3037.0, 3037.0, 2843.5, 2843.5, 2773.0, 2773.0, 2578.5, 2578.5, 2542.5, 2542.5, 2332.5, 2332.5, 2317.5, 2317.5, 2123.0, 2123.0, 2051.5, 2051.5, 1939.5, 1939.5, 1774.5, 1774.5, 1739.5, 1739.5, 1563.5, 1563.5, 1473.5, 1473.5, 1369.5, 1369.5, 1177.5, 1177.5, 1177.0, 1177.0, 977.5, 977.5, 901.0, 901.0, 780.0, 780.0, 608.0, 608.0, 582.0, 582.0, 374.0, 374.0, 253.5, 253.5, 252.5, 229.5, 229.5, 209.5, 209.5, 147.5, 147.5, 127.5, 97.5, 67.0, 18.0, 16.0]\n",
      "Removed 17 candidates by common boundary area. 18 remaining\n",
      "Removed 1 candidates by due to vortensity drop < 0.1.\n",
      "CPU times: user 194 ms, sys: 96 µs, total: 194 ms\n",
      "Wall time: 193 ms\n",
      "Warning: KeyError encountered in showing r fit: 'fits'\n",
      "Warning: KeyError encountered in showing phi fit: 'fits'\n",
      "Warning: KeyError encountered in showing r fit: 'fits'\n",
      "Warning: KeyError encountered in showing phi fit: 'fits'\n",
      "Number of vortices: 2\n"
     ]
    },
    {
     "data": {
      "text/plain": [
       "123009799731638641813521844717530781350"
      ]
     },
     "execution_count": 148,
     "metadata": {},
     "output_type": "execute_result"
    }
   ],
   "source": [
    "from synthvortex import VortexGenerator\n",
    "scaling = 2\n",
    "# vgen = VortexGenerator(3, periodic_y=True, Nr=121*scaling,Nphi=251*scaling)\n",
    "# vgen = VortexGenerator(3, periodic_y=True, Nr=121*scaling,Nphi=251*scaling, seed=123009799731638641813521844717530781350, noise=0)\n",
    "vgen = VortexGenerator(filename=\"synthvort_examples/detection_overlapping_vortices.pickle\")\n",
    "vd = Vortector(vgen.Rs, vgen.Phis, vgen.Area, vgen.vortensity, vgen.density, verbose=True)\n",
    "# n = 0\n",
    "# vd.fit(n)\n",
    "# for k in range(2):\n",
    "#     vd.fit(n, region=\"combined\") \n",
    "def detect_and_fit(vd):\n",
    "    vd.detect(include_mask=True, autofit=False, keep_internals=False)\n",
    "#     for k in range(len(vd.vortices)):\n",
    "#         vd.fit(k)\n",
    "#         vd.fit(k, region=\"combined\")\n",
    "%time detect_and_fit(vd)\n",
    "n = None\n",
    "show_fit_overview_2D(vd, n=n, bnd_pnts=False, fig=fig_vortector)\n",
    "print(\"Number of vortices:\", len(vd.vortices))\n",
    "vgen.seed"
   ]
  },
  {
   "cell_type": "code",
   "execution_count": null,
   "metadata": {},
   "outputs": [],
   "source": []
  },
  {
   "cell_type": "code",
   "execution_count": 119,
   "metadata": {},
   "outputs": [
    {
     "name": "stdout",
     "output_type": "stream",
     "text": [
      "-0.13240203318373686\n",
      "-0.08159054445480816\n"
     ]
    }
   ],
   "source": [
    "for vort in vd.vortices:\n",
    "    print(vort[\"contour\"][\"stats\"][\"vortensity_min\"])"
   ]
  },
  {
   "cell_type": "code",
   "execution_count": 10,
   "metadata": {},
   "outputs": [],
   "source": [
    "# vgen.save(\"synthvort_examples/detection_overlapping_vortices.pickle\", \n",
    "#           note=\"An example in which the vortector puts two vortices into one contour.\")"
   ]
  },
  {
   "cell_type": "code",
   "execution_count": 114,
   "metadata": {},
   "outputs": [
    {
     "data": {
      "application/vnd.jupyter.widget-view+json": {
       "model_id": "aa92854f67ef4ca2b8c2ac5094ec8297",
       "version_major": 2,
       "version_minor": 0
      },
      "text/plain": [
       "Canvas(toolbar=Toolbar(toolitems=[('Home', 'Reset original view', 'home', 'home'), ('Back', 'Back to previous …"
      ]
     },
     "metadata": {},
     "output_type": "display_data"
    }
   ],
   "source": [
    "fig_single_vortex = plt.figure(dpi=150)"
   ]
  },
  {
   "cell_type": "code",
   "execution_count": 145,
   "metadata": {},
   "outputs": [],
   "source": [
    "def vort_sigma_plot(fig,Rs,Phis,vortensity,density,mask):\n",
    "    fig.clf()\n",
    "    gs = gridspec.GridSpec(ncols=2, nrows=1, figure=fig_single_vortex)\n",
    "    axes = [fig.add_subplot(gs[0, 0]),fig.add_subplot(gs[0, 1])]\n",
    "\n",
    "    vort_masked = np.ma.masked_array(vortensity, mask=~mask)\n",
    "    im = axes[0].pcolormesh(Rs, Phis, vort_masked, vmin=0, vmax=1, shading=\"auto\")\n",
    "    axes[0].contour(Rs, Phis, vort_masked, cmap=\"Greys\", linewidths=1)\n",
    "    axes[0].set_xlabel(\"r\")\n",
    "    axes[0].set_ylabel(\"phi\")\n",
    "    cbar = fig.colorbar(im, ax=axes[0], orientation=\"horizontal\")\n",
    "    cbar.set_label(\"vortensity\")\n",
    "\n",
    "    density_masked = np.ma.masked_array(density, mask=~mask)\n",
    "    im = axes[1].pcolormesh(Rs, Phis, density_masked, shading=\"auto\")\n",
    "    axes[1].contour(Rs, Phis, density_masked, cmap=\"Greys\", linewidths=1)\n",
    "    axes[1].set_xlabel(\"r\")\n",
    "    cbar = fig.colorbar(im, ax=axes[1], orientation=\"horizontal\")\n",
    "    cbar.set_label(\"density\")\n",
    "\n",
    "vort_data = vd.extract_data(vd.vortices[0], region=\"combined\")\n",
    "vort_sigma_plot(fig_single_vortex, *vort_data)"
   ]
  },
  {
   "cell_type": "code",
   "execution_count": 132,
   "metadata": {},
   "outputs": [
    {
     "data": {
      "text/plain": [
       "{'detection': {'contour_value': 0.6500000000000001,\n",
       "  'opencv_contour_number': 33000,\n",
       "  'uuid': '22d071ef-fd81-4266-b62a-86332523251b',\n",
       "  'pixel_area': 27883.5,\n",
       "  'pixel_arcLength': 679.0853482484818,\n",
       "  'bounding_x_img': array([167, 304], dtype=int32),\n",
       "  'bounding_y_img': array([ 871, 1133], dtype=int32),\n",
       "  'pnt_xlow_img': array([167, 985], dtype=int32),\n",
       "  'pnt_xhigh_img': array([304, 986], dtype=int32),\n",
       "  'pnt_ylow_img': array([235, 871], dtype=int32),\n",
       "  'pnt_yhigh_img': array([ 255, 1133], dtype=int32),\n",
       "  'dx_img': 137,\n",
       "  'dy_img': 262,\n",
       "  'ellipse': {'center_img': (1003.8944702148438, 237.67210388183594),\n",
       "   'axesLengths_img': (136.90890502929688, 261.1641845703125),\n",
       "   'angle_img': 93.65411376953125},\n",
       "  'ellipse_area_delta_relative': 0.056115457565883015,\n",
       "  'ellipse_area_delta': 1564.695361038299,\n",
       "  'parameters': {'Nx': 363,\n",
       "   'Ny': 753,\n",
       "   'max_ellipse_aspect_ratio': inf,\n",
       "   'max_ellipse_deviation': 0.15,\n",
       "   'levels': [-1.0,\n",
       "    -0.95,\n",
       "    -0.9,\n",
       "    -0.85,\n",
       "    -0.8,\n",
       "    -0.75,\n",
       "    -0.7,\n",
       "    -0.6499999999999999,\n",
       "    -0.6,\n",
       "    -0.55,\n",
       "    -0.5,\n",
       "    -0.44999999999999996,\n",
       "    -0.3999999999999999,\n",
       "    -0.35,\n",
       "    -0.29999999999999993,\n",
       "    -0.25,\n",
       "    -0.19999999999999996,\n",
       "    -0.1499999999999999,\n",
       "    -0.09999999999999998,\n",
       "    -0.04999999999999993,\n",
       "    0.0,\n",
       "    0.050000000000000044,\n",
       "    0.10000000000000009,\n",
       "    0.15000000000000013,\n",
       "    0.20000000000000018,\n",
       "    0.25,\n",
       "    0.30000000000000004,\n",
       "    0.3500000000000001,\n",
       "    0.40000000000000013,\n",
       "    0.4500000000000002,\n",
       "    0.5,\n",
       "    0.55,\n",
       "    0.6000000000000001,\n",
       "    0.6500000000000001,\n",
       "    0.7000000000000002,\n",
       "    0.75,\n",
       "    0.8,\n",
       "    0.8500000000000001,\n",
       "    0.9000000000000001,\n",
       "    0.9500000000000002,\n",
       "    1.0]}},\n",
       " 'mask': array([[False, False, False, ..., False, False, False],\n",
       "        [False, False, False, ..., False, False, False],\n",
       "        [False, False, False, ..., False, False, False],\n",
       "        ...,\n",
       "        [False, False, False, ..., False, False, False],\n",
       "        [False, False, False, ..., False, False, False],\n",
       "        [False, False, False, ..., False, False, False]]),\n",
       " 'pnt_xhigh': (304, 610),\n",
       " 'pnt_xlow': (167, 609),\n",
       " 'pnt_ylow': (235, 495),\n",
       " 'pnt_yhigh': (255, 4),\n",
       " 'stats': {'mass': 269.1822030043645,\n",
       "  'vortensity_avg': 0.28460164232656,\n",
       "  'vortensity_med': 0.2833079415987775,\n",
       "  'vortensity_min': -0.0815464084101436,\n",
       "  'vortensity_max': 0.6499803102629734,\n",
       "  'surface_density_avg': 2.3281521231636373,\n",
       "  'surface_density_med': 2.028757143496579,\n",
       "  'surface_density_min': 1.2587521071719454,\n",
       "  'surface_density_max': 4.743084444754635,\n",
       "  'area': 116.65992403158599,\n",
       "  'rmax': 3.984200904625766,\n",
       "  'rmin': 12.34137559380499,\n",
       "  'phimin': 0.9929602278278495,\n",
       "  'phimax': -3.1040437374114287,\n",
       "  'height': 2.186181341940308,\n",
       "  'vortensity_min_pos': (8.236495032042058, 2.169492934749923),\n",
       "  'vortensity_min_inds': (255, 636),\n",
       "  'surface_density_max_pos': (7.521722197568122, 1.8857900125133948),\n",
       "  'surface_density_max_inds': (244, 602),\n",
       "  'azimuthal_at_vortensity_min': {'vortensity_max': 1.0293223200556287,\n",
       "   'vortensity_avg': 0.6827862586723917,\n",
       "   'vortensity_med': 0.9597317491886391},\n",
       "  'azimuthal_at_surface_density_max': {'surface_density_min': 4.743084444754635,\n",
       "   'surface_density_avg': 1.7366017160639797,\n",
       "   'surface_density_med': 1.0398377675311554}},\n",
       " 'pnt_xlow_pos': (3.984200904625766, 1.944199437679739),\n",
       " 'pnt_xhigh_pos': (12.34137559380499, 1.9525436412749309),\n",
       " 'pnt_ylow_pos': (6.983294337013922, 0.9929602278278495),\n",
       " 'pnt_yhigh_pos': (8.236495032042058, -3.1040437374114287)}"
      ]
     },
     "execution_count": 132,
     "metadata": {},
     "output_type": "execute_result"
    }
   ],
   "source": [
    "vd.vortices[1][\"contour\"]"
   ]
  },
  {
   "cell_type": "code",
   "execution_count": null,
   "metadata": {},
   "outputs": [],
   "source": []
  }
 ],
 "metadata": {
  "kernelspec": {
   "display_name": "Python 3",
   "language": "python",
   "name": "python3"
  },
  "language_info": {
   "codemirror_mode": {
    "name": "ipython",
    "version": 3
   },
   "file_extension": ".py",
   "mimetype": "text/x-python",
   "name": "python",
   "nbconvert_exporter": "python",
   "pygments_lexer": "ipython3",
   "version": "3.8.6"
  }
 },
 "nbformat": 4,
 "nbformat_minor": 4
}
