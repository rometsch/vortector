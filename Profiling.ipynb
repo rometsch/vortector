{
 "cells": [
  {
   "cell_type": "markdown",
   "metadata": {},
   "source": [
    "# Profiling with Synthetic Vortex Example\n",
    "\n",
    "This notebook is used for profiling the vortector with the synthetic vortex example."
   ]
  },
  {
   "cell_type": "code",
   "execution_count": 1,
   "metadata": {},
   "outputs": [],
   "source": [
    "import numpy as np\n",
    "import matplotlib.pyplot as plt\n",
    "\n",
    "%reload_ext autoreload\n",
    "%autoreload 2\n",
    "\n",
    "from src.vortector.vortector import Vortector\n",
    "from synthvortex import VortexGenerator\n",
    "\n",
    "import cProfile\n",
    "import pstats\n",
    "from pstats import SortKey\n",
    "from tempfile import NamedTemporaryFile"
   ]
  },
  {
   "cell_type": "markdown",
   "metadata": {},
   "source": [
    "## Creating a synthetic vortex\n",
    "\n",
    "Vortices in PPDs appear as 2D Gaussians in the vortensity (minimum) and the surface density (maximum), we'll call it density from now on.\n",
    "\n",
    "For a synthetic vortex, all we need to do is to set up a grid and put in a Gaussian distribution in both the vortensity and surface density."
   ]
  },
  {
   "cell_type": "code",
   "execution_count": 8,
   "metadata": {},
   "outputs": [],
   "source": [
    "scaling = 1\n",
    "vgen = VortexGenerator(3, periodic_y=True, Nr=121*scaling,Nphi=251*scaling, seed=123009799731638641813521844717530781350)"
   ]
  },
  {
   "cell_type": "code",
   "execution_count": 12,
   "metadata": {},
   "outputs": [],
   "source": [
    "vd = Vortector(vgen.Rs, vgen.Phis, vgen.Area, vgen.vortensity, vgen.density, verbose=True)"
   ]
  },
  {
   "cell_type": "markdown",
   "metadata": {},
   "source": [
    "## Profile\n",
    "\n",
    "We will use the snakeviz package.\n",
    "If it's not installed, run "
   ]
  },
  {
   "cell_type": "code",
   "execution_count": 10,
   "metadata": {},
   "outputs": [
    {
     "name": "stdout",
     "output_type": "stream",
     "text": [
      "The snakeviz extension is already loaded. To reload it, use:\n",
      "  %reload_ext snakeviz\n"
     ]
    }
   ],
   "source": [
    "#!python3 -m pip install snakeviz\n",
    "%load_ext snakeviz"
   ]
  },
  {
   "cell_type": "code",
   "execution_count": 13,
   "metadata": {},
   "outputs": [
    {
     "name": "stdout",
     "output_type": "stream",
     "text": [
      "Number of found contours: 93\n",
      "Number of closed contours: 84\n",
      "Area of contours: [14128.0, 14128.0, 12371.5, 12371.5, 11133.0, 11133.0, 10073.5, 10073.5, 9225.0, 9225.0, 8383.5, 8383.5, 4634.0, 4634.0, 4288.0, 4288.0, 3981.0, 3981.0, 3665.0, 3665.0, 3383.0, 3383.0, 3100.5, 3100.5, 3037.0, 3037.0, 2843.5, 2843.5, 2773.0, 2773.0, 2578.5, 2578.5, 2542.5, 2542.5, 2332.5, 2332.5, 2317.5, 2317.5, 2123.0, 2123.0, 2051.5, 2051.5, 1939.5, 1939.5, 1774.5, 1774.5, 1739.5, 1739.5, 1563.5, 1563.5, 1473.5, 1473.5, 1369.5, 1369.5, 1177.5, 1177.5, 1177.0, 1177.0, 977.5, 977.5, 901.0, 901.0, 780.0, 780.0, 608.0, 608.0, 582.0, 582.0, 374.0, 374.0, 253.5, 253.5, 252.5, 229.5, 229.5, 209.5, 209.5, 147.5, 147.5, 127.5, 97.5, 67.0, 18.0, 16.0]\n",
      "Removed 17 candidates by common boundary area. 18 remaining\n",
      "Warning: Error while fitting vortensity: Each lower bound must be strictly less than each upper bound.\n",
      "Warning: Error while fitting surface density: Each lower bound must be strictly less than each upper bound.\n",
      "Warning: KeyError encountered in calculating fit differences: 'fits'\n",
      "Removed 1 candidates by due to vortensity drop < 0.1.\n",
      " \n",
      "*** Profile stats marshalled to file '/tmp/tmp6ebqm4tx'. \n",
      "Embedding SnakeViz in this document...\n"
     ]
    },
    {
     "data": {
      "text/html": [
       "\n",
       "<iframe id='snakeviz-c3a6ff90-ae8c-11eb-871c-2f61dc0c037a' frameborder=0 seamless width='100%' height='1000'></iframe>\n",
       "<script>document.getElementById(\"snakeviz-c3a6ff90-ae8c-11eb-871c-2f61dc0c037a\").setAttribute(\"src\", \"http://\" + document.location.hostname + \":8080/snakeviz/%2Ftmp%2Ftmp6ebqm4tx\")</script>\n"
      ],
      "text/plain": [
       "<IPython.core.display.HTML object>"
      ]
     },
     "metadata": {},
     "output_type": "display_data"
    }
   ],
   "source": [
    "%snakeviz vd.detect()"
   ]
  },
  {
   "cell_type": "code",
   "execution_count": null,
   "metadata": {},
   "outputs": [],
   "source": []
  }
 ],
 "metadata": {
  "kernelspec": {
   "display_name": "Python 3",
   "language": "python",
   "name": "python3"
  },
  "language_info": {
   "codemirror_mode": {
    "name": "ipython",
    "version": 3
   },
   "file_extension": ".py",
   "mimetype": "text/x-python",
   "name": "python",
   "nbconvert_exporter": "python",
   "pygments_lexer": "ipython3",
   "version": "3.8.6"
  }
 },
 "nbformat": 4,
 "nbformat_minor": 4
}
