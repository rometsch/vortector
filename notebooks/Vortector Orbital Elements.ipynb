{
 "cells": [
  {
   "cell_type": "code",
   "execution_count": 1,
   "metadata": {},
   "outputs": [],
   "source": [
    "import numpy as np\n",
    "import cv2\n",
    "import matplotlib as mpl\n",
    "import matplotlib.pyplot as plt\n",
    "import matplotlib.colors as colors\n",
    "import scipy.interpolate\n",
    "import astropy.units as u\n",
    "import astropy\n",
    "\n",
    "import simdata\n",
    "\n",
    "%reload_ext autoreload\n",
    "%autoreload 2\n",
    "%load_ext line_profiler\n",
    "from importlib import reload\n",
    "from pprint import pprint\n",
    "from src.vortector.vortector import Vortector\n",
    "from src.vortector.visualize import show_fit_overview_2D"
   ]
  },
  {
   "cell_type": "code",
   "execution_count": 2,
   "metadata": {},
   "outputs": [],
   "source": [
    "# very hard example overlapping with spiral arm\n",
    "\n",
    "# simid = \"4ae2169c\"\n",
    "# Noutput = 30\n",
    "\n",
    "# hard example\n",
    "\n",
    "# simid = \"306d9f0c\"\n",
    "# Noutput = 52\n",
    "\n",
    "# overlapping with boundary example\n",
    "\n",
    "# simid = \"9f976424\"\n",
    "# Noutput = 90\n",
    "\n",
    "# spiral arm artifact\n",
    "\n",
    "# simid = \"487fa644\"\n",
    "# Noutput = 223\n",
    "\n",
    "# big vortex example\n",
    "simid = \"3625e016\"\n",
    "Noutput = 200\n",
    "\n",
    "# easy example\n",
    "\n",
    "# simid = \"a122b63c\"\n",
    "# Noutput = 75\n",
    "\n",
    "# # faint vortex\n",
    "# simid = \"65a701a4\"\n",
    "# Noutput = 380\n",
    "\n",
    "# another faint vortex\n",
    "# simid = \"b522b88a\"\n",
    "# Noutput = 116\n",
    "\n",
    "# no vortex\n",
    "\n",
    "# simid = \"3401c4d0\"\n",
    "# Noutput = 256\n",
    "\n",
    "# 8cps x 2cps example\n",
    "\n",
    "# simid = \"65a701a4\"\n",
    "# Noutput = 50\n",
    "\n",
    "# 16 cps example\n",
    "# simid = \"20ce240c\"\n",
    "# Noutput = 82 # overlapping with spiral, need 0.2 spacing in vortensity\n",
    "# Noutput = 83\n",
    "# Noutput = 84 # hard case barely passing\n",
    "\n",
    "# easier 16 cps example\n",
    "# simid = \"71cfb245\"\n",
    "# Noutput = 54\n",
    "\n",
    "# transition disk example\n",
    "# vortex in migration jump paper\n",
    "# simid = \"d132cf47\"\n",
    "# Noutput = 524\n",
    "\n",
    "# multiple vortices example\n",
    "# simid = \"b522b88a\"\n",
    "# Noutput  = 10\n",
    "\n",
    "\n",
    "## weak vortex inspection\n",
    "# simid = \"5071c355\"\n",
    "# Noutput = 146\n",
    "\n",
    "simulation = simdata.SData(simid)\n",
    "\n",
    "levels = [float(x) for x in np.arange(-1,1.5,0.05)]\n",
    "\n",
    "# if \"run_vortector\" in locals() and \"calc_quantities\" in locals():\n",
    "#     print(\"running vortector\")\n",
    "#     X, Y, Xc, Yc, A, vortensity, vorticity, Rho, Rho_background = calc_quantities()\n",
    "#     run_vortector()"
   ]
  },
  {
   "cell_type": "markdown",
   "metadata": {},
   "source": [
    "## Vorticity calculation for simdata"
   ]
  },
  {
   "cell_type": "code",
   "execution_count": 3,
   "metadata": {},
   "outputs": [],
   "source": [
    "from simdata_vorticity import vorticity_simdata, map_angles, calc_quantities\n",
    "X, Y, Xc, Yc, A, vortensity, vorticity, Rho, Rho_background = calc_quantities(simulation, Noutput)"
   ]
  },
  {
   "cell_type": "code",
   "execution_count": 2,
   "metadata": {},
   "outputs": [
    {
     "ename": "NameError",
     "evalue": "name 'Xc' is not defined",
     "output_type": "error",
     "traceback": [
      "\u001b[0;31m---------------------------------------------------------------------------\u001b[0m",
      "\u001b[0;31mNameError\u001b[0m                                 Traceback (most recent call last)",
      "\u001b[0;32m<ipython-input-2-f3bc7a3de22c>\u001b[0m in \u001b[0;36m<module>\u001b[0;34m\u001b[0m\n\u001b[1;32m      1\u001b[0m \u001b[0mRlims\u001b[0m \u001b[0;34m=\u001b[0m \u001b[0;34m[\u001b[0m\u001b[0;36m5.2\u001b[0m\u001b[0;34m,\u001b[0m \u001b[0;36m12\u001b[0m\u001b[0;34m]\u001b[0m\u001b[0;34m\u001b[0m\u001b[0;34m\u001b[0m\u001b[0m\n\u001b[0;32m----> 2\u001b[0;31m \u001b[0mnl\u001b[0m \u001b[0;34m=\u001b[0m \u001b[0mnp\u001b[0m\u001b[0;34m.\u001b[0m\u001b[0margmin\u001b[0m\u001b[0;34m(\u001b[0m\u001b[0mnp\u001b[0m\u001b[0;34m.\u001b[0m\u001b[0mabs\u001b[0m\u001b[0;34m(\u001b[0m\u001b[0mXc\u001b[0m\u001b[0;34m[\u001b[0m\u001b[0;34m:\u001b[0m\u001b[0;34m,\u001b[0m\u001b[0;36m0\u001b[0m\u001b[0;34m]\u001b[0m\u001b[0;34m-\u001b[0m\u001b[0mRlims\u001b[0m\u001b[0;34m[\u001b[0m\u001b[0;36m0\u001b[0m\u001b[0;34m]\u001b[0m\u001b[0;34m)\u001b[0m\u001b[0;34m)\u001b[0m\u001b[0;34m\u001b[0m\u001b[0;34m\u001b[0m\u001b[0m\n\u001b[0m\u001b[1;32m      3\u001b[0m \u001b[0mnr\u001b[0m \u001b[0;34m=\u001b[0m \u001b[0mnp\u001b[0m\u001b[0;34m.\u001b[0m\u001b[0margmin\u001b[0m\u001b[0;34m(\u001b[0m\u001b[0mnp\u001b[0m\u001b[0;34m.\u001b[0m\u001b[0mabs\u001b[0m\u001b[0;34m(\u001b[0m\u001b[0mXc\u001b[0m\u001b[0;34m[\u001b[0m\u001b[0;34m:\u001b[0m\u001b[0;34m,\u001b[0m\u001b[0;36m0\u001b[0m\u001b[0;34m]\u001b[0m\u001b[0;34m-\u001b[0m\u001b[0mRlims\u001b[0m\u001b[0;34m[\u001b[0m\u001b[0;36m1\u001b[0m\u001b[0;34m]\u001b[0m\u001b[0;34m)\u001b[0m\u001b[0;34m)\u001b[0m\u001b[0;34m\u001b[0m\u001b[0;34m\u001b[0m\u001b[0m\n\u001b[1;32m      4\u001b[0m vd = Vortector(Xc[nl:nr,:], Yc[nl:nr,:], A[nl:nr,:], vortensity[nl:nr,:], Rho[nl:nr,:],\n\u001b[1;32m      5\u001b[0m                          \u001b[0mverbose\u001b[0m\u001b[0;34m=\u001b[0m\u001b[0;32mFalse\u001b[0m\u001b[0;34m,\u001b[0m \u001b[0mmed\u001b[0m\u001b[0;34m=\u001b[0m\u001b[0;36m0.15\u001b[0m\u001b[0;34m,\u001b[0m \u001b[0mmear\u001b[0m\u001b[0;34m=\u001b[0m\u001b[0mnp\u001b[0m\u001b[0;34m.\u001b[0m\u001b[0minf\u001b[0m\u001b[0;34m,\u001b[0m\u001b[0;34m\u001b[0m\u001b[0;34m\u001b[0m\u001b[0m\n",
      "\u001b[0;31mNameError\u001b[0m: name 'Xc' is not defined"
     ]
    }
   ],
   "source": [
    "Rlims = [5.2, 12]\n",
    "nl = np.argmin(np.abs(Xc[:,0]-Rlims[0]))\n",
    "nr = np.argmin(np.abs(Xc[:,0]-Rlims[1]))\n",
    "vd = Vortector(Xc[nl:nr,:], Yc[nl:nr,:], A[nl:nr,:], vortensity[nl:nr,:], Rho[nl:nr,:],\n",
    "                         verbose=False, med=0.15, mear=np.inf,\n",
    "                         levels=levels\n",
    "                        )\n",
    "# vd = vortector.Vortector(Xc, Yc, A, vortensity, Rho, Rho_background,\n",
    "#                          [40,80], verbose=False, med=0.15, mear=np.inf,\n",
    "#                          levels=levels\n",
    "#                         )\n",
    "%time vortices = vd.detect_vortices(include_mask=True, keep_internals=False)\n",
    "for v in vd.vortices:\n",
    "    try:\n",
    "        v[\"strength\"] = np.exp(-v[\"vortensity_median\"])*v[\"mass\"]\n",
    "        print(\"strength = {:.2e}, mass = {:.2e} , min vort = {:.3f}, sigma fit r_diff = {:.2e} phi_diff = {:.2e}\".format(\n",
    "            v['strength'],v['mass'],v['vortensity_min'],v[\"sigma_fit_r_reldiff\"],v[\"sigma_fit_phi_reldiff\"]))\n",
    "        print(f\"    contour diff 2D = {v['sigma_fit_contour_diff_2D']:.2e} , contour reldiff 2D = {v['sigma_fit_contour_reldiff_2D']:.2e}\")\n",
    "        print(f\"    ellipse diff 2D = {v['sigma_fit_ellipse_diff_2D']:.2e} , ellipse reldiff 2D = {v['sigma_fit_ellipse_reldiff_2D']:.2e}\")\n",
    "        print(f\"    area_ratio_ellipse_to_contour = {v['sigma_fit_area_ratio_ellipse_to_contour']:.2e}\")\n",
    "    except KeyError:\n",
    "        pass\n",
    "\n",
    "# vd.show_fit_overview_1D(0)\n",
    "show_fit_overview_2D(vd)\n",
    "s = vd.vortices[0][\"contour\"][\"stats\"]\n",
    "s[\"vortensity_min\"]/s[\"azimuthal_at_vortensity_min\"][\"vortensity_med\"]"
   ]
  },
  {
   "cell_type": "code",
   "execution_count": null,
   "metadata": {},
   "outputs": [],
   "source": [
    "vd.vortices[0]"
   ]
  },
  {
   "cell_type": "code",
   "execution_count": null,
   "metadata": {},
   "outputs": [],
   "source": []
  },
  {
   "cell_type": "code",
   "execution_count": null,
   "metadata": {},
   "outputs": [],
   "source": [
    "vrad = simulation.fluids[\"gas\"].get(\"2d\", \"velocity radial\", Noutput).data.to_value(\"au/yr\")\n",
    "vrad = 0.5*(vrad[1:,:] + vrad[:-1,:])\n",
    "vphi = simulation.fluids[\"gas\"].get(\"2d\", \"velocity azimuthal\", Noutput)\n",
    "omega_frame = simulation.planets[0].get(\"omega frame\").get_closest_to_time(vphi.get_time()).to(\"yr-1\")\n",
    "v_Frame = omega_frame*Xc*u.au\n",
    "vphi = vphi.data.to_value(\"au/yr\") + v_Frame.to_value(\"au/yr\")\n",
    "# vphi = vphi.data.to_value(\"au/yr\")\n",
    "vphi = np.pad(vphi, [[0,0],[0,1]], mode=\"wrap\")\n",
    "vphi = 0.5*(vphi[:,1:] + vphi[:,:-1])\n",
    "\n",
    "vrad = vrad[nl:nr,:]\n",
    "vphi = vphi[nl:nr,:]\n",
    "\n",
    "2*np.pi*u.au/u.yr/np.sqrt(5.2)"
   ]
  },
  {
   "cell_type": "code",
   "execution_count": null,
   "metadata": {},
   "outputs": [],
   "source": [
    "(astropy.constants.G*u.solMass).to_value(\"au3/yr2\")"
   ]
  },
  {
   "cell_type": "code",
   "execution_count": null,
   "metadata": {},
   "outputs": [],
   "source": [
    "astropy.constants.G.to(\"au3 yr-2 solMass-1\")"
   ]
  },
  {
   "cell_type": "code",
   "execution_count": null,
   "metadata": {},
   "outputs": [],
   "source": [
    "def orbital_elements(r, phi, area, rho, vrad, vphi, mu, mask=None):\n",
    "\n",
    "    #mass of each cell\n",
    "    mass = rho * area\n",
    "\n",
    "    #velocities in cartesian for each cell\n",
    "    vx = vrad*np.cos(phi) - vphi*np.sin(phi)\n",
    "    vy = vrad*np.sin(phi) + vphi*np.cos(phi)\n",
    "    \n",
    "    #cartesian coordinates\n",
    "    x  = r * np.cos(phi)\n",
    "    y  = r * np.sin(phi)\n",
    "\n",
    "    #specific angular momentum and speed squared\n",
    "    h2  = (x*vy - y*vx)**2\n",
    "    v2  = vx*vx + vy*vy\n",
    "\n",
    "    #smj axis from energy\n",
    "    eng = 0.5*v2 - mu/r\n",
    "    a   = -0.5*mu/eng\n",
    "    \n",
    "    #eccentricity\n",
    "    ecc = np.sqrt(1.0-h2/(mu*a))\n",
    "    \n",
    "    #weight by mass, calculate weighted eccentricity of each cell\n",
    "    if mask is None:\n",
    "        mask = np.ones(mass.shape, dtype=bool)\n",
    "        \n",
    "    mass = mass[mask]\n",
    "    a = a[mask]\n",
    "    ecc = ecc[mask]\n",
    "    \n",
    "    total_mass = np.sum(mass)\n",
    "    \n",
    "    weighted_a = np.sum(a*mass)/total_mass\n",
    "    weighted_ecc = np.sum(ecc*mass)/total_mass\n",
    "\n",
    "    return {\"a\" : weighted_a, \"e\" : weighted_ecc}\n",
    "mu = (astropy.constants.G*u.solMass).to_value(\"au3/yr2\")"
   ]
  },
  {
   "cell_type": "code",
   "execution_count": null,
   "metadata": {},
   "outputs": [],
   "source": [
    "orbital_elements(vd.radius, vd.azimuth, vd.area, vd.surface_density, vrad, vphi, mu)"
   ]
  },
  {
   "cell_type": "code",
   "execution_count": 5,
   "metadata": {},
   "outputs": [
    {
     "ename": "NameError",
     "evalue": "name 'orbital_elements' is not defined",
     "output_type": "error",
     "traceback": [
      "\u001b[0;31m---------------------------------------------------------------------------\u001b[0m",
      "\u001b[0;31mNameError\u001b[0m                                 Traceback (most recent call last)",
      "\u001b[0;32m<ipython-input-5-7699802fe80a>\u001b[0m in \u001b[0;36m<module>\u001b[0;34m\u001b[0m\n\u001b[0;32m----> 1\u001b[0;31m \u001b[0morbital_elements\u001b[0m\u001b[0;34m(\u001b[0m\u001b[0mvd\u001b[0m\u001b[0;34m.\u001b[0m\u001b[0mradius\u001b[0m\u001b[0;34m,\u001b[0m \u001b[0mvd\u001b[0m\u001b[0;34m.\u001b[0m\u001b[0mazimuth\u001b[0m\u001b[0;34m,\u001b[0m \u001b[0mvd\u001b[0m\u001b[0;34m.\u001b[0m\u001b[0marea\u001b[0m\u001b[0;34m,\u001b[0m \u001b[0mvd\u001b[0m\u001b[0;34m.\u001b[0m\u001b[0msurface_density\u001b[0m\u001b[0;34m,\u001b[0m \u001b[0mvrad\u001b[0m\u001b[0;34m,\u001b[0m \u001b[0mvphi\u001b[0m\u001b[0;34m,\u001b[0m \u001b[0mmu\u001b[0m\u001b[0;34m,\u001b[0m \u001b[0mmask\u001b[0m\u001b[0;34m=\u001b[0m\u001b[0mvd\u001b[0m\u001b[0;34m.\u001b[0m\u001b[0mvortices\u001b[0m\u001b[0;34m[\u001b[0m\u001b[0;36m0\u001b[0m\u001b[0;34m]\u001b[0m\u001b[0;34m[\u001b[0m\u001b[0;34m\"contour\"\u001b[0m\u001b[0;34m]\u001b[0m\u001b[0;34m[\u001b[0m\u001b[0;34m\"mask\"\u001b[0m\u001b[0;34m]\u001b[0m\u001b[0;34m)\u001b[0m\u001b[0;34m\u001b[0m\u001b[0;34m\u001b[0m\u001b[0m\n\u001b[0m",
      "\u001b[0;31mNameError\u001b[0m: name 'orbital_elements' is not defined"
     ]
    }
   ],
   "source": [
    "orbital_elements(vd.radius, vd.azimuth, vd.area, vd.surface_density, vrad, vphi, mu, mask=vd.vortices[0][\"contour\"][\"mask\"])"
   ]
  },
  {
   "cell_type": "code",
   "execution_count": 6,
   "metadata": {
    "tags": []
   },
   "outputs": [
    {
     "ename": "AttributeError",
     "evalue": "'Vortector' object has no attribute 'vortices'",
     "output_type": "error",
     "traceback": [
      "\u001b[0;31m---------------------------------------------------------------------------\u001b[0m",
      "\u001b[0;31mAttributeError\u001b[0m                            Traceback (most recent call last)",
      "\u001b[0;32m<ipython-input-6-7cabf3919c80>\u001b[0m in \u001b[0;36m<module>\u001b[0;34m\u001b[0m\n\u001b[0;32m----> 1\u001b[0;31m \u001b[0mr0\u001b[0m \u001b[0;34m=\u001b[0m \u001b[0mvd\u001b[0m\u001b[0;34m.\u001b[0m\u001b[0mvortices\u001b[0m\u001b[0;34m[\u001b[0m\u001b[0;36m0\u001b[0m\u001b[0;34m]\u001b[0m\u001b[0;34m[\u001b[0m\u001b[0;34m\"fits\"\u001b[0m\u001b[0;34m]\u001b[0m\u001b[0;34m[\u001b[0m\u001b[0;34m\"surface_density\"\u001b[0m\u001b[0;34m]\u001b[0m\u001b[0;34m[\u001b[0m\u001b[0;34m\"r0\"\u001b[0m\u001b[0;34m]\u001b[0m\u001b[0;34m\u001b[0m\u001b[0;34m\u001b[0m\u001b[0m\n\u001b[0m\u001b[1;32m      2\u001b[0m \u001b[0mhr\u001b[0m \u001b[0;34m=\u001b[0m \u001b[0mnp\u001b[0m\u001b[0;34m.\u001b[0m\u001b[0msqrt\u001b[0m\u001b[0;34m(\u001b[0m\u001b[0;36m2\u001b[0m\u001b[0;34m*\u001b[0m\u001b[0mnp\u001b[0m\u001b[0;34m.\u001b[0m\u001b[0mlog\u001b[0m\u001b[0;34m(\u001b[0m\u001b[0;36m2\u001b[0m\u001b[0;34m)\u001b[0m\u001b[0;34m)\u001b[0m\u001b[0;34m*\u001b[0m\u001b[0mvd\u001b[0m\u001b[0;34m.\u001b[0m\u001b[0mvortices\u001b[0m\u001b[0;34m[\u001b[0m\u001b[0;36m0\u001b[0m\u001b[0;34m]\u001b[0m\u001b[0;34m[\u001b[0m\u001b[0;34m\"fits\"\u001b[0m\u001b[0;34m]\u001b[0m\u001b[0;34m[\u001b[0m\u001b[0;34m\"surface_density\"\u001b[0m\u001b[0;34m]\u001b[0m\u001b[0;34m[\u001b[0m\u001b[0;34m\"sigma_r\"\u001b[0m\u001b[0;34m]\u001b[0m\u001b[0;34m\u001b[0m\u001b[0;34m\u001b[0m\u001b[0m\n\u001b[1;32m      3\u001b[0m \u001b[0mphi0\u001b[0m \u001b[0;34m=\u001b[0m \u001b[0mvd\u001b[0m\u001b[0;34m.\u001b[0m\u001b[0mvortices\u001b[0m\u001b[0;34m[\u001b[0m\u001b[0;36m0\u001b[0m\u001b[0;34m]\u001b[0m\u001b[0;34m[\u001b[0m\u001b[0;34m\"fits\"\u001b[0m\u001b[0;34m]\u001b[0m\u001b[0;34m[\u001b[0m\u001b[0;34m\"surface_density\"\u001b[0m\u001b[0;34m]\u001b[0m\u001b[0;34m[\u001b[0m\u001b[0;34m\"phi0\"\u001b[0m\u001b[0;34m]\u001b[0m\u001b[0;34m\u001b[0m\u001b[0;34m\u001b[0m\u001b[0m\n\u001b[1;32m      4\u001b[0m \u001b[0mhphi\u001b[0m \u001b[0;34m=\u001b[0m \u001b[0mnp\u001b[0m\u001b[0;34m.\u001b[0m\u001b[0msqrt\u001b[0m\u001b[0;34m(\u001b[0m\u001b[0;36m2\u001b[0m\u001b[0;34m*\u001b[0m\u001b[0mnp\u001b[0m\u001b[0;34m.\u001b[0m\u001b[0mlog\u001b[0m\u001b[0;34m(\u001b[0m\u001b[0;36m2\u001b[0m\u001b[0;34m)\u001b[0m\u001b[0;34m)\u001b[0m\u001b[0;34m*\u001b[0m\u001b[0mvd\u001b[0m\u001b[0;34m.\u001b[0m\u001b[0mvortices\u001b[0m\u001b[0;34m[\u001b[0m\u001b[0;36m0\u001b[0m\u001b[0;34m]\u001b[0m\u001b[0;34m[\u001b[0m\u001b[0;34m\"fits\"\u001b[0m\u001b[0;34m]\u001b[0m\u001b[0;34m[\u001b[0m\u001b[0;34m\"surface_density\"\u001b[0m\u001b[0;34m]\u001b[0m\u001b[0;34m[\u001b[0m\u001b[0;34m\"sigma_phi\"\u001b[0m\u001b[0;34m]\u001b[0m\u001b[0;34m\u001b[0m\u001b[0;34m\u001b[0m\u001b[0m\n\u001b[1;32m      5\u001b[0m \u001b[0mellipse_mask\u001b[0m \u001b[0;34m=\u001b[0m \u001b[0;34m(\u001b[0m\u001b[0;34m(\u001b[0m\u001b[0mvd\u001b[0m\u001b[0;34m.\u001b[0m\u001b[0mradius\u001b[0m \u001b[0;34m-\u001b[0m \u001b[0mr0\u001b[0m\u001b[0;34m)\u001b[0m\u001b[0;34m/\u001b[0m\u001b[0mhr\u001b[0m\u001b[0;34m)\u001b[0m\u001b[0;34m**\u001b[0m\u001b[0;36m2\u001b[0m \u001b[0;34m+\u001b[0m \u001b[0;34m(\u001b[0m\u001b[0;34m(\u001b[0m\u001b[0mvd\u001b[0m\u001b[0;34m.\u001b[0m\u001b[0mazimuth\u001b[0m \u001b[0;34m-\u001b[0m \u001b[0mphi0\u001b[0m\u001b[0;34m)\u001b[0m\u001b[0;34m/\u001b[0m\u001b[0mhphi\u001b[0m\u001b[0;34m)\u001b[0m\u001b[0;34m**\u001b[0m\u001b[0;36m2\u001b[0m \u001b[0;34m<=\u001b[0m \u001b[0;36m1\u001b[0m\u001b[0;34m\u001b[0m\u001b[0;34m\u001b[0m\u001b[0m\n",
      "\u001b[0;31mAttributeError\u001b[0m: 'Vortector' object has no attribute 'vortices'"
     ]
    }
   ],
   "source": [
    "r0 = vd.vortices[0][\"fits\"][\"surface_density\"][\"r0\"]\n",
    "hr = np.sqrt(2*np.log(2))*vd.vortices[0][\"fits\"][\"surface_density\"][\"sigma_r\"]\n",
    "phi0 = vd.vortices[0][\"fits\"][\"surface_density\"][\"phi0\"]\n",
    "hphi = np.sqrt(2*np.log(2))*vd.vortices[0][\"fits\"][\"surface_density\"][\"sigma_phi\"]\n",
    "ellipse_mask = ((vd.radius - r0)/hr)**2 + ((vd.azimuth - phi0)/hphi)**2 <= 1\n",
    "orbital_elements(vd.radius, vd.azimuth, vd.area, vd.surface_density, vrad, vphi, mu, mask=ellipse_mask)"
   ]
  },
  {
   "cell_type": "code",
   "execution_count": 7,
   "metadata": {
    "tags": []
   },
   "outputs": [
    {
     "ename": "NameError",
     "evalue": "name 'vrad' is not defined",
     "output_type": "error",
     "traceback": [
      "\u001b[0;31m---------------------------------------------------------------------------\u001b[0m",
      "\u001b[0;31mNameError\u001b[0m                                 Traceback (most recent call last)",
      "\u001b[0;32m<ipython-input-7-e697fac36886>\u001b[0m in \u001b[0;36m<module>\u001b[0;34m\u001b[0m\n\u001b[1;32m      1\u001b[0m \u001b[0;32mfrom\u001b[0m \u001b[0msrc\u001b[0m\u001b[0;34m.\u001b[0m\u001b[0mvortector\u001b[0m \u001b[0;32mimport\u001b[0m \u001b[0manalyze\u001b[0m\u001b[0;34m\u001b[0m\u001b[0;34m\u001b[0m\u001b[0m\n\u001b[0;32m----> 2\u001b[0;31m \u001b[0manalyze\u001b[0m\u001b[0;34m.\u001b[0m\u001b[0mcalc_orbital_elements\u001b[0m\u001b[0;34m(\u001b[0m\u001b[0mvd\u001b[0m\u001b[0;34m.\u001b[0m\u001b[0mradius\u001b[0m\u001b[0;34m,\u001b[0m \u001b[0mvd\u001b[0m\u001b[0;34m.\u001b[0m\u001b[0mazimuth\u001b[0m\u001b[0;34m,\u001b[0m \u001b[0mvd\u001b[0m\u001b[0;34m.\u001b[0m\u001b[0marea\u001b[0m\u001b[0;34m,\u001b[0m \u001b[0mvd\u001b[0m\u001b[0;34m.\u001b[0m\u001b[0msurface_density\u001b[0m\u001b[0;34m,\u001b[0m \u001b[0mvrad\u001b[0m\u001b[0;34m,\u001b[0m \u001b[0mvphi\u001b[0m\u001b[0;34m,\u001b[0m \u001b[0mmu\u001b[0m\u001b[0;34m,\u001b[0m \u001b[0mmask\u001b[0m\u001b[0;34m=\u001b[0m\u001b[0mellipse_mask\u001b[0m\u001b[0;34m)\u001b[0m\u001b[0;34m\u001b[0m\u001b[0;34m\u001b[0m\u001b[0m\n\u001b[0m",
      "\u001b[0;31mNameError\u001b[0m: name 'vrad' is not defined"
     ]
    }
   ],
   "source": [
    "from src.vortector import analyze\n",
    "analyze.calc_orbital_elements(vd.radius, vd.azimuth, vd.area, vd.surface_density, vrad, vphi, mu, mask=ellipse_mask)"
   ]
  },
  {
   "cell_type": "code",
   "execution_count": 14,
   "metadata": {},
   "outputs": [
    {
     "data": {
      "text/plain": [
       "{'a': 8.208406271102724, 'e': 0.018638957260289496}"
      ]
     },
     "execution_count": 14,
     "metadata": {},
     "output_type": "execute_result"
    }
   ],
   "source": [
    "analyze.calc_orbital_elements_vortector(vd, 0, vrad, vphi, mu, region=\"contour\")"
   ]
  },
  {
   "cell_type": "code",
   "execution_count": 15,
   "metadata": {},
   "outputs": [
    {
     "data": {
      "text/plain": [
       "{'a': 8.18388628152948, 'e': 0.019452842032688326}"
      ]
     },
     "execution_count": 15,
     "metadata": {},
     "output_type": "execute_result"
    }
   ],
   "source": [
    "analyze.calc_orbital_elements_vortector(vd, 0, vrad, vphi, mu, region=\"vortensity\")"
   ]
  },
  {
   "cell_type": "code",
   "execution_count": 16,
   "metadata": {},
   "outputs": [
    {
     "data": {
      "text/plain": [
       "{'a': 8.200570204684256, 'e': 0.01700690411244635}"
      ]
     },
     "execution_count": 16,
     "metadata": {},
     "output_type": "execute_result"
    }
   ],
   "source": [
    "analyze.calc_orbital_elements_vortector(vd, 0, vrad, vphi, mu, region=\"surface_density\")"
   ]
  },
  {
   "cell_type": "code",
   "execution_count": null,
   "metadata": {},
   "outputs": [],
   "source": []
  }
 ],
 "metadata": {
  "kernelspec": {
   "display_name": "Python 3",
   "language": "python",
   "name": "python3"
  },
  "language_info": {
   "codemirror_mode": {
    "name": "ipython",
    "version": 3
   },
   "file_extension": ".py",
   "mimetype": "text/x-python",
   "name": "python",
   "nbconvert_exporter": "python",
   "pygments_lexer": "ipython3",
   "version": "3.8.6"
  }
 },
 "nbformat": 4,
 "nbformat_minor": 4
}
