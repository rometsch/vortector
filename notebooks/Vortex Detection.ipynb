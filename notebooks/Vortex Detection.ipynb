{
 "cells": [
  {
   "cell_type": "code",
   "execution_count": 1,
   "metadata": {},
   "outputs": [],
   "source": [
    "import os\n",
    "from subprocess import run\n",
    "res = run([\"git\", \"rev-parse\", \"--show-toplevel\"], capture_output=True)\n",
    "root_dir = res.stdout.decode().strip()\n",
    "os.chdir(root_dir)"
   ]
  },
  {
   "cell_type": "code",
   "execution_count": 2,
   "metadata": {},
   "outputs": [],
   "source": [
    "import numpy as np\n",
    "import cv2\n",
    "import matplotlib as mpl\n",
    "import matplotlib.pyplot as plt\n",
    "import matplotlib.colors as colors\n",
    "import scipy.interpolate\n",
    "import astropy.units as u\n",
    "import astropy.constants\n",
    "\n",
    "import simdata\n",
    "\n",
    "%reload_ext autoreload\n",
    "%autoreload 2\n",
    "%load_ext line_profiler\n",
    "from importlib import reload\n",
    "from pprint import pprint\n",
    "\n",
    "from simdata_vorticity import provide_simulation_data\n",
    "from src.vortector.vortector import Vortector\n",
    "from src.vortector.visualize import show_fit_overview_2D, show_fit_overview_1D\n",
    "from src.vortector.contour import detect_elliptic_contours"
   ]
  },
  {
   "cell_type": "code",
   "execution_count": 3,
   "metadata": {},
   "outputs": [],
   "source": [
    "# very hard example overlapping with spiral arm\n",
    "\n",
    "# simid = \"4ae2169c\"\n",
    "# Noutput = 30\n",
    "\n",
    "# hard example\n",
    "\n",
    "# simid = \"306d9f0c\"\n",
    "# Noutput = 52\n",
    "\n",
    "# overlapping with boundary example\n",
    "\n",
    "# simid = \"9f976424\"\n",
    "# Noutput = 90\n",
    "\n",
    "# spiral arm artifact\n",
    "\n",
    "# simid = \"487fa644\"\n",
    "# Noutput = 222\n",
    "\n",
    "# big vortex example\n",
    "simid = \"3625e016\"\n",
    "Noutput = 200\n",
    "\n",
    "# easy example\n",
    "\n",
    "# simid = \"a122b63c\"\n",
    "# Noutput = 75\n",
    "\n",
    "# # faint vortex\n",
    "# simid = \"65a701a4\"\n",
    "# Noutput = 380\n",
    "\n",
    "# another faint vortex\n",
    "# simid = \"b522b88a\"\n",
    "# Noutput = 116\n",
    "\n",
    "# no vortex\n",
    "\n",
    "# simid = \"3401c4d0\"\n",
    "# Noutput = 256\n",
    "\n",
    "# 8cps x 2cps example\n",
    "\n",
    "# simid = \"65a701a4\"\n",
    "# Noutput = 50\n",
    "\n",
    "# 16 cps example\n",
    "# simid = \"20ce240c\"\n",
    "# Noutput = 82 # overlapping with spiral, need 0.2 spacing in vortensity\n",
    "# Noutput = 83\n",
    "# Noutput = 84 # hard case barely passing\n",
    "\n",
    "# easier 16 cps example\n",
    "# simid = \"71cfb245\"\n",
    "# Noutput = 54\n",
    "\n",
    "# transition disk example\n",
    "# vortex in migration jump paper\n",
    "# simid = \"d132cf47\"\n",
    "# Noutput = 524\n",
    "\n",
    "# multiple vortices example\n",
    "# simid = \"b522b88a\"\n",
    "# Noutput  = 40\n",
    "\n",
    "\n",
    "## weak vortex inspection\n",
    "# simid = \"5071c355\"\n",
    "# Noutput = 145\n",
    "\n",
    "# weird disk structure outside\n",
    "# simid = \"f14ce0ba\"\n",
    "# Noutput = 387\n",
    "\n",
    "\n",
    "levels = [float(x) for x in np.arange(-1,1.5,0.05)]\n",
    "\n",
    "# if \"run_vortector\" in locals() and \"calc_quantities\" in locals():\n",
    "#     print(\"running vortector\")\n",
    "#     X, Y, Xc, Yc, A, vortensity, vorticity, Rho, Rho_background = calc_quantities()\n",
    "#     run_vortector()\n",
    "\n",
    "Xc, Yc, A, vortensity, vorticity, Rho, Rho_background = provide_simulation_data(simid, Noutput)"
   ]
  },
  {
   "cell_type": "code",
   "execution_count": 8,
   "metadata": {
    "scrolled": true
   },
   "outputs": [
    {
     "name": "stdout",
     "output_type": "stream",
     "text": [
      "Warning: Cannot change to a different GUI toolkit: notebook. Using widget instead.\n",
      "CPU times: user 444 ms, sys: 193 ms, total: 637 ms\n",
      "Wall time: 190 ms\n"
     ]
    },
    {
     "data": {
      "application/vnd.jupyter.widget-view+json": {
       "model_id": "adb83fcffaa141dda174062483459920",
       "version_major": 2,
       "version_minor": 0
      },
      "text/plain": [
       "Canvas(toolbar=Toolbar(toolitems=[('Home', 'Reset original view', 'home', 'home'), ('Back', 'Back to previous …"
      ]
     },
     "metadata": {},
     "output_type": "display_data"
    }
   ],
   "source": [
    "%matplotlib notebook\n",
    "Rlims = [5.2, 15]\n",
    "nl = np.argmin(np.abs(Xc[:,0]-Rlims[0]))\n",
    "nr = np.argmin(np.abs(Xc[:,0]-Rlims[1]))\n",
    "vd = Vortector(Xc[nl:nr,:], Yc[nl:nr,:], A[nl:nr,:], vortensity[nl:nr,:], Rho[nl:nr,:],\n",
    "                         verbose=False, med=0.15, mear=np.inf,\n",
    "                         levels=levels\n",
    "                        )\n",
    "%time vortices = vd.detect(include_mask=True, keep_internals=True)\n",
    "# for v in vd.vortices:\n",
    "#     try:\n",
    "#         v[\"strength\"] = np.exp(-v[\"vortensity_median\"])*v[\"mass\"]\n",
    "#         print(\"strength = {:.2e}, mass = {:.2e} , min vort = {:.3f}, sigma fit r_diff = {:.2e} phi_diff = {:.2e}\".format(\n",
    "#             v['strength'],v['mass'],v['vortensity_min'],v[\"sigma_fit_r_reldiff\"],v[\"sigma_fit_phi_reldiff\"]))\n",
    "#         print(f\"    contour diff 2D = {v['sigma_fit_contour_diff_2D']:.2e} , contour reldiff 2D = {v['sigma_fit_contour_reldiff_2D']:.2e}\")\n",
    "#         print(f\"    ellipse diff 2D = {v['sigma_fit_ellipse_diff_2D']:.2e} , ellipse reldiff 2D = {v['sigma_fit_ellipse_reldiff_2D']:.2e}\")\n",
    "#         print(f\"    area_ratio_ellipse_to_contour = {v['sigma_fit_area_ratio_ellipse_to_contour']:.2e}\")\n",
    "#     except KeyError:\n",
    "#         pass\n",
    "    \n",
    "show_fit_overview_2D(vd)"
   ]
  },
  {
   "cell_type": "code",
   "execution_count": 10,
   "metadata": {},
   "outputs": [
    {
     "name": "stdout",
     "output_type": "stream",
     "text": [
      "The snakeviz extension is already loaded. To reload it, use:\n",
      "  %reload_ext snakeviz\n",
      " \n",
      "*** Profile stats marshalled to file '/tmp/tmp7bl0oeoc'. \n",
      "Embedding SnakeViz in this document...\n"
     ]
    },
    {
     "data": {
      "text/html": [
       "\n",
       "<iframe id='snakeviz-b0a7cf1c-b177-11eb-871c-2f61dc0c037a' frameborder=0 seamless width='100%' height='1000'></iframe>\n",
       "<script>document.getElementById(\"snakeviz-b0a7cf1c-b177-11eb-871c-2f61dc0c037a\").setAttribute(\"src\", \"http://\" + document.location.hostname + \":8080/snakeviz/%2Ftmp%2Ftmp7bl0oeoc\")</script>\n"
      ],
      "text/plain": [
       "<IPython.core.display.HTML object>"
      ]
     },
     "metadata": {},
     "output_type": "display_data"
    }
   ],
   "source": [
    "%load_ext snakeviz\n",
    "%snakeviz vd.detect()"
   ]
  },
  {
   "cell_type": "code",
   "execution_count": 6,
   "metadata": {},
   "outputs": [],
   "source": [
    "contour = vd.vortices[0][\"contour\"]\n",
    "boundary_pnts = contour[\"detection\"][\"boundary\"]\n",
    "ellipse_dict = contour[\"detection\"][\"ellipse\"]\n",
    "ellipse = (ellipse_dict[\"center_img\"], ellipse_dict[\"axesLengths_img\"], ellipse_dict[\"angle_img\"])"
   ]
  },
  {
   "cell_type": "code",
   "execution_count": 7,
   "metadata": {},
   "outputs": [
    {
     "data": {
      "application/vnd.jupyter.widget-view+json": {
       "model_id": "a78e4238364c4d00a861a7dc7201de34",
       "version_major": 2,
       "version_minor": 0
      },
      "text/plain": [
       "Canvas(toolbar=Toolbar(toolitems=[('Home', 'Reset original view', 'home', 'home'), ('Back', 'Back to previous …"
      ]
     },
     "metadata": {},
     "output_type": "display_data"
    },
    {
     "data": {
      "text/plain": [
       "[<matplotlib.lines.Line2D at 0x7f50ddd1c5b0>]"
      ]
     },
     "execution_count": 7,
     "metadata": {},
     "output_type": "execute_result"
    }
   ],
   "source": [
    "%matplotlib widget\n",
    "# detemine minimum and maximum extend of the ellipse\n",
    "xmin = np.min(boundary_pnts[:, 0, 0])\n",
    "xmax = np.max(boundary_pnts[:, 0, 0])\n",
    "ymin = np.min(boundary_pnts[:, 0, 1])\n",
    "ymax = np.max(boundary_pnts[:, 0, 1])\n",
    "\n",
    "# make sure the ellipse also fits\n",
    "ec = ellipse[0]\n",
    "L = np.ceil(np.max(ellipse[1])/2)\n",
    "xmin = int(min(ec[0]-L, xmin))\n",
    "xmax = int(max(ec[0]+L, xmin))\n",
    "ymin = int(min(ec[1]-L, ymin))\n",
    "ymax = int(max(ec[1]+L, ymax))\n",
    "\n",
    "Nx = xmax - xmin\n",
    "Ny = ymax - ymin\n",
    "\n",
    "img_shape = (Ny, Nx, 3)\n",
    "\n",
    "# adjust a copy of the boundary points\n",
    "boundary_pnts = np.copy(boundary_pnts)\n",
    "boundary_pnts[:, 0, 0] -= xmin\n",
    "boundary_pnts[:, 0, 1] -= ymin\n",
    "\n",
    "# adjust a copy of the ellipse\n",
    "ellipse = ((ellipse[0][0] - xmin, ellipse[0][1] - ymin),\n",
    "           ellipse[1], ellipse[2])\n",
    "\n",
    "background = 200\n",
    "im_shape = background*np.ones(img_shape, dtype=np.int32)\n",
    "cv2.drawContours(im_shape, [boundary_pnts], 0, (255, 255, 255), -1)\n",
    "\n",
    "im_ellipse = background*np.ones(img_shape, dtype=np.int32)\n",
    "im_ellipse = cv2.ellipse(im_ellipse, ellipse, (255, 255, 255), -1)\n",
    "\n",
    "im_diff = np.abs(im_shape - im_ellipse)\n",
    "\n",
    "for im in [im_shape, im_diff, im_ellipse]:\n",
    "    cv2.ellipse(im, ellipse, (255,100,0), 5)\n",
    "    cv2.drawContours(im, [boundary_pnts], 0, (70, 130, 180), 4)\n",
    "\n",
    "# fig, axes = plt.subplots(2,2, dpi=150)\n",
    "# axes[0,0].imshow(im_shape)\n",
    "# axes[0,1].imshow(im_ellipse)\n",
    "# axes[1,0].imshow(im_diff)\n",
    "\n",
    "\n",
    "fig, ax = plt.subplots(dpi=150)\n",
    "ax.imshow(im_shape)\n",
    "bx = boundary_pnts[:, 0, 0]\n",
    "by = boundary_pnts[:, 0, 1]\n",
    "ax.plot(bx, by, \"x\", markersize=1)\n",
    "\n",
    "def ellipse_pnt(x, y, ellipse):\n",
    "    angle = ellipse[2]/180*np.pi\n",
    "    cx = ellipse[0][0]\n",
    "    cy = ellipse[0][1]\n",
    "    e1 = ellipse[1][0]/2\n",
    "    e2 = ellipse[1][1]/2\n",
    "    \n",
    "    l = np.sqrt((x-cx)**2 + (y-cy)**2)\n",
    "    nx = (x-cx) / l\n",
    "    ny = (y-cy) / l\n",
    "    \n",
    "    na = np.arctan2(ny, nx)\n",
    "    alpha = na - angle\n",
    "    \n",
    "    tansq = np.tan(alpha)**2\n",
    "    length = e1 * np.sqrt((1+tansq)/(1+tansq*e1**2/e2**2))\n",
    "    \n",
    "    px = cx + length * nx\n",
    "    py = cy + length * ny\n",
    "    \n",
    "    return px, py\n",
    "\n",
    "\n",
    "px, py = ellipse_pnt(bx, by, ellipse)\n",
    "ax.plot(px, py, \"rx\", markersize=0.5)\n",
    "\n",
    "cx = ellipse[0][0]\n",
    "cy = ellipse[0][1]\n",
    "\n",
    "def plot_lines(ax, sx, sy, tx, ty, stride=17, **kwargs):\n",
    "    for _sx, _sy, _tx, _ty, n in zip(sx, sy, tx, ty, range(len(sx))):\n",
    "        if n % stride == 0:\n",
    "            ax.plot([_sx, _tx], [_sy, _ty], **kwargs)\n",
    "\n",
    "\n",
    "plot_lines(ax, bx, by, px, py, alpha=0.5, lw=0.4, color=\"C2\")\n",
    "# cxs = cx*np.ones(len(px))\n",
    "# cys = cy*np.ones(len(py))\n",
    "# plot_lines(ax, cxs, cys, px, py, stride=1, alpha=0.5, lw=1, color=\"C2\")\n",
    "# plot_lines(ax, cxs, cys, bx, by, stride=1, alpha=0.5, lw=1, ls=\":\", color=\"C3\")\n",
    "\n",
    "\n",
    "ax.plot(cx, cy, \"gx\")"
   ]
  },
  {
   "cell_type": "code",
   "execution_count": 8,
   "metadata": {},
   "outputs": [
    {
     "name": "stdout",
     "output_type": "stream",
     "text": [
      "Nstride = 17\n",
      "CPU times: user 4.41 ms, sys: 80 µs, total: 4.49 ms\n",
      "Wall time: 4.66 ms\n"
     ]
    },
    {
     "data": {
      "text/plain": [
       "31492.558934917677"
      ]
     },
     "execution_count": 8,
     "metadata": {},
     "output_type": "execute_result"
    }
   ],
   "source": [
    "def ellipse_pnt(x, y, ellipse):\n",
    "    angle = ellipse[2]/180*np.pi\n",
    "    cx = ellipse[0][0]\n",
    "    cy = ellipse[0][1]\n",
    "    e1 = ellipse[1][0]/2\n",
    "    e2 = ellipse[1][1]/2\n",
    "    \n",
    "    l = np.sqrt((x-cx)**2 + (y-cy)**2)\n",
    "    nx = (x-cx) / l\n",
    "    ny = (y-cy) / l\n",
    "    \n",
    "    na = np.arctan2(ny, nx)\n",
    "    alpha = na - angle\n",
    "    \n",
    "    tansq = np.tan(alpha)**2\n",
    "    length = e1 * np.sqrt((1+tansq)/(1+tansq*e1**2/e2**2))\n",
    "    \n",
    "    px = cx + length * nx\n",
    "    py = cy + length * ny\n",
    "    \n",
    "    return px, py\n",
    "\n",
    "\n",
    "def tetragon_area(p1,p2,p3,p4):\n",
    "    return triangle_area(p1,p2,p3) + triangle_area(p1,p3,p4)\n",
    "    \n",
    "def triangle_area(p1,p2,p3):\n",
    "    signed_area = (\n",
    "        +p3[0] * (p1[1] - p2[1])\n",
    "        + p1[0] * (p2[1] - p3[1])\n",
    "        + p2[0] * (p3[1] - p1[1])\n",
    "    ) / 2\n",
    "    return np.abs(signed_area)\n",
    "\n",
    "def calc_diff_area(bx, by, ellipse):\n",
    "    px, py = ellipse_pnt(bx, by, ellipse)\n",
    "    area = 0\n",
    "    for n in range(len(px)-1):\n",
    "        p1 = [px[n], py[n]]\n",
    "        p4 = [px[n+1], py[n+1]]\n",
    "        p2 = [bx[n], by[n]]\n",
    "        p3 = [bx[n+1], by[n+1]]\n",
    "        area += tetragon_area(p1,p2,p3,p4)\n",
    "    return area\n",
    "\n",
    "bx = contour[\"detection\"][\"boundary\"][:,0,0]\n",
    "by = contour[\"detection\"][\"boundary\"][:,0,1]\n",
    "ellipse_dict = contour[\"detection\"][\"ellipse\"]\n",
    "ellipse = (ellipse_dict[\"center_img\"], ellipse_dict[\"axesLengths_img\"], ellipse_dict[\"angle_img\"])\n",
    "\n",
    "\n",
    "if len(bx) > 100:\n",
    "    Nstride = int(np.ceil(len(bx)/100))\n",
    "else:\n",
    "    Nstride = 1\n",
    "print(f\"Nstride = {Nstride}\")\n",
    "%time calc_diff_area(bx[::Nstride], by[::Nstride], ellipse)\n",
    "\n"
   ]
  },
  {
   "cell_type": "code",
   "execution_count": 9,
   "metadata": {},
   "outputs": [
    {
     "name": "stdout",
     "output_type": "stream",
     "text": [
      "CPU times: user 3.41 ms, sys: 3.88 ms, total: 7.29 ms\n",
      "Wall time: 6.67 ms\n"
     ]
    },
    {
     "data": {
      "text/plain": [
       "(28217.0, 28217.0)"
      ]
     },
     "execution_count": 9,
     "metadata": {},
     "output_type": "execute_result"
    }
   ],
   "source": [
    "from src.vortector.contour import ellipse_deviation_draw\n",
    "boundary_pnts = contour[\"detection\"][\"boundary\"]\n",
    "%time ellipse_deviation_draw(boundary_pnts, ellipse, 1)"
   ]
  },
  {
   "cell_type": "code",
   "execution_count": 10,
   "metadata": {},
   "outputs": [
    {
     "data": {
      "text/plain": [
       "31492.558934917677"
      ]
     },
     "execution_count": 10,
     "metadata": {},
     "output_type": "execute_result"
    }
   ],
   "source": [
    "contour[\"detection\"][\"ellipse_area_delta\"]"
   ]
  },
  {
   "cell_type": "code",
   "execution_count": 11,
   "metadata": {},
   "outputs": [
    {
     "data": {
      "application/vnd.jupyter.widget-view+json": {
       "model_id": "0a1a0d605ebd4653b34f0c0606374816",
       "version_major": 2,
       "version_minor": 0
      },
      "text/plain": [
       "Canvas(toolbar=Toolbar(toolitems=[('Home', 'Reset original view', 'home', 'home'), ('Back', 'Back to previous …"
      ]
     },
     "metadata": {},
     "output_type": "display_data"
    },
    {
     "name": "stdout",
     "output_type": "stream",
     "text": [
      "Fri Apr 30 19:20:03 2021    restats\n",
      "\n",
      "         227173 function calls (221501 primitive calls) in 1.338 seconds\n",
      "\n",
      "   Ordered by: internal time\n",
      "   List reduced from 1332 to 10 due to restriction <10>\n",
      "\n",
      "   ncalls  tottime  percall  cumtime  percall filename:lineno(function)\n",
      "       12    0.432    0.036    0.432    0.036 {method 'encode' of 'ImagingEncoder' objects}\n",
      "       50    0.155    0.003    0.155    0.003 {method 'create_contour' of 'matplotlib.QuadContourGenerator' objects}\n",
      "      759    0.098    0.000    0.098    0.000 gaussfit.py:28(gauss2D)\n",
      "       50    0.075    0.001    0.080    0.002 {method 'draw_path_collection' of 'matplotlib.backends._backend_agg.RendererAgg' objects}\n",
      "      105    0.070    0.001    0.075    0.001 decomp_svd.py:16(svd)\n",
      "     8422    0.060    0.000    0.060    0.000 contour.py:341(triangle_area)\n",
      "        1    0.034    0.034    0.034    0.034 {method 'take' of 'numpy.ndarray' objects}\n",
      "      640    0.026    0.000    0.026    0.000 {built-in method numpy.zeros}\n",
      "6916/5149    0.018    0.000    0.055    0.000 {built-in method numpy.core._multiarray_umath.implement_array_function}\n",
      "        1    0.016    0.016    0.016    0.016 {findContours}\n",
      "\n",
      "\n"
     ]
    },
    {
     "data": {
      "text/plain": [
       "<pstats.Stats at 0x7f50ddf4c760>"
      ]
     },
     "execution_count": 11,
     "metadata": {},
     "output_type": "execute_result"
    }
   ],
   "source": [
    "import cProfile\n",
    "import pstats\n",
    "from pstats import SortKey\n",
    "p = cProfile.run(\"vd.detect()\", \"restats\");\n",
    "p = pstats.Stats('restats')\n",
    "p.strip_dirs().sort_stats(SortKey.TIME).print_stats(10)"
   ]
  },
  {
   "cell_type": "code",
   "execution_count": 12,
   "metadata": {},
   "outputs": [
    {
     "data": {
      "application/vnd.jupyter.widget-view+json": {
       "model_id": "8b5ba9ef2d6145bfabf1b572d80183da",
       "version_major": 2,
       "version_minor": 0
      },
      "text/plain": [
       "Canvas(toolbar=Toolbar(toolitems=[('Home', 'Reset original view', 'home', 'home'), ('Back', 'Back to previous …"
      ]
     },
     "metadata": {},
     "output_type": "display_data"
    },
    {
     "name": "stdout",
     "output_type": "stream",
     "text": [
      "Fri Apr 30 19:20:04 2021    restats\n",
      "\n",
      "         227389 function calls (221717 primitive calls) in 1.425 seconds\n",
      "\n",
      "   Ordered by: internal time\n",
      "   List reduced from 1332 to 10 due to restriction <10>\n",
      "\n",
      "   ncalls  tottime  percall  cumtime  percall filename:lineno(function)\n",
      "       12    0.430    0.036    0.430    0.036 {method 'encode' of 'ImagingEncoder' objects}\n",
      "       50    0.152    0.003    0.152    0.003 {method 'create_contour' of 'matplotlib.QuadContourGenerator' objects}\n",
      "      759    0.103    0.000    0.103    0.000 gaussfit.py:28(gauss2D)\n",
      "       50    0.077    0.002    0.082    0.002 {method 'draw_path_collection' of 'matplotlib.backends._backend_agg.RendererAgg' objects}\n",
      "        1    0.064    0.064    0.064    0.064 contour.py:191(<dictcomp>)\n",
      "     8422    0.062    0.000    0.062    0.000 contour.py:341(triangle_area)\n",
      "      105    0.055    0.001    0.061    0.001 decomp_svd.py:16(svd)\n",
      "      640    0.045    0.000    0.045    0.000 {built-in method numpy.zeros}\n",
      "6916/5149    0.044    0.000    0.081    0.000 {built-in method numpy.core._multiarray_umath.implement_array_function}\n",
      "        1    0.036    0.036    0.036    0.036 {method 'take' of 'numpy.ndarray' objects}\n",
      "\n",
      "\n"
     ]
    },
    {
     "data": {
      "text/plain": [
       "<pstats.Stats at 0x7f50ddfa5100>"
      ]
     },
     "execution_count": 12,
     "metadata": {},
     "output_type": "execute_result"
    }
   ],
   "source": [
    "import cProfile\n",
    "import pstats\n",
    "from pstats import SortKey\n",
    "p = cProfile.run(\"vd.detect()\", \"restats\");\n",
    "p = pstats.Stats('restats')\n",
    "p.strip_dirs().sort_stats(SortKey.TIME).print_stats(10)"
   ]
  },
  {
   "cell_type": "code",
   "execution_count": 13,
   "metadata": {},
   "outputs": [
    {
     "data": {
      "application/vnd.jupyter.widget-view+json": {
       "model_id": "e722385831da45f0a9d4192a2f0af1ab",
       "version_major": 2,
       "version_minor": 0
      },
      "text/plain": [
       "Canvas(toolbar=Toolbar(toolitems=[('Home', 'Reset original view', 'home', 'home'), ('Back', 'Back to previous …"
      ]
     },
     "metadata": {},
     "output_type": "display_data"
    }
   ],
   "source": [
    "show_fit_overview_1D(vd, 1)"
   ]
  },
  {
   "cell_type": "code",
   "execution_count": 14,
   "metadata": {},
   "outputs": [
    {
     "data": {
      "text/plain": [
       "{'contour': {'detection': {'boundary': array([[[732, 928]],\n",
       "   \n",
       "          [[733, 927]],\n",
       "   \n",
       "          [[734, 927]],\n",
       "   \n",
       "          ...,\n",
       "   \n",
       "          [[729, 929]],\n",
       "   \n",
       "          [[730, 928]],\n",
       "   \n",
       "          [[731, 928]]], dtype=int32),\n",
       "   'opencv_contour_number': 2605,\n",
       "   'pixel_area': 218080.5,\n",
       "   'pixel_arcLength': 2015.530210852623,\n",
       "   'bounding_hor_img': array([921, 480], dtype=int32),\n",
       "   'bounding_vert_img': array([ 927, 1712], dtype=int32),\n",
       "   'bottom_img': (745, 1712),\n",
       "   'top_img': (733, 927),\n",
       "   'left_img': (480, 1281),\n",
       "   'right_img': (921, 1280),\n",
       "   'dx_img': 441,\n",
       "   'dy_img': 785,\n",
       "   'ellipse': {'center_img': (707.2640380859375, 1302.576904296875),\n",
       "    'axesLengths_img': (409.3416442871094, 712.1373901367188),\n",
       "    'angle_img': 179.78759765625},\n",
       "   'mask_img': array([[0, 0, 0, ..., 0, 0, 0],\n",
       "          [0, 0, 0, ..., 0, 0, 0],\n",
       "          [0, 0, 0, ..., 0, 0, 0],\n",
       "          ...,\n",
       "          [0, 0, 0, ..., 0, 0, 0],\n",
       "          [0, 0, 0, ..., 0, 0, 0],\n",
       "          [0, 0, 0, ..., 0, 0, 0]], dtype=int8),\n",
       "   'ellipse_area_delta_relative': 0.14440795456227254,\n",
       "   'ellipse_area_delta': 31492.558934917677,\n",
       "   'ancestors': [],\n",
       "   'descendants': [2606,\n",
       "    2607,\n",
       "    2608,\n",
       "    2609,\n",
       "    2610,\n",
       "    2611,\n",
       "    2612,\n",
       "    2613,\n",
       "    2614,\n",
       "    2615,\n",
       "    2616,\n",
       "    2617,\n",
       "    2618,\n",
       "    2619,\n",
       "    2620,\n",
       "    2621,\n",
       "    2622,\n",
       "    2623,\n",
       "    2624,\n",
       "    2625],\n",
       "   'parameters': {'Nx': 174,\n",
       "    'Ny': 1024,\n",
       "    'SNx': 1740,\n",
       "    'SNy': 2048,\n",
       "    'int_aspect': 5,\n",
       "    'supersample': [10, 2],\n",
       "    'max_ellipse_aspect_ratio': inf,\n",
       "    'max_ellipse_deviation': 0.15,\n",
       "    'levels': [-1.0,\n",
       "     -0.95,\n",
       "     -0.8999999999999999,\n",
       "     -0.8499999999999999,\n",
       "     -0.7999999999999998,\n",
       "     -0.7499999999999998,\n",
       "     -0.6999999999999997,\n",
       "     -0.6499999999999997,\n",
       "     -0.5999999999999996,\n",
       "     -0.5499999999999996,\n",
       "     -0.49999999999999956,\n",
       "     -0.4499999999999995,\n",
       "     -0.39999999999999947,\n",
       "     -0.3499999999999994,\n",
       "     -0.2999999999999994,\n",
       "     -0.24999999999999933,\n",
       "     -0.1999999999999993,\n",
       "     -0.14999999999999925,\n",
       "     -0.0999999999999992,\n",
       "     -0.049999999999999156,\n",
       "     8.881784197001252e-16,\n",
       "     0.05000000000000093,\n",
       "     0.10000000000000098,\n",
       "     0.15000000000000102,\n",
       "     0.20000000000000107,\n",
       "     0.2500000000000011,\n",
       "     0.30000000000000115,\n",
       "     0.3500000000000012,\n",
       "     0.40000000000000124,\n",
       "     0.4500000000000013,\n",
       "     0.5000000000000013,\n",
       "     0.5500000000000014,\n",
       "     0.6000000000000014,\n",
       "     0.6500000000000015,\n",
       "     0.7000000000000015,\n",
       "     0.7500000000000016,\n",
       "     0.8000000000000016,\n",
       "     0.8500000000000016,\n",
       "     0.9000000000000017,\n",
       "     0.9500000000000017,\n",
       "     1.0000000000000018,\n",
       "     1.0500000000000016,\n",
       "     1.1000000000000019,\n",
       "     1.1500000000000021,\n",
       "     1.200000000000002,\n",
       "     1.2500000000000018,\n",
       "     1.300000000000002,\n",
       "     1.3500000000000023,\n",
       "     1.4000000000000021,\n",
       "     1.450000000000002]}},\n",
       "  'mask': array([[False, False, False, ..., False, False, False],\n",
       "         [False, False, False, ..., False, False, False],\n",
       "         [False, False, False, ..., False, False, False],\n",
       "         ...,\n",
       "         [False, False, False, ..., False, False, False],\n",
       "         [False, False, False, ..., False, False, False],\n",
       "         [False, False, False, ..., False, False, False]]),\n",
       "  'bottom': (74, 680),\n",
       "  'top': (73, 48),\n",
       "  'left': (48, 895),\n",
       "  'right': (92, 896),\n",
       "  'stats': {'mass': 0.0014178130327481358,\n",
       "   'vortensity_avg': 0.2769596934057986,\n",
       "   'vortensity_med': 0.2611635065107023,\n",
       "   'vortensity_min': 0.0444439556567655,\n",
       "   'vortensity_max': 0.6343900733647928,\n",
       "   'surface_density_avg': 5.338791203867188e-05,\n",
       "   'surface_density_med': 4.769135498506695e-05,\n",
       "   'surface_density_min': 1.8436318509581375e-05,\n",
       "   'surface_density_max': 0.00010688185597783761,\n",
       "   'area': 26.382227926864296,\n",
       "   'rmax': 6.946515510100817,\n",
       "   'rmin': 9.083683848027157,\n",
       "   'phimin': -2.8440003807399785,\n",
       "   'phimax': 1.033903051034922,\n",
       "   'height': 3.8779034317749006,\n",
       "   'vortensity_min_pos': (8.040993987954765, 2.3101750665557756),\n",
       "   'vortensity_min_inds': (72, 888),\n",
       "   'surface_density_max_pos': (8.090164475824862, 2.3163109897073184),\n",
       "   'surface_density_max_inds': (73, 889),\n",
       "   'azimuthal_at_vortensity_min': {'vortensity_max': 0.7372561239214194,\n",
       "    'vortensity_avg': 0.4790988422537555,\n",
       "    'vortensity_med': 0.5916800380387961},\n",
       "   'azimuthal_at_surface_density_max': {'surface_density_min': 0.00010688185597783761,\n",
       "    'surface_density_avg': 3.553893372694304e-05,\n",
       "    'surface_density_med': 2.3783189464071736e-05}}},\n",
       " 'fits': {'vortensity': {'c': 0.6967065773193274,\n",
       "   'a': -0.716602221867675,\n",
       "   'r0': 8.020405480536654,\n",
       "   'phi0': 2.3144849009364177,\n",
       "   'sigma_r': 0.7404365619601935,\n",
       "   'sigma_phi': 0.6187127503969342,\n",
       "   'popt': array([ 0.69670658, -0.71660222,  8.02040548,  2.3144849 ,  0.74043656,\n",
       "           0.61871275]),\n",
       "   'pcov': array([[ 3.41469334e-05, -2.99086644e-05,  1.08661979e-07,\n",
       "           -3.70036455e-07,  2.81919923e-05,  2.75645092e-05],\n",
       "          [-2.99086644e-05,  2.74926765e-05, -1.12143787e-07,\n",
       "            3.29035462e-07, -2.33683101e-05, -2.33479125e-05],\n",
       "          [ 1.08661979e-07, -1.12143787e-07,  1.62093567e-06,\n",
       "           -6.80674180e-09,  2.06633387e-07,  5.29334376e-08],\n",
       "          [-3.70036455e-07,  3.29035462e-07, -6.80674180e-09,\n",
       "            9.54529517e-07, -3.42949813e-07, -2.65061479e-07],\n",
       "          [ 2.81919923e-05, -2.33683101e-05,  2.06633387e-07,\n",
       "           -3.42949813e-07,  2.67969606e-05,  2.31730858e-05],\n",
       "          [ 2.75645092e-05, -2.33479125e-05,  5.29334376e-08,\n",
       "           -2.65061479e-07,  2.31730858e-05,  2.36918082e-05]])},\n",
       "  'surface_density': {'c': 1.946109341911554e-05,\n",
       "   'a': 9.059359742389283e-05,\n",
       "   'r0': 8.083210431898827,\n",
       "   'phi0': 2.2961703598363568,\n",
       "   'sigma_r': 0.5482014257616034,\n",
       "   'sigma_phi': 0.40765191184435,\n",
       "   'popt': array([1.94610934e-05, 9.05935974e-05, 8.08321043e+00, 2.29617036e+00,\n",
       "          5.48201426e-01, 4.07651912e-01]),\n",
       "   'pcov': array([[ 1.91959712e-14, -1.16860902e-14,  3.55787670e-12,\n",
       "           -4.95125670e-13, -1.29115569e-10, -1.22377414e-10],\n",
       "          [-1.16860902e-14,  2.02680569e-14, -4.28238939e-12,\n",
       "            8.89189625e-13,  2.76278790e-11,  4.33821322e-11],\n",
       "          [ 3.55787670e-12, -4.28238939e-12,  4.95132385e-07,\n",
       "           -1.85004593e-09,  4.29387277e-08, -1.89546779e-08],\n",
       "          [-4.95125670e-13,  8.89189625e-13, -1.85004593e-09,\n",
       "            2.53121965e-07, -4.16083712e-09,  6.31376809e-10],\n",
       "          [-1.29115569e-10,  2.76278790e-11,  4.29387277e-08,\n",
       "           -4.16083712e-09,  1.51520947e-06,  8.50711151e-07],\n",
       "          [-1.22377414e-10,  4.33821322e-11, -1.89546779e-08,\n",
       "            6.31376809e-10,  8.50711151e-07,  1.05187503e-06]]),\n",
       "   'properties': {'ellipse_area_numerical': 7.875639742369026,\n",
       "    'area_ratio_ellipse_to_contour': 0.2985206467096541,\n",
       "    'contour_diff': 8.613813186902446e-05,\n",
       "    'contour_reldiff': 0.03604014047228636,\n",
       "    'contour_mass': 15.441298497013948,\n",
       "    'contour_mass_fit': 15.346773739206416,\n",
       "    'ellipse_diff': 2.090575193018701e-05,\n",
       "    'ellipse_reldiff': 0.029301000188890498,\n",
       "    'ellipse_mass': 2.1598409495942783,\n",
       "    'ellipse_mass_fit': 2.1541913501405388}}}}"
      ]
     },
     "execution_count": 14,
     "metadata": {},
     "output_type": "execute_result"
    }
   ],
   "source": [
    "vortices[0]"
   ]
  },
  {
   "cell_type": "markdown",
   "metadata": {},
   "source": [
    "## Test vortector class implementation"
   ]
  },
  {
   "cell_type": "markdown",
   "metadata": {},
   "source": [
    "Plot vortensity"
   ]
  },
  {
   "cell_type": "code",
   "execution_count": 15,
   "metadata": {},
   "outputs": [],
   "source": [
    "xlims = [5.2, 12]"
   ]
  },
  {
   "cell_type": "markdown",
   "metadata": {},
   "source": [
    "Detect vortex"
   ]
  },
  {
   "cell_type": "code",
   "execution_count": 60,
   "metadata": {},
   "outputs": [
    {
     "name": "stdout",
     "output_type": "stream",
     "text": [
      "f_Sigma 2.0\n",
      "threshold 0.3\n"
     ]
    },
    {
     "data": {
      "application/vnd.jupyter.widget-view+json": {
       "model_id": "39693bbef1434149923d545831e60e60",
       "version_major": 2,
       "version_minor": 0
      },
      "text/plain": [
       "Canvas(toolbar=Toolbar(toolitems=[('Home', 'Reset original view', 'home', 'home'), ('Back', 'Back to previous …"
      ]
     },
     "metadata": {},
     "output_type": "display_data"
    },
    {
     "name": "stdout",
     "output_type": "stream",
     "text": [
      "argmin ind 344952 inds (336, 888) x 8.040993987954765 y 2.3009711818284617 Zmin 0.0444439556567655\n",
      "normalized Z 0.07799525531822525\n",
      "ratio rho_avg / rho0 1.7549125447017313\n",
      "ratio rho_max / rho0 5.308328992437491\n"
     ]
    }
   ],
   "source": [
    "rmin = 5.2\n",
    "rmax = 10\n",
    "\n",
    "mask_loc_inner = Xc < rmin\n",
    "mask_loc_outer = Xc > rmax\n",
    "mask_loc = np.logical_or(mask_loc_inner, mask_loc_outer)\n",
    "\n",
    "\n",
    "n_overshoot_vort = 2\n",
    "thresholds = [0.1, 0.2, 0.3, 0.4, 0.5, 0.6, 0.7, 0.8, 0.9, 1.0]\n",
    "\n",
    "\n",
    "n_overshoot_Sigma = 2\n",
    "f_Sigmas = [2.0, 1.9, 1.8, 1.7, 1.6, 1.5]\n",
    "\n",
    "for vorticity_th in thresholds:\n",
    "    mask_vorticity = vorticity > vorticity_th\n",
    "    for f_Sigma in f_Sigmas:\n",
    "        mask_dens = Rho < f_Sigma * Rho_background\n",
    "        mask = np.logical_or(mask_loc, mask_dens)\n",
    "        mask = np.logical_or(mask, mask_vorticity)\n",
    "        if np.sum(mask == 0) < 1000:\n",
    "            continue\n",
    "        else:\n",
    "            if n_overshoot_Sigma <= 0:\n",
    "                break\n",
    "            else:\n",
    "                n_overshoot_Sigma -= 1\n",
    "                continue\n",
    "    if np.sum(mask == 0) > 0:\n",
    "        if n_overshoot_vort <= 0:\n",
    "            print(\"f_Sigma\",f_Sigma)\n",
    "            print(\"threshold\", vorticity_th)\n",
    "            break\n",
    "        else:\n",
    "            n_overshoot_vort -= 1\n",
    "\n",
    "vals = np.ma.masked_array(vortensity, mask=mask)\n",
    "\n",
    "Zmin = np.min(vals)\n",
    "\n",
    "ind = np.argmin(vals, axis=None)\n",
    "inds = np.unravel_index(ind, vals.shape)\n",
    "x = X[inds]\n",
    "y = Y[inds]\n",
    "\n",
    "cmap=\"magma\"\n",
    "norm = colors.Normalize(vmin=levels[0], vmax=levels[-1])\n",
    "\n",
    "fig, ax = plt.subplots(dpi=150)\n",
    "img = ax.pcolormesh(X,Y,vortensity,cmap=cmap,norm=norm)\n",
    "# ax.contour(Xc, Yc, mask, cmap=\"Greys\")\n",
    "contour_colors = \"darkgray\"\n",
    "contour_lw = 1\n",
    "# ax.contour(Xc, Yc, mask, colors=\"white\")\n",
    "# ax.contour(Xc, Yc, vortensity, levels=levels, colors=contour_colors, linewidths=contour_lw)\n",
    "\n",
    "print(\"argmin\", \"ind\", ind, \"inds\", inds, \"x\", x, \"y\", y, \"Zmin\", Zmin)\n",
    "# ax.plot(x, y, \"x\")\n",
    "ax.set_xlim(xlims)\n",
    "\n",
    "ax.set_xlabel(r\"$r$ [au]\")\n",
    "ax.set_ylabel(r\"$\\phi$\")\n",
    "\n",
    "ix = inds[0]\n",
    "iy = inds[1]\n",
    "rho_avg = np.average(Rho[ix, :])\n",
    "rho_max = np.max(Rho[ix, :])\n",
    "rho0 = np.average(Rho_background[ix, :])\n",
    "\n",
    "cbar = fig.colorbar(img, ax=ax)\n",
    "cbar.set_label(r\"$\\varpi/\\varpi_0$\")\n",
    "\n",
    "print(\"normalized Z\", Zmin * rho_avg / rho0)\n",
    "print(\"ratio rho_avg / rho0\", rho_avg / rho0)\n",
    "print(\"ratio rho_max / rho0\", rho_max / rho0)"
   ]
  },
  {
   "cell_type": "markdown",
   "metadata": {},
   "source": [
    "Detect closed regions in the contour plot"
   ]
  },
  {
   "cell_type": "code",
   "execution_count": 17,
   "metadata": {},
   "outputs": [
    {
     "name": "stdout",
     "output_type": "stream",
     "text": [
      "265 402\n"
     ]
    }
   ],
   "source": [
    "Rc = Xc\n",
    "view_min = np.argmin(Rc[:,0] < xlims[0])\n",
    "view_max = np.argmin(Rc[:,0] < xlims[1])\n",
    "print(view_min, view_max)"
   ]
  },
  {
   "cell_type": "code",
   "execution_count": 59,
   "metadata": {
    "scrolled": true,
    "tags": []
   },
   "outputs": [
    {
     "data": {
      "application/vnd.jupyter.widget-view+json": {
       "model_id": "fb8a9f08842b43169b03b5f090cf8cbc",
       "version_major": 2,
       "version_minor": 0
      },
      "text/plain": [
       "Canvas(toolbar=Toolbar(toolitems=[('Home', 'Reset original view', 'home', 'home'), ('Back', 'Back to previous …"
      ]
     },
     "metadata": {},
     "output_type": "display_data"
    },
    {
     "data": {
      "text/plain": [
       "Text(0, 0.5, '$\\\\phi$')"
      ]
     },
     "execution_count": 59,
     "metadata": {},
     "output_type": "execute_result"
    }
   ],
   "source": [
    "fig, ax = plt.subplots(dpi=150)\n",
    "vmi = view_min\n",
    "vma = view_max\n",
    "\n",
    "img = ax.contour(Xc[vmi:vma,:], Yc[vmi:vma,:], vortensity[vmi:vma,:], levels=levels,\n",
    "                colors=contour_colors, linewidths=contour_lw)\n",
    "# ax.set_xscale(\"log\")\n",
    "ax.set_xlabel(r\"$r$ [au]\")\n",
    "ax.set_ylabel(r\"$\\phi$\")\n"
   ]
  },
  {
   "cell_type": "markdown",
   "metadata": {},
   "source": [
    "Make an image out of the contour lines"
   ]
  },
  {
   "cell_type": "code",
   "execution_count": 19,
   "metadata": {},
   "outputs": [],
   "source": [
    "def fig2rgb_array(fig):\n",
    "    fig.canvas.draw()\n",
    "    buf = fig.canvas.tostring_rgb()\n",
    "    ncols, nrows = fig.canvas.get_width_height()\n",
    "    return np.fromstring(buf, dtype=np.uint8).reshape(nrows, ncols, 3)"
   ]
  },
  {
   "cell_type": "code",
   "execution_count": 20,
   "metadata": {},
   "outputs": [
    {
     "name": "stdout",
     "output_type": "stream",
     "text": [
      "Nx 137, Ny 1024, int_aspect 7, supersample 2, CNx 1918, CNy 2048\n"
     ]
    },
    {
     "data": {
      "application/vnd.jupyter.widget-view+json": {
       "model_id": "0e6075f3b56646a7b5322d93e304852b",
       "version_major": 2,
       "version_minor": 0
      },
      "text/plain": [
       "Canvas(toolbar=Toolbar(toolitems=[('Home', 'Reset original view', 'home', 'home'), ('Back', 'Back to previous …"
      ]
     },
     "metadata": {},
     "output_type": "display_data"
    }
   ],
   "source": [
    "vmi = view_min\n",
    "vma = view_max\n",
    "data_view = vortensity[vmi:vma,:]\n",
    "\n",
    "Nx, Ny = data_view.shape\n",
    "int_aspect = int(np.max([Nx/Ny, Ny/Nx]))\n",
    "\n",
    "if int_aspect >= 2:\n",
    "    if Nx < Ny:\n",
    "        CNx = int_aspect*Nx\n",
    "        CNy = Ny\n",
    "    else:\n",
    "        CNx = Nx\n",
    "        CNy = int_aspect*Ny\n",
    "\n",
    "if min(CNx, CNy) < 1000:\n",
    "    supersample = int(np.ceil(1000/min(CNx, CNy)))\n",
    "else:\n",
    "    supersample = 1\n",
    "\n",
    "CNx *= supersample\n",
    "CNy *= supersample\n",
    "        \n",
    "print(f\"Nx {Nx}, Ny {Ny}, int_aspect {int_aspect}, supersample {supersample}, CNx {CNx}, CNy {CNy}\")\n",
    "        \n",
    "fig = plt.figure(frameon=False, figsize=(CNx,2*CNy), dpi=1)\n",
    "#fig.set_size_inches(w,h)\n",
    "ax = plt.Axes(fig, [0., 0., 1., 1.])\n",
    "ax.set_axis_off()\n",
    "fig.add_axes(ax)\n",
    "\n",
    "def periodically_extend(arr):\n",
    "    Hhalf = int(arr.shape[1]/2)\n",
    "    rv = np.concatenate(\n",
    "        [arr[:,Hhalf:],\n",
    "         arr,\n",
    "         arr[:,:Hhalf]],\n",
    "        axis=1\n",
    "    )\n",
    "    return rv\n",
    "Zpe = periodically_extend(vortensity[vmi:vma,:])\n",
    "Xpe = periodically_extend(Xc[vmi:vma,:])\n",
    "Ype = periodically_extend(Yc[vmi:vma,:])\n",
    "\n",
    "img = ax.contour(Zpe.transpose()\n",
    "                 ,levels=levels, linewidths=CNx/1000, antialiased=False)\n",
    "\n",
    "# ax.set_xlim(xlims)\n",
    "\n",
    "# img = ax.contour(Xc[vmi:vma,:], Yc[vmi:vma,:], vortensity[vmi:vma,:]\n",
    "#                  , levels=levels, linewidths=CNx/1000)\n",
    "\n",
    "# ax.set_xscale(\"log\")\n",
    "\n",
    "# fig.canvas.draw()\n",
    "# img_data = np.fromstring(fig.canvas.tostring_rgb(), dtype=np.uint8, sep='')\n",
    "# img_data = img_data.reshape(fig.canvas.get_width_height()[::-1] + (3,))\n",
    "# img_data = cv2.cvtColor(img_data, cv2.COLOR_BGR2GRAY)\n",
    "img_data = fig2rgb_array(fig)\n",
    "img_data = cv2.cvtColor(img_data, cv2.COLOR_BGR2GRAY)\n",
    "plt.close(fig)"
   ]
  },
  {
   "cell_type": "code",
   "execution_count": 21,
   "metadata": {},
   "outputs": [
    {
     "data": {
      "text/plain": [
       "(4096, 1918)"
      ]
     },
     "execution_count": 21,
     "metadata": {},
     "output_type": "execute_result"
    }
   ],
   "source": [
    "img_data.shape"
   ]
  },
  {
   "cell_type": "markdown",
   "metadata": {},
   "source": [
    "## Threshold contour image for full contrast"
   ]
  },
  {
   "cell_type": "code",
   "execution_count": 22,
   "metadata": {},
   "outputs": [
    {
     "data": {
      "application/vnd.jupyter.widget-view+json": {
       "model_id": "ad31f5ffb44446ab915c649f972452d1",
       "version_major": 2,
       "version_minor": 0
      },
      "text/plain": [
       "Canvas(toolbar=Toolbar(toolitems=[('Home', 'Reset original view', 'home', 'home'), ('Back', 'Back to previous …"
      ]
     },
     "metadata": {},
     "output_type": "display_data"
    },
    {
     "data": {
      "text/plain": [
       "<matplotlib.image.AxesImage at 0x7f50add906d0>"
      ]
     },
     "execution_count": 22,
     "metadata": {},
     "output_type": "execute_result"
    }
   ],
   "source": [
    "ret,thresh = cv2.threshold(img_data,250,255,0)\n",
    "fig, ax = plt.subplots(dpi=150)\n",
    "ax.imshow(thresh, cmap=\"Greys_r\")"
   ]
  },
  {
   "cell_type": "markdown",
   "metadata": {},
   "source": [
    "## Extract contours and construct hierarchy"
   ]
  },
  {
   "cell_type": "code",
   "execution_count": 23,
   "metadata": {
    "scrolled": true
   },
   "outputs": [
    {
     "name": "stdout",
     "output_type": "stream",
     "text": [
      "number of contours 1954\n"
     ]
    }
   ],
   "source": [
    "# contours, hierarchy = cv2.findContours(\n",
    "#         img_data, cv2.RETR_TREE, cv2.CHAIN_APPROX_NONE)\n",
    "# contours, hierarchy = cv2.findContours(\n",
    "#         thresh, cv2.RETR_TREE, cv2.CHAIN_APPROX_NONE)\n",
    "contours, hierarchy = cv2.findContours(\n",
    "        thresh, cv2.RETR_CCOMP, cv2.CHAIN_APPROX_NONE)\n",
    "print(\"number of contours\", len(contours))\n",
    "\n",
    "contours_dict = { n : { \"cnt\" : cnt, \"n\" : n } for n, cnt in enumerate(contours) }\n",
    "\n",
    "areas = [cv2.contourArea(c) for c in contours]\n",
    "for n, d in enumerate(contours_dict.values()):\n",
    "    d[\"area\"] = areas[n]\n",
    "\n",
    "sort_inds = np.argsort(areas)\n",
    "ind_max = sort_inds[-1]\n",
    "cnt_max = contours[ind_max]\n",
    "contours_sorted = [contours_dict[i] for i in sort_inds]\n",
    "\n",
    "# take the up to 100 largest patches\n",
    "contours_largest = [contours_dict[i] for i in [n for n in sort_inds[::-1]][:100]]"
   ]
  },
  {
   "cell_type": "markdown",
   "metadata": {},
   "source": [
    "## Extract closed contours"
   ]
  },
  {
   "cell_type": "code",
   "execution_count": 24,
   "metadata": {
    "scrolled": true,
    "tags": []
   },
   "outputs": [
    {
     "name": "stdout",
     "output_type": "stream",
     "text": [
      "number of convex contours 37\n",
      "[481486.0, 472335.5, 379678.0, 371831.5, 355137.0, 305200.0, 300524.5, 275362.0, 271057.5, 248503.5, 244508.5, 223615.5, 219862.5, 199747.0, 196218.0, 175873.5, 172559.0, 149993.5, 146928.5, 121974.5, 119209.5, 91893.0, 89500.0, 86780.0, 79791.0, 77354.5, 61862.5, 58038.0, 56134.0, 39189.0, 14738.0, 13389.0, 10657.5, 10162.0, 9849.5, 8830.0, 7274.0]\n"
     ]
    }
   ],
   "source": [
    "aspect_ratio_max = np.inf\n",
    "\n",
    "contours_convex = []\n",
    "for n, contour in enumerate(contours_largest):\n",
    "    cnt = contour[\"cnt\"]\n",
    "    l = cv2.arcLength(cnt,True)\n",
    "    contour[\"arcLength\"] = l\n",
    "    a = contour[\"area\"]\n",
    "    leftmost = tuple(cnt[cnt[:,:,0].argmin()][0])\n",
    "    rightmost = tuple(cnt[cnt[:,:,0].argmax()][0])\n",
    "    topmost = tuple(cnt[cnt[:,:,1].argmin()][0])\n",
    "    bottommost = tuple(cnt[cnt[:,:,1].argmax()][0])\n",
    "    dx = rightmost[0] - leftmost[0]\n",
    "    dy = bottommost[1] - topmost[1]\n",
    "    \n",
    "    Nh = int(thresh.shape[0]/2)\n",
    "    Nq = int(thresh.shape[0]/4)\n",
    "    \n",
    "    # sort out mirrors of contours fully contained in original area\n",
    "    if bottommost[1] < Nq or topmost[1] > 3*Nq:\n",
    "        continue\n",
    "\n",
    "    is_not_too_elongated = dx >0 and dy >0 and max(dx/dy, dy/dx) < aspect_ratio_max\n",
    "    is_area_larget_delimiter = l  > 0 and a > l\n",
    "    is_not_spanning_whole_height = dy < 0.5*0.95*thresh.shape[0]\n",
    "\n",
    "    if not(is_not_too_elongated and is_area_larget_delimiter and is_not_spanning_whole_height):\n",
    "        continue\n",
    "    \n",
    "#     contours_convex.append(contour)\n",
    "#     continue\n",
    "    \n",
    "    # sort out the lower of mirror images\n",
    "    bounding_hor = np.array([ rightmost[0], leftmost[0]] )\n",
    "    bounding_vert = np.array([ topmost[1], bottommost[1] ])\n",
    "    contour[\"bottom_extended\"] = bottommost\n",
    "    contour[\"top_extended\"] = topmost\n",
    "    contour[\"left_extended\"] = leftmost\n",
    "    contour[\"right_extended\"] = rightmost\n",
    "    contour[\"bounding_hor\"] = bounding_hor\n",
    "    contour[\"bounding_vert\"] = bounding_vert\n",
    "    \n",
    "    to_del = None\n",
    "    found_mirror = False\n",
    "    for k,c in enumerate(contours_convex):\n",
    "        same_hor = (bounding_hor == c[\"bounding_hor\"]).all()\n",
    "        same_vert = (np.abs(bounding_vert % Nh - c[\"bounding_vert\"] % Nh) < 20).all()\n",
    "        if same_hor and same_vert:\n",
    "            if bounding_vert[1] > c[\"bounding_vert\"][1]:\n",
    "                to_del = k\n",
    "            found_mirror = True\n",
    "            break\n",
    "#     if found_mirror:\n",
    "#         continue\n",
    "#     else:\n",
    "#         contours_convex.append(contour)\n",
    "    if found_mirror:\n",
    "        if to_del is not None:\n",
    "            del contours_convex[to_del]\n",
    "            contours_convex.append(contour)\n",
    "    else:\n",
    "        contours_convex.append(contour)\n",
    "    \n",
    "    \n",
    "print(\"number of convex contours\", len(contours_convex))\n",
    "\n",
    "print([c[\"area\"] for c in contours_convex])"
   ]
  },
  {
   "cell_type": "code",
   "execution_count": 25,
   "metadata": {},
   "outputs": [
    {
     "data": {
      "application/vnd.jupyter.widget-view+json": {
       "model_id": "9254de901353443a9b66f2bc50a2ec5c",
       "version_major": 2,
       "version_minor": 0
      },
      "text/plain": [
       "Canvas(toolbar=Toolbar(toolitems=[('Home', 'Reset original view', 'home', 'home'), ('Back', 'Back to previous …"
      ]
     },
     "metadata": {},
     "output_type": "display_data"
    },
    {
     "data": {
      "text/plain": [
       "<matplotlib.image.AxesImage at 0x7f50b8a9d2b0>"
      ]
     },
     "execution_count": 25,
     "metadata": {},
     "output_type": "execute_result"
    }
   ],
   "source": [
    "dst = np.array(thresh)*0\n",
    "cv2.drawContours(dst, contours, -1, (255, 255, 0), -1)\n",
    "# cv2.drawContours(dst, contours_convex, -1, (255, 255, 0), -1)\n",
    "fig, ax = plt.subplots(dpi=150)\n",
    "ax.imshow(dst)"
   ]
  },
  {
   "cell_type": "code",
   "execution_count": 26,
   "metadata": {
    "tags": []
   },
   "outputs": [
    {
     "name": "stdout",
     "output_type": "stream",
     "text": [
      "[305200.0, 300524.5, 275362.0, 271057.5, 248503.5, 244508.5, 223615.5, 219862.5, 199747.0, 196218.0, 175873.5, 172559.0, 149993.5, 146928.5, 121974.5, 119209.5, 91893.0, 89500.0, 58038.0, 56134.0, 10657.5, 10162.0, 9849.5, 8830.0]\n"
     ]
    }
   ],
   "source": [
    "max_ellipse_deviation = 0.15\n",
    "\n",
    "candidates = {}\n",
    "for contour in contours_convex:\n",
    "    cnt = contour[\"cnt\"]\n",
    "    ellipse = cv2.fitEllipse(cnt)\n",
    "    \n",
    "    im_shape = np.zeros(thresh.shape)\n",
    "    cv2.drawContours(im_shape, [cnt], 0, (255, 255, 255), -1)\n",
    "\n",
    "    im_ellipse = np.zeros(thresh.shape)\n",
    "    im_ellipse = cv2.ellipse(im_ellipse,ellipse,(255,255,255),-1)\n",
    "    \n",
    "    difference = np.abs(im_shape - im_ellipse)\n",
    "    difference_area = np.sum(difference/255)\n",
    "    \n",
    "    rel_delta = difference_area / contour[\"area\"]\n",
    "    \n",
    "    \n",
    "    if rel_delta > max_ellipse_deviation:\n",
    "        continue\n",
    "    \n",
    "    contour[\"mask_extended\"] = im_shape\n",
    "    candidates[contour[\"n\"]] = contour\n",
    "    continue\n",
    "    \n",
    "    fig, ax = plt.subplots(figsize=(6,4), dpi=150)\n",
    "    im = np.ones(list(thresh.shape) + [3])*255\n",
    "    cv2.drawContours(im, [cnt], 0, (0, 0, 0), -1)\n",
    "    \n",
    "    im = cv2.ellipse(im,ellipse,(1,140/255,0),40)\n",
    "    im = cv2.ellipse(im,ellipse,(0,0,0),15)\n",
    "    \n",
    "    im_contour = np.array(im[:,:,0], dtype=int)\n",
    "    print(\"max value\", np.max(im))\n",
    "    \n",
    "    ax.imshow(im)\n",
    "    \n",
    "    n = contour[\"n\"]\n",
    "    ax.set_title(f\"opencv contour nr. {n}\\ndelta area = {difference_area}\\nrel delta area {rel_delta:.3f}\")\n",
    "\n",
    "print([c[\"area\"] for c in candidates.values()])"
   ]
  },
  {
   "cell_type": "code",
   "execution_count": 27,
   "metadata": {},
   "outputs": [
    {
     "data": {
      "text/plain": [
       "((832.6943969726562, 581.9312744140625),\n",
       " (197.70436096191406, 1052.2755126953125),\n",
       " 178.1090850830078)"
      ]
     },
     "execution_count": 27,
     "metadata": {},
     "output_type": "execute_result"
    }
   ],
   "source": [
    "ellipse"
   ]
  },
  {
   "cell_type": "code",
   "execution_count": 28,
   "metadata": {},
   "outputs": [
    {
     "name": "stdout",
     "output_type": "stream",
     "text": [
      "(1015, 2976) (1031, 3761)\n"
     ]
    },
    {
     "data": {
      "application/vnd.jupyter.widget-view+json": {
       "model_id": "5cc60a9d265149a3bc3d54f55f3b29ce",
       "version_major": 2,
       "version_minor": 0
      },
      "text/plain": [
       "Canvas(toolbar=Toolbar(toolitems=[('Home', 'Reset original view', 'home', 'home'), ('Back', 'Back to previous …"
      ]
     },
     "metadata": {},
     "output_type": "display_data"
    },
    {
     "data": {
      "text/plain": [
       "Text(0.5, 1.0, 'mask_reduced (2048, 1918)')"
      ]
     },
     "execution_count": 28,
     "metadata": {},
     "output_type": "execute_result"
    }
   ],
   "source": [
    "candidate_list = [c for c in candidates.values()]\n",
    "c = candidate_list[0]\n",
    "mask_extended = c[\"mask_extended\"]\n",
    "# reduce back to normal image size\n",
    "Nh = int(mask_extended.shape[0]/2)\n",
    "Nq = int(mask_extended.shape[0]/4)\n",
    "mask_lower = mask_extended[3*Nq:, :]\n",
    "mask_upper = mask_extended[:Nq, :]\n",
    "mask_repeated = np.concatenate([mask_lower, mask_upper])\n",
    "mask_orig = mask_extended[Nq:3*Nq, :]\n",
    "mask_reduced = np.logical_or(mask_orig, mask_repeated)\n",
    "\n",
    "cnt = c[\"cnt\"]\n",
    "leftmost = tuple(cnt[cnt[:,:,0].argmin()][0])\n",
    "rightmost = tuple(cnt[cnt[:,:,0].argmax()][0])\n",
    "topmost = tuple(cnt[cnt[:,:,1].argmin()][0])\n",
    "bottommost = tuple(cnt[cnt[:,:,1].argmax()][0])\n",
    "\n",
    "print(topmost, bottommost)\n",
    "\n",
    "fig, axes = plt.subplots(2,3, figsize=(10,7))\n",
    "axes = axes.ravel()\n",
    "\n",
    "axes[0].imshow(mask_extended)\n",
    "x = bottommost[0]\n",
    "y = bottommost[1]\n",
    "axes[0].plot([x],[y], \"x\", color=\"white\")\n",
    "\n",
    "\n",
    "axes[1].imshow(mask_upper)\n",
    "axes[2].imshow(mask_lower)\n",
    "axes[3].imshow(mask_orig)\n",
    "axes[4].imshow(mask_repeated)\n",
    "\n",
    "def map_ext_pnt_to_orig(pnt):\n",
    "    x = pnt[0]\n",
    "    y = pnt[1]\n",
    "    if y > Nq and y <= 3*Nq:\n",
    "        y -= Nq\n",
    "    elif y < Nq:\n",
    "        y += Nq\n",
    "    elif y > 3*Nq:\n",
    "        y -= 3*Nq\n",
    "    return (x,y)\n",
    "    \n",
    "axes[5].imshow(mask_reduced)\n",
    "x, y = map_ext_pnt_to_orig(bottommost)\n",
    "axes[5].plot([x],[y], \"x\", color=\"white\")\n",
    "x, y = map_ext_pnt_to_orig(topmost)\n",
    "axes[5].plot([x],[y], \"x\", color=\"white\")\n",
    "x, y = map_ext_pnt_to_orig(leftmost)\n",
    "axes[5].plot([x],[y], \"x\", color=\"white\")\n",
    "x, y = map_ext_pnt_to_orig(rightmost)\n",
    "axes[5].plot([x],[y], \"x\", color=\"white\")\n",
    "\n",
    "\n",
    "# set titles\n",
    "axes[0].set_title(f\"mask {mask.shape}\")\n",
    "axes[1].set_title(f\"mask_upper {mask_upper.shape}\")\n",
    "axes[2].set_title(f\"mask_lower {mask_lower.shape}\")\n",
    "axes[3].set_title(f\"mask_orig {mask_orig.shape}\")\n",
    "axes[4].set_title(f\"mask_repeated {mask_repeated.shape}\")\n",
    "axes[5].set_title(f\"mask_reduced {mask_reduced.shape}\")"
   ]
  },
  {
   "cell_type": "markdown",
   "metadata": {},
   "source": [
    "## Transform the image from ellipse fitting images back to match the grid"
   ]
  },
  {
   "cell_type": "code",
   "execution_count": 29,
   "metadata": {},
   "outputs": [],
   "source": [
    "Nh = int(mask_extended.shape[0]/2)\n",
    "Nq = int(mask_extended.shape[0]/4)\n",
    "def map_ext_pnt_to_orig(pnt):\n",
    "    x = pnt[0]\n",
    "    y = pnt[1]\n",
    "    if y > Nq and y <= 3*Nq:\n",
    "        y -= Nq\n",
    "    elif y < Nq:\n",
    "        y += Nq\n",
    "    elif y > 3*Nq:\n",
    "        y -= 3*Nq\n",
    "    return (x,y)\n",
    "\n",
    "for contour in candidates.values():\n",
    "    mask_extended = contour[\"mask_extended\"]\n",
    "    # reduce back to normal image size\n",
    "    Nh = int(mask_extended.shape[0]/2)\n",
    "    Nq = int(mask_extended.shape[0]/4)\n",
    "    mask_lower = mask_extended[3*Nq:, :]\n",
    "    mask_upper = mask_extended[:Nq, :]\n",
    "    mask_repeated = np.concatenate([mask_lower, mask_upper])\n",
    "    mask_orig = mask_extended[Nq:3*Nq, :]\n",
    "    mask_reduced = np.logical_or(mask_orig, mask_repeated)\n",
    "    \n",
    "    # fit back to original data shape\n",
    "    mask = mask_reduced.transpose()[:,::-1]\n",
    "    mask = mask[::supersample,::supersample]\n",
    "    if int_aspect >= 2:\n",
    "        if Nx < Ny:\n",
    "            mask = mask[::int_aspect,:]\n",
    "        else:\n",
    "            mask = mask[:,::int_aspect]\n",
    "    mask = np.array(mask, dtype=bool)\n",
    "    contour[\"mask\"] = mask\n",
    "    \n",
    "    for key in [\"bottom\", \"top\", \"left\", \"right\"]: \n",
    "        pnt = contour[key + \"_extended\"]\n",
    "        x, y = map_ext_pnt_to_orig(pnt)\n",
    "        y = Nh - y\n",
    "        x /= supersample\n",
    "        y /= supersample\n",
    "        if Nx < Ny:\n",
    "            x /= int_aspect\n",
    "        else:\n",
    "            y /= int_aspect\n",
    "        x = int(x)\n",
    "        y = int(y)\n",
    "        contour[key + \"_view\"] = (x,y)\n",
    "        contour[key] = (x + vmi, y)\n",
    "        "
   ]
  },
  {
   "cell_type": "markdown",
   "metadata": {},
   "source": [
    "## Calculate mass of cells"
   ]
  },
  {
   "cell_type": "code",
   "execution_count": 30,
   "metadata": {},
   "outputs": [],
   "source": [
    "mass = A*Rho\n",
    "\n",
    "mass_background = A*Rho_background\n",
    "\n",
    "mass_view = mass[vmi:vma,:]\n",
    "mass_background_view = mass_background[vmi:vma,:]\n",
    "vortensity_view = vortensity[vmi:vma,:]\n",
    "vorticity_view = vorticity[vmi:vma,:]\n",
    "\n",
    "Xc_view = Xc[vmi:vma,:]\n",
    "Yc_view = Yc[vmi:vma,:]\n",
    "Rho_view = Rho[vmi:vma,:]"
   ]
  },
  {
   "cell_type": "markdown",
   "metadata": {},
   "source": [
    "## Show the candidates"
   ]
  },
  {
   "cell_type": "code",
   "execution_count": 31,
   "metadata": {},
   "outputs": [
    {
     "data": {
      "application/vnd.jupyter.widget-view+json": {
       "model_id": "f0deace26f694afa92ca0ffeecd467e3",
       "version_major": 2,
       "version_minor": 0
      },
      "text/plain": [
       "Canvas(toolbar=Toolbar(toolitems=[('Home', 'Reset original view', 'home', 'home'), ('Back', 'Back to previous …"
      ]
     },
     "metadata": {},
     "output_type": "display_data"
    }
   ],
   "source": [
    "fig, ax = plt.subplots(figsize=(8,6),dpi=150)\n",
    "ax.set_xscale(\"log\")\n",
    "\n",
    "Z = vortensity\n",
    "cmap = \"magma\"\n",
    "norm = colors.Normalize(vmin=levels[0], vmax=levels[-1])\n",
    "img = ax.pcolormesh(Xc_view, Yc_view/np.pi, vortensity_view,cmap=cmap,norm=norm, rasterized=True)\n",
    "\n",
    "ax.contour(Xc_view, Yc_view/np.pi, vortensity_view, levels=levels, colors=contour_colors, linewidths=contour_lw )\n",
    "\n",
    "for n, contour in enumerate(candidates.values()):\n",
    "    cmap = \"Blues\" if n==1 else \"Greys\"\n",
    "    ax.contour(Xc_view, Yc_view/np.pi, contour[\"mask\"], colors=\"C2\", linewidths=0.5)\n",
    "#     ix, iy = contour[\"bottom_view\"]\n",
    "#     x = Xc_view[ix, iy]\n",
    "#     y = Yc_view[ix, iy]\n",
    "#     ax.plot([x], [y/np.pi], \"x\")\n",
    "    \n",
    "ax.set_xlabel(r\"$r$ [au]\")\n",
    "ax.set_ylabel(r\"$\\phi / \\pi$\")\n",
    "ax.set_yticks([-1, -0.5, 0, 0.5, 1])\n",
    "\n",
    "cbar = fig.colorbar(img, ax=ax)\n",
    "cbar.set_label(r\"$\\varpi/\\varpi_0$\")"
   ]
  },
  {
   "cell_type": "markdown",
   "metadata": {},
   "source": [
    "## Generate ancestor list "
   ]
  },
  {
   "cell_type": "markdown",
   "metadata": {},
   "source": [
    "The hierarchy generated by opencv in the contour finder outputs a list with the syntax\n",
    "```\n",
    "[Next, Previous, First_Child, Parent]\n",
    "```\n",
    "If any of those is not available its encoded  by -1."
   ]
  },
  {
   "cell_type": "code",
   "execution_count": 32,
   "metadata": {},
   "outputs": [
    {
     "name": "stdout",
     "output_type": "stream",
     "text": [
      "890 []\n",
      "887 []\n",
      "888 [887]\n",
      "885 []\n",
      "886 [885]\n",
      "878 []\n",
      "879 [878]\n",
      "873 []\n",
      "1807 []\n",
      "1776 []\n",
      "1777 [1776]\n",
      "1732 []\n",
      "1733 [1732]\n",
      "1695 []\n",
      "1696 [1695]\n",
      "1649 []\n",
      "1650 [1649]\n",
      "1573 []\n",
      "1574 [1573]\n",
      "1537 []\n",
      "1538 [1537]\n",
      "1887 []\n",
      "1467 []\n",
      "1484 []\n"
     ]
    }
   ],
   "source": [
    "for c in candidates.values():\n",
    "    ancestors = []\n",
    "    n_parent = c[\"n\"]\n",
    "    for n in range(1000):\n",
    "        n_parent = hierarchy[0,n_parent,3]\n",
    "        if n_parent == -1 or n_parent not in candidates:\n",
    "            break\n",
    "        ancestors.append(n_parent)\n",
    "    c[\"ancestors\"] = ancestors\n",
    "    print(c[\"n\"], ancestors)"
   ]
  },
  {
   "cell_type": "markdown",
   "metadata": {},
   "source": [
    "## Construct decendents from ancestor list\n",
    "This is done to avoid causing trouble when an intermediate contour is missing."
   ]
  },
  {
   "cell_type": "code",
   "execution_count": 33,
   "metadata": {},
   "outputs": [
    {
     "name": "stdout",
     "output_type": "stream",
     "text": [
      "890 []\n",
      "887 []\n",
      "888 []\n",
      "885 []\n",
      "886 []\n",
      "878 []\n",
      "879 []\n",
      "873 []\n",
      "1807 []\n",
      "1776 []\n",
      "1777 []\n",
      "1732 []\n",
      "1733 []\n",
      "1695 []\n",
      "1696 []\n",
      "1649 []\n",
      "1650 []\n",
      "1573 []\n",
      "1574 []\n",
      "1537 []\n",
      "1538 []\n",
      "1887 []\n",
      "1467 []\n",
      "1484 []\n"
     ]
    }
   ],
   "source": [
    "decendents = {}\n",
    "for c in candidates.values():\n",
    "    ancestors = c[\"ancestors\"]\n",
    "    for k, n in enumerate(ancestors):\n",
    "        if not n in decendents or len(decendents[n]) < k:\n",
    "            decendents[n] = [i for i in reversed(ancestors[:k])]\n",
    "\n",
    "for c in candidates.values():\n",
    "    if c[\"n\"] in decendents:\n",
    "        dec = decendents[c[\"n\"]]\n",
    "    else:\n",
    "        dec = []\n",
    "    c[\"decendents\"] = dec\n",
    "    print(c[\"n\"], dec)"
   ]
  },
  {
   "cell_type": "markdown",
   "metadata": {},
   "source": [
    "## Remove children from candidates "
   ]
  },
  {
   "cell_type": "code",
   "execution_count": 34,
   "metadata": {},
   "outputs": [],
   "source": [
    "decendents = []\n",
    "for c in candidates.values():\n",
    "    decendents += c[\"decendents\"].copy()\n",
    "decendents = set(decendents)\n",
    "candidates_bak = candidates.copy()\n",
    "for n in decendents:\n",
    "    del candidates[n]"
   ]
  },
  {
   "cell_type": "markdown",
   "metadata": {},
   "source": [
    "## Get the mass and vortensity inside the candidates"
   ]
  },
  {
   "cell_type": "code",
   "execution_count": 35,
   "metadata": {},
   "outputs": [],
   "source": [
    "vortensity_area_view = A[vmi:vma]*vortensity[vmi:vma]\n",
    "\n",
    "\n",
    "for contour in candidates.values():\n",
    "    try:\n",
    "        mask = contour[\"mask\"]\n",
    "        contour[\"mass\"] = np.sum(mass_view[mask])\n",
    "        contour[\"mass_background\"] = np.sum(mass_background_view[mask])\n",
    "        contour[\"mass_enhancement\"] = contour[\"mass\"] - contour[\"mass_background\"]\n",
    "        contour[\"vortensity_mean\"] = np.mean(vortensity_view[mask])\n",
    "        contour[\"vortensity_median\"] = np.median(vortensity_view[mask])\n",
    "        contour[\"vortensity_min\"] = np.min(vortensity_view[mask])\n",
    "        contour[\"vortensity_max\"] = np.max(vortensity_view[mask])\n",
    "        contour[\"sigma_mean\"] = np.mean(Rho_view[mask])\n",
    "        contour[\"sigma_median\"] = np.median(Rho_view[mask])\n",
    "        contour[\"sigma_min\"] = np.min(Rho_view[mask])\n",
    "        contour[\"sigma_max\"] = np.max(Rho_view[mask])\n",
    "        \n",
    "        \n",
    "        contour[\"rmin\"] = Xc_view[contour[\"left_view\"]]\n",
    "        contour[\"rmax\"] = Xc_view[contour[\"right_view\"]]\n",
    "        contour[\"phimax\"] = Yc_view[contour[\"top_view\"]]\n",
    "        contour[\"phimin\"] = Yc_view[contour[\"bottom_view\"]]\n",
    "        contour[\"width\"] = contour[\"rmax\"] - contour[\"rmin\"]\n",
    "        if contour[\"phimax\"] < contour[\"phimin\"]:\n",
    "            contour[\"height\"] = contour[\"phimax\"] + 2*np.pi - contour[\"phimin\"]\n",
    "        else:\n",
    "            contour[\"height\"] = contour[\"phimax\"] - contour[\"phimin\"]\n",
    "\n",
    "        contour[\"vortensity_flux\"] = np.sum(vortensity_area_view[mask])\n",
    "            \n",
    "    except (ValueError, KeyError):\n",
    "        pass"
   ]
  },
  {
   "cell_type": "markdown",
   "metadata": {},
   "source": [
    "## Remove candidates without vortensity min in center\n",
    "A vortex should have at least a small dip in vortensity.\n",
    "Exclude vortices for which the minimum vorticity is not at least 0.05 lower than the maximum vorticity.\n",
    "Also check that vortensity < 1"
   ]
  },
  {
   "cell_type": "code",
   "execution_count": 36,
   "metadata": {},
   "outputs": [
    {
     "name": "stdout",
     "output_type": "stream",
     "text": [
      "excluding 1538 vortensity drop is 0.007302588622128875 < 0.05\n",
      "excluding 1467 vortensity drop is 0.006612712252038952 < 0.05\n"
     ]
    }
   ],
   "source": [
    "min_vortensity_drop = 0.05\n",
    "no_min = []\n",
    "for n,c in candidates.items():\n",
    "    cid = c[\"n\"]\n",
    "    if c[\"vortensity_min\"] > 1:\n",
    "        no_min.append(n)\n",
    "        print(f\"excluding {c['n']} because of min_vortensity > 1\")\n",
    "        continue\n",
    "    vortensity_drop = c[\"vortensity_max\"] - c[\"vortensity_min\"]\n",
    "    if vortensity_drop < min_vortensity_drop:\n",
    "        cn = c[\"n\"]\n",
    "        print(f\"excluding {cn} vortensity drop is {vortensity_drop} < {min_vortensity_drop}\")\n",
    "        no_min.append(n)\n",
    "for n in no_min:\n",
    "    del candidates[n]"
   ]
  },
  {
   "cell_type": "markdown",
   "metadata": {},
   "source": [
    "## Calculate the position of minimum vortensity"
   ]
  },
  {
   "cell_type": "code",
   "execution_count": 37,
   "metadata": {},
   "outputs": [],
   "source": [
    "for contour in candidates.values():\n",
    "    mask = np.logical_not(contour[\"mask\"])\n",
    "    ind = np.argmin(np.ma.masked_array(vortensity_view, mask=mask), axis=None)\n",
    "    inds = np.unravel_index(ind, vals.shape)\n",
    "    x = Xc_view[inds]\n",
    "    y = Yc_view[inds]\n",
    "    contour[\"vortensity_min_pos\"] = (x, y)\n",
    "    contour[\"vortensity_min_inds\"] = inds\n",
    "    # print(f\"(x,y) = ({x}, {y})\")"
   ]
  },
  {
   "cell_type": "markdown",
   "metadata": {},
   "source": [
    "## Calculate the position of maximum density"
   ]
  },
  {
   "cell_type": "code",
   "execution_count": 38,
   "metadata": {},
   "outputs": [],
   "source": [
    "for contour in candidates.values():\n",
    "    mask = np.logical_not(contour[\"mask\"])\n",
    "    ind = np.argmax(np.ma.masked_array(Rho_view, mask=mask), axis=None)\n",
    "    inds = np.unravel_index(ind, vals.shape)\n",
    "    x = Xc_view[inds]\n",
    "    y = Yc_view[inds]\n",
    "    contour[\"sigma_max_pos\"] = (x, y)\n",
    "    contour[\"sigma_max_inds\"] = inds\n",
    "    # print(f\"(x,y) = ({x}, {y})\")"
   ]
  },
  {
   "cell_type": "markdown",
   "metadata": {},
   "source": [
    "## Sort vortices by mass"
   ]
  },
  {
   "cell_type": "code",
   "execution_count": 39,
   "metadata": {},
   "outputs": [],
   "source": [
    "mass_sorted = [key for key in candidates]\n",
    "mass_sorted = sorted(mass_sorted, key=lambda n: candidates[n][\"mass\"])\n",
    "candidates = {n : candidates[n] for n in reversed(mass_sorted)}"
   ]
  },
  {
   "cell_type": "markdown",
   "metadata": {},
   "source": [
    "## Remove duplicates by min vort location"
   ]
  },
  {
   "cell_type": "code",
   "execution_count": 40,
   "metadata": {},
   "outputs": [],
   "source": [
    "to_del = []\n",
    "for c in candidates.values():\n",
    "    inds = c[\"vortensity_min_inds\"]\n",
    "    mass = c[\"mass\"]\n",
    "    \n",
    "    for key, o in candidates.items():\n",
    "        o_inds = o[\"vortensity_min_inds\"]\n",
    "        o_mass = o[\"mass\"]\n",
    "        if o_inds == inds and o_mass < mass:\n",
    "            to_del.append(key)\n",
    "for key in set(to_del):\n",
    "    del candidates[key]"
   ]
  },
  {
   "cell_type": "markdown",
   "metadata": {},
   "source": [
    "## Plot the vortex candidates on top of the vortensity data"
   ]
  },
  {
   "cell_type": "code",
   "execution_count": 41,
   "metadata": {},
   "outputs": [
    {
     "data": {
      "application/vnd.jupyter.widget-view+json": {
       "model_id": "5d600b444b634998a5081bb23285459f",
       "version_major": 2,
       "version_minor": 0
      },
      "text/plain": [
       "Canvas(toolbar=Toolbar(toolitems=[('Home', 'Reset original view', 'home', 'home'), ('Back', 'Back to previous …"
      ]
     },
     "metadata": {},
     "output_type": "display_data"
    }
   ],
   "source": [
    "fig, ax = plt.subplots(figsize=(8,6),dpi=150)\n",
    "# ax.set_xscale(\"log\")\n",
    "\n",
    "Z = vortensity\n",
    "cmap = \"magma\"\n",
    "norm = colors.Normalize(vmin=levels[0], vmax=levels[-1])\n",
    "img = ax.pcolormesh(Xc_view, Yc_view/np.pi, vortensity_view,cmap=cmap,norm=norm, rasterized=True)\n",
    "\n",
    "candidates_list = [c for c in candidates.values()]\n",
    "candidates_bak_list = [c for c in candidates_bak.values()]\n",
    "\n",
    "# for contour in candidates_bak_list:\n",
    "#     ax.contour(Xc[vmi:vma,:], Yc[vmi:vma,:], contour[\"mask\"])\n",
    "\n",
    "ax.contour(Xc_view, Yc_view/np.pi, vortensity_view, levels=levels, colors=contour_colors, linewidths=contour_lw)\n",
    "\n",
    "for n, contour in enumerate(candidates_list):\n",
    "    cmap = \"Blues\" if n==1 else \"Greys\"\n",
    "    ax.contour(Xc_view, Yc_view/np.pi, contour[\"mask\"], colors=\"C2\", linewidths=1)\n",
    "    x,y = contour[\"vortensity_min_pos\"]\n",
    "    ax.plot([x], [y/np.pi], \"x\")\n",
    "    rmin = contour[\"rmin\"]\n",
    "    rmax = contour[\"rmax\"]\n",
    "    phimin = contour[\"phimin\"]/np.pi\n",
    "    phimax = contour[\"phimax\"]/np.pi\n",
    "#     ax.plot([rmin, rmin], [phimin, phimax], color=\"C1\")\n",
    "#     ax.plot([rmax, rmax], [phimin, phimax], color=\"C1\")\n",
    "#     ax.plot([rmin, rmax], [phimin, phimin], color=\"C1\")\n",
    "#     ax.plot([rmin, rmax], [phimax, phimax], color=\"C1\")\n",
    "\n",
    "    \n",
    "\n",
    "ax.set_xlabel(r\"$r$ [au]\")\n",
    "ax.set_ylabel(r\"$\\phi / \\pi$\")\n",
    "ax.set_yticks([-1, -0.5, 0, 0.5, 1])\n",
    "\n",
    "cbar = fig.colorbar(img, ax=ax)\n",
    "cbar.set_label(r\"$\\varpi/\\varpi_0$\")"
   ]
  },
  {
   "cell_type": "markdown",
   "metadata": {},
   "source": [
    "## Print out some properties"
   ]
  },
  {
   "cell_type": "code",
   "execution_count": 42,
   "metadata": {},
   "outputs": [
    {
     "name": "stdout",
     "output_type": "stream",
     "text": [
      "\n",
      "\n"
     ]
    }
   ],
   "source": [
    "from pprint import pprint\n",
    "for vort in candidates.values():\n",
    "    try:\n",
    "        v = vort.copy()\n",
    "        for k in [\"cnt\", \"mask\", \"mask_extended\",\"gmask\"]:\n",
    "            del v[k]\n",
    "        pprint(v)\n",
    "        mass = vort[\"mass\"]\n",
    "        vort_med = vort[\"vortensity_median\"]\n",
    "        print([x % Nh for x in vort[\"bounding_vert\"]])\n",
    "        print(\"strength\", np.exp(-vort_med)*mass)\n",
    "    except KeyError:\n",
    "        pass\n",
    "    print()"
   ]
  },
  {
   "cell_type": "markdown",
   "metadata": {},
   "source": [
    "## Calculate the center of gravity of the vortex"
   ]
  },
  {
   "cell_type": "code",
   "execution_count": 43,
   "metadata": {},
   "outputs": [],
   "source": [
    "from scipy.optimize import curve_fit\n",
    "\n",
    "def gauss(x, y0, a, x0, sigma):\n",
    "    return a * np.exp(-(x - x0)**2 / (2 * sigma**2)) + y0\n",
    "\n",
    "class Fitter:\n",
    "    def __init__(self, x, y, weights=None, autoweight=True, blow=dict(), bup=dict(), fixed=dict()):\n",
    "        self.x = x\n",
    "        self.y = y\n",
    "        self.autoweight = autoweight\n",
    "        self.weights = weights\n",
    "        \n",
    "        self.parameters = [\"y0\", \"a\", \"x0\", \"sigma\"]\n",
    "        \n",
    "        self.blow = {key : -np.inf for key in self.parameters}\n",
    "        self.bup = {key : np.inf for key in self.parameters}\n",
    "        self.blow[\"sigma\"] = 0\n",
    "        self.bup[\"sigma\"] = (np.max(x)-np.min(x))\n",
    "        self.blow[\"x0\"] = np.min(x)\n",
    "        self.bup[\"x0\"] = np.max(x)\n",
    "        \n",
    "        for key, val in blow.items():\n",
    "            self.set_lower_bound(key, val)\n",
    "        for key, val in bup.items():\n",
    "            self.set_upper_bound(key, val)\n",
    "        \n",
    "        self.fixed = fixed\n",
    "    \n",
    "    def set_lower_bound(self, key, value):\n",
    "        if not key in self.parameters:\n",
    "            raise KeyError(f\"{key} is not a member of the lower bounds dict.\")\n",
    "        self.blow[key] = value\n",
    "        \n",
    "    def set_upper_bound(self, key, value):\n",
    "        if not key in self.parameters:\n",
    "            raise KeyError(f\"{key} is not a member of the upper bounds dict.\")\n",
    "        self.bup[key] = value\n",
    "        \n",
    "    def set_fixed(self, key, value):\n",
    "        if not key in self.parameters:\n",
    "            raise KeyError(f\"{key} is not a valid parameter.\")\n",
    "        self.fixed[key] = value\n",
    "    \n",
    "    def fit(self):\n",
    "        popt, pcov = self.fit_single()\n",
    "        \n",
    "        if self.weights is None and self.autoweight:\n",
    "            peak_value = popt[0] + popt[1] # y0 + a\n",
    "            self.calc_weights(peak_value)\n",
    "            popt, pcov = self.fit_single()\n",
    "        return popt, pcov\n",
    "    \n",
    "    def calc_weights(self, peak_value):\n",
    "        difference = np.abs(self.y - peak_value)\n",
    "        self.weights = np.exp(-difference/np.max(difference))\n",
    "    \n",
    "    def fit_single(self):\n",
    "        x = self.x\n",
    "        y = self.y\n",
    "        fixed = self.fixed\n",
    "        weights = self.weights\n",
    "        lower = [self.blow[key] for key in self.parameters]\n",
    "        upper = [self.bup[key] for key in self.parameters]\n",
    "        \n",
    "        mean = sum(x * y) / sum(y)\n",
    "        sigma = np.sqrt(sum(y * (x - mean)**2) / sum(y))\n",
    "        \n",
    "        if \"y0\" in fixed and \"a\" in fixed:\n",
    "            f = lambda x,x0,sig: gauss(x, fixed[\"y0\"], fixed[\"a\"], x0, sig)\n",
    "            p0 = [mean, sigma]\n",
    "            bounds = (lower[2:], upper[2:])\n",
    "            popt,pcov = curve_fit(f, x, y, p0=p0, bounds=bounds, sigma=weights)\n",
    "            popt = [fixed[\"y0\"], fixed[\"a\"], popt[0], popt[1]]\n",
    "        elif \"y0\" in fixed:\n",
    "            f = lambda x,a,x0,sig: gauss(x, fixed[\"y0\"], a, x0, sig)\n",
    "            p0 = [np.average(y),mean, sigma]\n",
    "            bounds = (lower[1:], upper[1:])\n",
    "            popt,pcov = curve_fit(f, x, y, p0=p0,bounds=bounds, sigma=weights)\n",
    "            popt = [fixed[\"y0\"], popt[0], popt[1], popt[2]]\n",
    "        else:\n",
    "            f = gauss\n",
    "            p0 = [np.average(y), y[int(len(y)/2)], mean, sigma]\n",
    "            bounds = (lower, upper)\n",
    "            popt,pcov = curve_fit(f, x, y, p0=p0, bounds=bounds, sigma=weights)\n",
    "    \n",
    "        return popt, pcov"
   ]
  },
  {
   "cell_type": "code",
   "execution_count": 44,
   "metadata": {},
   "outputs": [],
   "source": [
    "def combine_periodic(x,y,m,lb=-np.pi,rb=np.pi):\n",
    "    \"\"\" Combine an array split at a periodic boundary. \"\"\"\n",
    "    if m[0] and m[-1] and not all(m):\n",
    "        bnd = np.where(m==False)[0][0]\n",
    "        xl = x[:bnd]\n",
    "        yl = y[:bnd]\n",
    "        bnd = np.where(m==False)[0][-1]\n",
    "        xr = x[bnd:]\n",
    "        yr = y[bnd:]\n",
    "        xcom = np.append(xr, xl+(rb-lb))\n",
    "        ycom = np.append(yr, yl)\n",
    "        return xcom, ycom\n",
    "    else:\n",
    "        return x[m],y[m]"
   ]
  },
  {
   "cell_type": "code",
   "execution_count": 45,
   "metadata": {},
   "outputs": [],
   "source": [
    "def plot_periodic_mask(ax, x, y, m, **kwargs):\n",
    "#     print(m)\n",
    "    if m[0] and m[-1] and not all(m):\n",
    "        bnd = np.where(m==False)[0][0]\n",
    "        xl = x[:bnd]\n",
    "        yl = y[:bnd]\n",
    "        line, = ax.plot(xl, yl, **kwargs)\n",
    "        bnd = np.where(m==False)[0][-1]\n",
    "#         print(len(x))\n",
    "#         print(bnd)\n",
    "        xr = x[bnd:]\n",
    "        yr = y[bnd:]\n",
    "        kwa = kwargs.copy()\n",
    "        kwa[\"color\"] = line.get_color()\n",
    "        kwa[\"ls\"] = line.get_linestyle()\n",
    "        line, = ax.plot(xr, yr, **kwa)\n",
    "        line.set_label(None)\n",
    "    else:\n",
    "        ax.plot(x[m],y[m],**kwargs)\n",
    "\n",
    "def plot_periodic(ax, x, y, m=None, boundaries=(-np.pi, np.pi), **kwargs):\n",
    "    if m is not None:\n",
    "        plot_periodic_mask(ax, x, y, m, **kwargs)\n",
    "        return\n",
    "    x[x<boundaries[0]] += boundaries[1]-boundaries[0]\n",
    "    m = x > boundaries[1]\n",
    "    if not any(m):\n",
    "        ax.plot(x,y,**kwargs)\n",
    "    else:\n",
    "        bnd = np.where(m==True)[0][0]\n",
    "        xl = x[:bnd]\n",
    "        yl = y[:bnd]\n",
    "        line, = ax.plot(xl, yl, **kwargs)\n",
    "        xr = x[bnd:] - (boundaries[1]-boundaries[0])\n",
    "        yr = y[bnd:]\n",
    "        kwa = kwargs.copy()\n",
    "        kwa[\"color\"] = line.get_color()\n",
    "        kwa[\"ls\"] = line.get_linestyle()\n",
    "        line, = ax.plot(xr, yr, **kwa)\n",
    "        line.set_label(None)\n",
    "    \n"
   ]
  },
  {
   "cell_type": "code",
   "execution_count": 46,
   "metadata": {},
   "outputs": [],
   "source": [
    "def plot_gauss(ax,x,y, xfull=None, double_fit=True, fixed=dict(), blow=dict(), bup=dict()):\n",
    "    try:\n",
    "        fitter = Fitter(x, y, blow=blow, bup=bup, fixed=fixed)\n",
    "        popt, pcov = fitter.fit_single()\n",
    "        ax.plot(x, gauss(x, *popt), 'r-', color=\"C2\", label='1st fit')\n",
    "        \n",
    "        if double_fit:\n",
    "            peak_value = popt[0] + popt[1] # y0 + a\n",
    "            difference = np.abs(y - peak_value)\n",
    "            w = np.exp(-difference/np.max(difference))\n",
    "            fitter.weights = w\n",
    "            popt,pcov = fitter.fit_single()\n",
    "            \n",
    "            popt, pcov = fitter.fit_single()\n",
    "            ax.plot(x, 0.5*w/np.max(w)*(popt[0]+popt[1]), color=\"C2\", ls=\":\", label=\"weights\")\n",
    "            ax.plot(x, gauss(x, *popt), ls='--', color=\"C3\", lw=2, label='2nd fit')\n",
    "        \n",
    "        if xfull is not None:\n",
    "            ax.plot(xfull, gauss(xfull, *popt), 'r-', alpha=0.2)\n",
    "        return popt, pcov\n",
    "    except RuntimeError:\n",
    "        pass\n",
    "    \n",
    "def plot_gauss_periodic(ax, x, y, m=None, double_fit=True, fixed=dict(), blow=dict(), bup=dict()):\n",
    "    if m is None:\n",
    "        m = np.ones(len(x), dtype=bool)\n",
    "    try:\n",
    "        xc, yc = combine_periodic(x,y,m)\n",
    "        \n",
    "        fitter = Fitter(xc, yc, blow=blow, bup=bup, fixed=fixed)\n",
    "        popt, pcov = fitter.fit_single()\n",
    "\n",
    "        plot_periodic(ax, xc, gauss(xc, *popt), ls=\"-\", color=\"C2\", label='1st fit')\n",
    "        \n",
    "        if double_fit:\n",
    "            peak_value = popt[0] + popt[1] # y0 + a\n",
    "            difference = np.abs(yc - peak_value)\n",
    "            w = np.exp(-difference/np.max(difference))\n",
    "            fitter.weights = w\n",
    "            popt,pcov = fitter.fit_single()\n",
    "            \n",
    "            plot_periodic(ax, xc, np.min(y) +  0.5*w/np.max(w)*(np.max(y)-np.min(y)), color=\"C2\", ls=\":\", label=\"weights\")\n",
    "            plot_periodic(ax, xc, gauss(xc, *popt), ls=\"--\", lw=2, color=\"C3\", label='2nd fit')\n",
    "        \n",
    "        c = popt[2]\n",
    "        xnew = np.linspace(c-np.pi, c+np.pi, 500, endpoint=False)\n",
    "        plot_periodic(ax, xnew, gauss(xnew, *popt), ls=\"-\", color=\"C3\", alpha=0.2)\n",
    "        return popt, pcov\n",
    "    except RuntimeError:\n",
    "        pass"
   ]
  },
  {
   "cell_type": "code",
   "execution_count": 47,
   "metadata": {},
   "outputs": [],
   "source": [
    "def extend_vortex_mask_by_size(mask, fraction=0.25):\n",
    "    L = np.sum(mask)\n",
    "    dL = int(fraction*L)\n",
    "\n",
    "    m = mask[1:] != mask[:-1]\n",
    "    copy = mask.copy()\n",
    "    bnd = np.where(m)[0][0]\n",
    "    \n",
    "    if mask[bnd+1]:\n",
    "        copy[bnd-dL:bnd+1] = True\n",
    "        bnd = np.where(m)[0][-1]\n",
    "        copy[bnd:bnd+dL] = True\n",
    "    else:\n",
    "        copy[bnd:bnd+dL] = True\n",
    "        bnd = np.where(m)[0][-1]\n",
    "        copy[bnd-dL:bnd+1] = True\n",
    "    return copy"
   ]
  },
  {
   "cell_type": "code",
   "execution_count": 48,
   "metadata": {},
   "outputs": [],
   "source": [
    "def extend_vortex_mask_by_value(mask, y, ref):\n",
    "\n",
    "    m = mask[1:] != mask[:-1]\n",
    "    copy = mask.copy()\n",
    "    bnd = np.where(m)[0][0]\n",
    "    go_left = mask[bnd+1]\n",
    "    if go_left:\n",
    "        r = range(bnd, -1, -1)\n",
    "    else:\n",
    "        r = range(bnd, len(mask))\n",
    "    last = y[bnd]\n",
    "    for n in r:\n",
    "        crossing_ref_up = y[n] >= ref and last < ref\n",
    "        crossing_ref_down = y[n] <= ref and last > ref\n",
    "        if crossing_ref_up or crossing_ref_down:\n",
    "            break\n",
    "        else:\n",
    "            copy[n] = True\n",
    "            last = y[n]\n",
    "            \n",
    "    bnd = np.where(m)[0][-1]\n",
    "    go_left = mask[bnd+1]\n",
    "    if go_left:\n",
    "        r = range(bnd, -1, -1)\n",
    "    else:\n",
    "        r = range(bnd, len(mask))\n",
    "    last = y[bnd]\n",
    "    for n in r:\n",
    "        crossing_ref_up = y[n] >= ref and last < ref\n",
    "        crossing_ref_down = y[n] <= ref and last > ref\n",
    "        if crossing_ref_up or crossing_ref_down:\n",
    "            break\n",
    "        else:\n",
    "            copy[n] = True\n",
    "            last = y[n]\n",
    "    \n",
    "    return copy\n",
    "    "
   ]
  },
  {
   "cell_type": "markdown",
   "metadata": {},
   "source": [
    "## Vortensity slices onto the vortex"
   ]
  },
  {
   "cell_type": "code",
   "execution_count": 49,
   "metadata": {},
   "outputs": [
    {
     "data": {
      "application/vnd.jupyter.widget-view+json": {
       "model_id": "f7fc96919eb4414593b03f6464402e7f",
       "version_major": 2,
       "version_minor": 0
      },
      "text/plain": [
       "Canvas(toolbar=Toolbar(toolitems=[('Home', 'Reset original view', 'home', 'home'), ('Back', 'Back to previous …"
      ]
     },
     "metadata": {},
     "output_type": "display_data"
    },
    {
     "name": "stdout",
     "output_type": "stream",
     "text": [
      "avg 0.4790988422537555\n",
      "c 2.307463253385084\n"
     ]
    },
    {
     "data": {
      "application/vnd.jupyter.widget-view+json": {
       "model_id": "00f9a99d93894005bc139a52631a7f0a",
       "version_major": 2,
       "version_minor": 0
      },
      "text/plain": [
       "Canvas(toolbar=Toolbar(toolitems=[('Home', 'Reset original view', 'home', 'home'), ('Back', 'Back to previous …"
      ]
     },
     "metadata": {},
     "output_type": "display_data"
    }
   ],
   "source": [
    "for vort in candidates.values():\n",
    "    if \"fit_sigma_center_r_ind\" in vort:\n",
    "        inds = (vort[\"fit_sigma_center_r_ind\"], vort[\"fit_sigma_center_phi_ind\"])\n",
    "        mask_r = vort[\"fit_sigma_mask_r\"]\n",
    "        mask_phi = vort[\"fit_sigma_mask_phi\"]\n",
    "\n",
    "    else:\n",
    "        inds = vort[\"vortensity_min_inds\"]\n",
    "\n",
    "        mask = vort[\"mask\"]\n",
    "        mask_r = mask[:, inds[1]]\n",
    "        mask_phi = mask[inds[0], :]\n",
    "    \n",
    "    vortensity_r = vortensity_view[:, inds[1]]\n",
    "    vortensity_phi = vortensity_view[inds[0], :]\n",
    "    \n",
    "    phi = Yc_view[inds[0],:]\n",
    "    r = Xc_view[:,inds[1]]\n",
    "    \n",
    "#     mask_phi = extend_vortex_mask_by_size(mask_phi)\n",
    "#     mask_r = extend_vortex_mask_by_size(mask_r)\n",
    "    \n",
    "    ref = np.average(vortensity_phi)\n",
    "#     mask_phi = extend_vortex_mask_by_value(mask_phi, vortensity_phi, ref)\n",
    "#     mask_r = extend_vortex_mask_by_value(mask_r, vortensity_r, ref)\n",
    "    \n",
    "\n",
    "    fig, ax = plt.subplots(dpi=150)\n",
    "    ax.plot(phi, vortensity_phi, label=\"data slice\")\n",
    "    plot_periodic(ax,phi, vortensity_phi, m=mask_phi, label=\"vortex region\")\n",
    "    avg = np.average(vortensity_phi)\n",
    "    print(\"avg\", avg)\n",
    "    popt, pcov = plot_gauss_periodic(ax,phi, vortensity_phi, m=mask_phi, fixed={\"y0\" : avg})\n",
    "#     popt, pcov = plot_gauss_periodic(ax,Yc_view[inds[0],:], vortensity_phi, m=mask_phi, fixed={\"y0\" : 1})\n",
    "#     popt, pcov = plot_gauss_periodic(ax,Yc_view[inds[0],:], vortensity_phi, m=mask_phi, blow={\"y0\" : avg/10}, bup={\"y0\": avg*2})\n",
    "    ax.plot([Yc_view[inds]],[vortensity_view[inds]], \"x\")\n",
    "    ax.set_xlabel(r\"$\\phi$\")\n",
    "    ax.set_ylabel(r\"$\\varpi/\\varpi_0$\")\n",
    "    ax.set_title(\"Vortensity azimuthally along the vortex vortensity minimum.\")\n",
    "    ax.legend()\n",
    "    ax.grid()\n",
    "#     ax.plot(Yc_view[inds[0],:], mask_phi_copy)\n",
    "\n",
    "    c = popt[2]\n",
    "    c = (c+np.pi)%(2*np.pi)-np.pi\n",
    "    print(\"c\", c)\n",
    "    sig = popt[3]\n",
    "    cind = np.argmin(np.abs(phi - c))\n",
    "    lphi = ((c-sig)+np.pi) % (2*np.pi) - np.pi\n",
    "    lind = np.argmin(np.abs(phi - lphi))\n",
    "    uphi = ((c+sig)+np.pi) % (2*np.pi) - np.pi\n",
    "    uind = np.argmin(np.abs(phi - uphi))\n",
    "    mask = np.zeros(len(phi), dtype=bool)\n",
    "    if c + sig > np.pi or c - sig < -np.pi:\n",
    "        mask[lind:] = True\n",
    "        mask[:uind+1] = True\n",
    "    else:\n",
    "        mask[lind:uind+1] = True\n",
    "    vort[\"fit_vortensity_center_phi\"] = c\n",
    "    vort[\"fit_vortensity_center_phi_ind\"] = cind\n",
    "    vort[\"fit_vortensity_sigma_phi\"] = sig\n",
    "    vort[\"fit_vortensity_mask_phi\"] = mask\n",
    "    \n",
    "    fig, ax = plt.subplots(dpi=150)\n",
    "    ax.plot(r, vortensity_r, label=\"data slice\")\n",
    "    ax.plot(r[mask_r], vortensity_r[mask_r], label=\"vortex region\")\n",
    "    popt, pcov = plot_gauss(ax,r[mask_r], vortensity_r[mask_r], xfull=Xc_view[:,inds[1]], fixed = {\"y0\" : popt[0], \"a\" : popt[1]})\n",
    "    ax.plot([Xc_view[inds]],[vortensity_view[inds]], \"x\")\n",
    "    ax.set_xlabel(r\"$r$ [au]\")\n",
    "    ax.set_ylabel(r\"$\\varpi/\\varpi_0$\")\n",
    "    ax.set_title(\"Vortensity radially along the vortex vortensity minimum.\")\n",
    "    ax.set_ylim([-1,1.5])\n",
    "    ax.legend()\n",
    "    ax.grid()\n",
    "#     ax.plot(Xc_view[:,inds[1]], mask_r)\n",
    "#     ax.plot(Xc_view[:,inds[1]], mask_r_copy)\n",
    "\n",
    "    c = popt[2]\n",
    "    sig = popt[3]\n",
    "    cind = np.argmin(np.abs(r - c))\n",
    "    lr = c - sig\n",
    "    lind = np.argmin(np.abs(r - lr))\n",
    "    ur = c + sig\n",
    "    uind = np.argmin(np.abs(r - ur))\n",
    "    mask = np.zeros(len(r), dtype=bool)\n",
    "    mask[lind:uind+1] = True\n",
    "    vort[\"fit_vortensity_center_r\"] = c\n",
    "    vort[\"fit_vortensity_center_r_ind\"] = cind\n",
    "    vort[\"fit_vortensity_sigma_r\"] = sig\n",
    "    vort[\"fit_vortensity_mask_r\"] = mask\n",
    "\n",
    "    \n",
    "\n",
    "    break"
   ]
  },
  {
   "cell_type": "markdown",
   "metadata": {},
   "source": [
    "## Fitting gaussian to sigma with vortensity fit mask"
   ]
  },
  {
   "cell_type": "code",
   "execution_count": 50,
   "metadata": {},
   "outputs": [
    {
     "data": {
      "application/vnd.jupyter.widget-view+json": {
       "model_id": "3248d755cd3a47a99e2f67df17065b4c",
       "version_major": 2,
       "version_minor": 0
      },
      "text/plain": [
       "Canvas(toolbar=Toolbar(toolitems=[('Home', 'Reset original view', 'home', 'home'), ('Back', 'Back to previous …"
      ]
     },
     "metadata": {},
     "output_type": "display_data"
    },
    {
     "name": "stdout",
     "output_type": "stream",
     "text": [
      "c 2.323357188762266\n"
     ]
    },
    {
     "data": {
      "application/vnd.jupyter.widget-view+json": {
       "model_id": "72d181d7706c4df98afab349e5c5100c",
       "version_major": 2,
       "version_minor": 0
      },
      "text/plain": [
       "Canvas(toolbar=Toolbar(toolitems=[('Home', 'Reset original view', 'home', 'home'), ('Back', 'Back to previous …"
      ]
     },
     "metadata": {},
     "output_type": "display_data"
    },
    {
     "name": "stdout",
     "output_type": "stream",
     "text": [
      "sigma r popt [4.8273584349188365e-05, 5.876825913925644e-05, 8.055485759563917, 0.4369600329456102]\n",
      "sigma center 8.055485759563917\n"
     ]
    }
   ],
   "source": [
    "for vort in candidates.values():\n",
    "    inds = (vort[\"fit_vortensity_center_r_ind\"], vort[\"fit_vortensity_center_phi_ind\"])\n",
    "\n",
    "    mask_r = vort[\"fit_vortensity_mask_r\"]\n",
    "    mask_phi = vort[\"fit_vortensity_mask_phi\"]\n",
    "    \n",
    "    sigma_r = Rho_view[:, inds[1]]\n",
    "    sigma_phi = Rho_view[inds[0], :]\n",
    "    \n",
    "\n",
    "    r = Xc_view[:,inds[1]]\n",
    "    phi = Yc_view[inds[0],:]\n",
    "    \n",
    "    fig, ax = plt.subplots(dpi=150)\n",
    "    ax.plot(phi, sigma_phi, label=\"data slice\")\n",
    "    plot_periodic(ax, phi, sigma_phi, m=mask_phi, label=\"vortex region\")\n",
    "    popt, _ = plot_gauss_periodic(ax,Yc_view[inds[0],:], sigma_phi, m=mask_phi, \n",
    "                                  blow = {\"y0\" : 0, \"a\" : 0})\n",
    "#                                   fixed={\"y0\" : 0})\n",
    "    ax.plot([Yc_view[inds]],[Rho_view[inds]], \"x\")\n",
    "    ax.axvline(np.pi, color=\"k\", alpha=0.3)\n",
    "    ax.axvline(-np.pi, color=\"k\", alpha=0.3)\n",
    "    ax.set_xlabel(r\"$\\phi$\")\n",
    "    ax.set_ylabel(r\"$\\Sigma$ [g/cm2]\")\n",
    "    ax.set_title(r\"$\\Sigma$ azimuthally along the vortex vortensity minimum.\")\n",
    "    ax.set_ylim(bottom=0)\n",
    "    ax.legend()\n",
    "    ax.grid()\n",
    "    \n",
    "    c = popt[2]\n",
    "    c = (c+np.pi)%(2*np.pi)-np.pi\n",
    "    print(\"c\", c)\n",
    "    sig = popt[3]\n",
    "    cind = np.argmin(np.abs(phi - c))\n",
    "    lphi = ((c-sig)+np.pi) % (2*np.pi) - np.pi\n",
    "    lind = np.argmin(np.abs(phi - lphi))\n",
    "    uphi = ((c+sig)+np.pi) % (2*np.pi) - np.pi\n",
    "    uind = np.argmin(np.abs(phi - uphi))\n",
    "    mask = np.zeros(len(phi), dtype=bool)\n",
    "    if c + sig > np.pi or c - sig < -np.pi:\n",
    "        mask[lind:] = True\n",
    "        mask[:uind+1] = True\n",
    "    else:\n",
    "        mask[lind:uind+1] = True\n",
    "    vort[\"fit_sigma_center_phi\"] = c\n",
    "    vort[\"fit_sigma_center_phi_ind\"] = cind\n",
    "    vort[\"fit_sigma_sigma_phi\"] = sig\n",
    "    vort[\"fit_sigma_mask_phi\"] = mask\n",
    "    \n",
    "    fig, ax = plt.subplots(dpi=150)\n",
    "    ax.plot(r, sigma_r, label=\"data slice\")\n",
    "    ax.plot(r[mask_r], sigma_r[mask_r], label=\"vortex region\")\n",
    "    \n",
    "    popt, pcov, = plot_gauss(ax,r[mask_r], sigma_r[mask_r], xfull=Xc_view[:,inds[1]], \n",
    "#                              blow = {\"y0\" : 0, \"a\" : 0})\n",
    "                             fixed = {\"y0\" : popt[0], \"a\" : popt[1]})\n",
    "    ax.plot([Xc_view[inds]],[Rho_view[inds]], \"x\")\n",
    "    ax.set_xlabel(r\"$r$ [au]\")\n",
    "    ax.set_ylabel(r\"$\\Sigma$ [g/cm2]\")\n",
    "    ax.set_title(r\"$\\Sigma$ radially along the vortex vortensity minimum.\")\n",
    "    ax.set_ylim(bottom=0)\n",
    "    ax.legend()\n",
    "    ax.grid()\n",
    "    \n",
    "    print(\"sigma r popt\", popt)\n",
    "    c = popt[2]\n",
    "    sig = popt[3]\n",
    "    cind = np.argmin(np.abs(r - c))\n",
    "    lr = c - sig\n",
    "    lind = np.argmin(np.abs(r - lr))\n",
    "    ur = c + sig\n",
    "    uind = np.argmin(np.abs(r - ur))\n",
    "    mask = np.zeros(len(r), dtype=bool)\n",
    "    mask[lind:uind+1] = True\n",
    "    print(\"sigma center\", c)\n",
    "    vort[\"fit_sigma_center_r\"] = c\n",
    "    vort[\"fit_sigma_center_r_ind\"] = cind\n",
    "    vort[\"fit_sigma_sigma_r\"] = sig\n",
    "    vort[\"fit_sigma_mask_r\"] = mask\n",
    "\n",
    "    break"
   ]
  },
  {
   "cell_type": "markdown",
   "metadata": {},
   "source": [
    "## Fitting gaussian to sigma with contour mask"
   ]
  },
  {
   "cell_type": "code",
   "execution_count": 51,
   "metadata": {},
   "outputs": [
    {
     "data": {
      "application/vnd.jupyter.widget-view+json": {
       "model_id": "f6ba71a96f804b2e9fddd3258b2e03fd",
       "version_major": 2,
       "version_minor": 0
      },
      "text/plain": [
       "Canvas(toolbar=Toolbar(toolitems=[('Home', 'Reset original view', 'home', 'home'), ('Back', 'Back to previous …"
      ]
     },
     "metadata": {},
     "output_type": "display_data"
    },
    {
     "data": {
      "application/vnd.jupyter.widget-view+json": {
       "model_id": "5a5e75bd8f7a4f5ea9ae77bff6649eb1",
       "version_major": 2,
       "version_minor": 0
      },
      "text/plain": [
       "Canvas(toolbar=Toolbar(toolitems=[('Home', 'Reset original view', 'home', 'home'), ('Back', 'Back to previous …"
      ]
     },
     "metadata": {},
     "output_type": "display_data"
    }
   ],
   "source": [
    "for vort in candidates.values():\n",
    "\n",
    "    inds = vort[\"vortensity_min_inds\"]\n",
    "    \n",
    "    mask = vort[\"mask\"]\n",
    "    mask_r = mask[:, inds[1]]\n",
    "    mask_phi = mask[inds[0], :]\n",
    "    \n",
    "    sigma_r = Rho_view[:, inds[1]]\n",
    "    sigma_phi = Rho_view[inds[0], :]\n",
    "    \n",
    "    vortensity_r = vortensity_view[:, inds[1]]\n",
    "    vortensity_phi = vortensity_view[inds[0], :]\n",
    "    \n",
    "    \n",
    "    ref = np.average(vortensity_phi)\n",
    "    mask_phi = extend_vortex_mask_by_value(mask_phi, vortensity_phi, ref)\n",
    "    mask_r = extend_vortex_mask_by_value(mask_r, vortensity_r, ref)\n",
    "\n",
    "    fig, ax = plt.subplots(dpi=150)\n",
    "    ax.plot(Yc_view[inds[0],:], sigma_phi, label=\"data slice\")\n",
    "    plot_periodic(ax, Yc_view[inds[0],:], sigma_phi, m=mask_phi, label=\"vortex region\")\n",
    "    popt, _ = plot_gauss_periodic(ax,Yc_view[inds[0],:], sigma_phi, m=mask_phi, \n",
    "                                  blow = {\"y0\" : 0, \"a\" : 0})\n",
    "#                                   fixed={\"y0\" : 0})\n",
    "#     xcom, ycom = combine_periodic(Yc_view[inds[0],:], sigma_phi, mask_phi)\n",
    "#     ax.plot(xcom, ycom)\n",
    "    ax.plot([Yc_view[inds]],[Rho_view[inds]], \"x\")\n",
    "    ax.axvline(np.pi, color=\"k\", alpha=0.3)\n",
    "    ax.axvline(-np.pi, color=\"k\", alpha=0.3)\n",
    "    ax.set_xlabel(r\"$\\phi$\")\n",
    "    ax.set_ylabel(r\"$\\Sigma$ [g/cm2]\")\n",
    "    ax.set_title(r\"$\\Sigma$ azimuthally along the vortex vortensity minimum.\")\n",
    "    ax.set_ylim(bottom=0)\n",
    "    ax.legend()\n",
    "    ax.grid()\n",
    "    \n",
    "    fig, ax = plt.subplots(dpi=150)\n",
    "    ax.plot(Xc_view[:,inds[1]], sigma_r, label=\"data slice\")\n",
    "    ax.plot(Xc_view[:,inds[1]][mask_r], sigma_r[mask_r], label=\"vortex region\")\n",
    "    plot_gauss(ax,Xc_view[:,inds[1]][mask_r], sigma_r[mask_r], xfull=Xc_view[:,inds[1]], fixed = {\"y0\" : popt[0], \"a\" : popt[1]})\n",
    "    ax.plot([Xc_view[inds]],[Rho_view[inds]], \"x\")\n",
    "    ax.set_xlabel(r\"$r$ [au]\")\n",
    "    ax.set_ylabel(r\"$\\Sigma$ [g/cm2]\")\n",
    "    ax.set_title(r\"$\\Sigma$ radially along the vortex vortensity minimum.\")\n",
    "    ax.set_ylim(bottom=0)\n",
    "    ax.legend()\n",
    "    ax.grid()\n",
    "\n",
    "    break"
   ]
  },
  {
   "cell_type": "markdown",
   "metadata": {},
   "source": [
    "## Vorticity slices at the location of the vortex"
   ]
  },
  {
   "cell_type": "code",
   "execution_count": 52,
   "metadata": {},
   "outputs": [
    {
     "name": "stdout",
     "output_type": "stream",
     "text": [
      "mass_enhancement 0.0008892032508801067\n",
      "mass_background 0.0005290403914218792\n",
      "mass 0.001418243642301986\n",
      "vortensity_min 0.0444439556567655\n",
      "vortensity_median 0.2601006854907971\n",
      "vortensity_mean 0.27633867300162945\n",
      "vortensity_max 0.650568401886805\n",
      "strength 1.1454384204029908\n"
     ]
    },
    {
     "data": {
      "application/vnd.jupyter.widget-view+json": {
       "model_id": "22ac35e7bf1b4b15bbb79206b7ab63a2",
       "version_major": 2,
       "version_minor": 0
      },
      "text/plain": [
       "Canvas(toolbar=Toolbar(toolitems=[('Home', 'Reset original view', 'home', 'home'), ('Back', 'Back to previous …"
      ]
     },
     "metadata": {},
     "output_type": "display_data"
    },
    {
     "data": {
      "application/vnd.jupyter.widget-view+json": {
       "model_id": "af5ede98363342398e3ccd8fde18f596",
       "version_major": 2,
       "version_minor": 0
      },
      "text/plain": [
       "Canvas(toolbar=Toolbar(toolitems=[('Home', 'Reset original view', 'home', 'home'), ('Back', 'Back to previous …"
      ]
     },
     "metadata": {},
     "output_type": "display_data"
    }
   ],
   "source": [
    "for vort in candidates.values():\n",
    "    for v in [\"mass_enhancement\", \"mass_background\", \"mass\", \"vortensity_min\", \"vortensity_median\", \"vortensity_mean\", \"vortensity_max\"]:\n",
    "        print(v, vort[v])\n",
    "    mass = vort[\"mass\"]/(1*u.jupiterMass).to_value(\"solMass\")\n",
    "    vort_med = vort[\"vortensity_median\"]\n",
    "    print(\"strength\", np.exp(-vort_med)*mass)\n",
    "    \n",
    "    inds = vort[\"vortensity_min_inds\"]\n",
    "    \n",
    "    mask = vort[\"mask\"]\n",
    "    mask_r = mask[:, inds[1]]\n",
    "    mask_phi = mask[inds[0], :]\n",
    "    \n",
    "    vorticity_r = vorticity_view[:, inds[1]]\n",
    "    vorticity_phi = vorticity_view[inds[0], :]\n",
    "    \n",
    "    fig, ax = plt.subplots(dpi=150)\n",
    "    ax.plot(Yc_view[inds[0],:], vorticity_phi)\n",
    "    plot_periodic(ax, Yc_view[inds[0],:], vorticity_phi, m=mask_phi)\n",
    "    plot_gauss_periodic(ax,Yc_view[inds[0],:], vorticity_phi, m=mask_phi, fixed={\"y0\" : 1})\n",
    "    ax.plot([Yc_view[inds]],[vorticity_view[inds]], \"x\")\n",
    "    ax.set_xlabel(r\"$\\phi$\")\n",
    "    ax.set_ylabel(r\"$(\\nabla \\times v)_z$\")\n",
    "    ax.set_title(\"Vorticity azimuthally along the vortex vortensity minimum.\")\n",
    "    ax.grid(alpha=0.3)\n",
    "\n",
    "    fig, ax = plt.subplots(dpi=150)\n",
    "    ax.plot(Xc_view[:,inds[1]], vorticity_r)\n",
    "    ax.plot(Xc_view[:,inds[1]][mask_r], vorticity_r[mask_r])\n",
    "    plot_gauss(ax,Xc_view[:,inds[1]][mask_r], vorticity_r[mask_r], xfull=Xc_view[:,inds[1]], fixed = {\"y0\" : popt[0], \"a\" : popt[1]})\n",
    "    ax.plot([Xc_view[inds]],[vorticity_view[inds]], \"x\")\n",
    "    ax.set_xlabel(r\"$r$ [au]\")\n",
    "    ax.set_ylabel(r\"$(\\nabla \\times v)_z$\")\n",
    "    ax.set_title(\"Vorticity radially along the vortex vortensity minimum.\")\n",
    "    ax.set_ylim([-1,1.5])\n",
    "    ax.grid(alpha=0.3)\n",
    "    \n",
    "\n",
    "    break"
   ]
  },
  {
   "cell_type": "markdown",
   "metadata": {},
   "source": [
    "## Extend mask to full data array size"
   ]
  },
  {
   "cell_type": "code",
   "execution_count": 53,
   "metadata": {},
   "outputs": [],
   "source": [
    "for c in candidates.values():\n",
    "    mask = c[\"mask\"]\n",
    "    gmask = np.concatenate(\n",
    "        [np.zeros((vmi, mask.shape[1]),dtype=bool), \n",
    "        mask,\n",
    "        np.zeros((Xc.shape[0]-vma, mask.shape[1]),dtype=bool)],\n",
    "        axis=0)\n",
    "    c[\"gmask\"] = gmask\n",
    "    c[\"gtop\"] = (c[\"top\"][0] + vmi, c[\"top\"][1])\n",
    "    c[\"gright\"] = (c[\"right\"][0] + vmi, c[\"right\"][1])\n",
    "    c[\"gleft\"] = (c[\"left\"][0] + vmi, c[\"left\"][1])\n",
    "    c[\"gbottom\"] = (c[\"bottom\"][0] + vmi, c[\"bottom\"][1])"
   ]
  },
  {
   "cell_type": "code",
   "execution_count": 54,
   "metadata": {},
   "outputs": [],
   "source": [
    "from scipy.optimize import curve_fit\n",
    "\n",
    "def gauss2D(v, c, a, x0, y0, wx, wy):\n",
    "    x, y = v\n",
    "    ex = np.exp(-(x - x0)**2 / (2 * wx**2))\n",
    "    ey = np.exp(-(y - y0)**2 / (2 * wy**2))\n",
    "    return c + a*ex*ey\n",
    "\n",
    "class Gauss2DFitter:\n",
    "    def __init__(self, x, y, z, weights=None, autoweight=False, blow=None, bup=None, fixed=None, p0=None):\n",
    "        blow = {} if blow is None else blow\n",
    "        bup = {} if bup is None else bup\n",
    "        fixed = {} if fixed is None else fixed\n",
    "        p0 = {} if p0 is None else p0\n",
    "        \n",
    "        self.x = x\n",
    "        self.y = y\n",
    "        self.z = z\n",
    "        self.autoweight = autoweight\n",
    "        self.weights = weights\n",
    "        \n",
    "        self.parameters = [\"c\", \"a\", \"x0\", \"y0\", \"wx\", \"wy\"]\n",
    "        \n",
    "        self.blow = {key : -np.inf for key in self.parameters}\n",
    "        self.bup = {key : np.inf for key in self.parameters}\n",
    "        self.blow[\"wx\"] = 0\n",
    "        self.bup[\"wx\"] = np.max(x)-np.min(x)\n",
    "        self.blow[\"x0\"] = np.min(x)\n",
    "        self.bup[\"x0\"] = np.max(x)\n",
    "        \n",
    "        self.blow[\"wy\"] = 0\n",
    "        self.bup[\"wy\"] = min((np.max(y)-np.min(y)), np.pi)\n",
    "        self.blow[\"y0\"] = np.min(y)\n",
    "        self.bup[\"y0\"] = np.max(y)\n",
    "        \n",
    "        for key, val in blow.items():\n",
    "            self.set_lower_bound(key, val)\n",
    "        for key, val in bup.items():\n",
    "            self.set_upper_bound(key, val)\n",
    "        \n",
    "        self.fixed = fixed\n",
    "        self.p0 = p0\n",
    "\n",
    "    def set_lower_bound(self, key, value):\n",
    "        if not key in self.parameters:\n",
    "            raise KeyError(f\"{key} is not a member of the lower bounds dict.\")\n",
    "        self.blow[key] = value\n",
    "        \n",
    "    def set_upper_bound(self, key, value):\n",
    "        if not key in self.parameters:\n",
    "            raise KeyError(f\"{key} is not a member of the upper bounds dict.\")\n",
    "        self.bup[key] = value\n",
    "        \n",
    "    def set_fixed(self, key, value):\n",
    "        if not key in self.parameters:\n",
    "            raise KeyError(f\"{key} is not a valid parameter.\")\n",
    "        self.fixed[key] = value\n",
    "    \n",
    "    def fit(self):\n",
    "        popt, pcov = self.fit_single()\n",
    "        \n",
    "        if self.weights is None and self.autoweight:\n",
    "            peak_value = popt[0] + popt[1] # y0 + a\n",
    "            self.calc_weights(peak_value)\n",
    "            popt, pcov = self.fit_single()\n",
    "        return popt, pcov\n",
    "    \n",
    "    def calc_weights(self, peak_value):\n",
    "        difference = np.abs(self.y - peak_value)\n",
    "        self.weights = np.exp(-difference/np.max(difference))\n",
    "    \n",
    "    def fit_single(self):\n",
    "        x = self.x\n",
    "        y = self.y\n",
    "        z = self.z\n",
    "        fixed = self.fixed\n",
    "        weights = self.weights\n",
    "        lower = [self.blow[key] for key in self.parameters]\n",
    "        upper = [self.bup[key] for key in self.parameters]\n",
    "        \n",
    "        x0_guess = 0.5*(np.max(x) + np.min(x))\n",
    "        wx_guess = 0.5*(np.max(x) - np.min(x))\n",
    "        \n",
    "        y0_guess = 0.5*(np.max(y) + np.min(y))\n",
    "        wy_guess = 0.5*(np.max(y) - np.min(y))\n",
    "        \n",
    "#         if \"y0\" in fixed and \"a\" in fixed:\n",
    "#             f = lambda x,x0,sig: gauss(x, fixed[\"y0\"], fixed[\"a\"], x0, sig)\n",
    "#             p0 = [mean, sigma]\n",
    "#             bounds = (lower[2:], upper[2:])\n",
    "#             popt,pcov = curve_fit(f, x, y, p0=p0, bounds=bounds, sigma=weights)\n",
    "#             popt = [fixed[\"y0\"], fixed[\"a\"], popt[0], popt[1]]\n",
    "#         elif \"y0\" in fixed:\n",
    "#             f = lambda x,a,x0,sig: gauss(x, fixed[\"y0\"], a, x0, sig)\n",
    "#             p0 = [np.average(y),mean, sigma]\n",
    "#             bounds = (lower[1:], upper[1:])\n",
    "#             popt,pcov = curve_fit(f, x, y, p0=p0,bounds=bounds, sigma=weights)\n",
    "#             popt = [fixed[\"y0\"], popt[0], popt[1], popt[2]]\n",
    "#         else:\n",
    "        f = gauss2D\n",
    "        zavg = np.average(z)\n",
    "        c_guess = zavg\n",
    "        a_guess = zavg\n",
    "        p0 = {\n",
    "            \"c\" : c_guess,\n",
    "            \"a\" : a_guess, \n",
    "            \"x0\" : x0_guess, \n",
    "            \"y0\" : y0_guess, \n",
    "            \"wx\" : wx_guess, \n",
    "            \"wy\" : wy_guess\n",
    "        }\n",
    "        for key, val in self.p0.items():\n",
    "            p0[key] = val\n",
    "        self.p0 = p0\n",
    "        p0_vec = [p0[key] for key in self.parameters]\n",
    "        bounds = (lower, upper)\n",
    "        popt,pcov = curve_fit(f, (x, y), z, p0=p0_vec, bounds=bounds, sigma=weights)\n",
    "    \n",
    "        return popt, pcov"
   ]
  },
  {
   "cell_type": "code",
   "execution_count": 55,
   "metadata": {},
   "outputs": [
    {
     "name": "stdout",
     "output_type": "stream",
     "text": [
      "Sigma fit parameters\n",
      "c      1.96e-05 ( 1.73e-05) [ 1.62e-05,  2.70e-05]\n",
      "a      9.04e-05 ( 8.53e-05) [ 6.40e-05,  1.07e-04]\n",
      "x0     8.08e+00 ( 8.04e+00) [ 6.99e+00,  9.08e+00]\n",
      "y0     2.30e+00 ( 2.31e+00) [ 1.03e+00,  3.43e+00]\n",
      "wx     5.48e-01 ( 1.05e+00) [ 0.00e+00,  2.09e+00]\n",
      "wy     4.07e-01 ( 1.20e+00) [ 0.00e+00,  2.40e+00]\n"
     ]
    },
    {
     "data": {
      "application/vnd.jupyter.widget-view+json": {
       "model_id": "0ac0e94176a2401c8f49665b24bfb25a",
       "version_major": 2,
       "version_minor": 0
      },
      "text/plain": [
       "Canvas(toolbar=Toolbar(toolitems=[('Home', 'Reset original view', 'home', 'home'), ('Back', 'Back to previous …"
      ]
     },
     "metadata": {},
     "output_type": "display_data"
    },
    {
     "name": "stdout",
     "output_type": "stream",
     "text": [
      "Vortensity fit parameters\n",
      "c      6.97e-01\n",
      "a     -7.17e-01\n",
      "x0     8.02e+00\n",
      "y0     2.31e+00\n",
      "wx     7.40e-01\n",
      "wy     6.19e-01\n"
     ]
    },
    {
     "data": {
      "application/vnd.jupyter.widget-view+json": {
       "model_id": "5ad6d6d73d854f2aab24f017df4a1f9c",
       "version_major": 2,
       "version_minor": 0
      },
      "text/plain": [
       "Canvas(toolbar=Toolbar(toolitems=[('Home', 'Reset original view', 'home', 'home'), ('Back', 'Back to previous …"
      ]
     },
     "metadata": {},
     "output_type": "display_data"
    }
   ],
   "source": [
    "vort = [c for c in candidates.values()][0]\n",
    "inds = vort[\"vortensity_min_inds\"]\n",
    "\n",
    "def get_pos(inds):\n",
    "    r = Xc_view[inds]\n",
    "    phi = Yc_view[inds]\n",
    "    return (r,phi)\n",
    "\n",
    "top = get_pos(vort[\"top_view\"])\n",
    "left = get_pos(vort[\"left_view\"])\n",
    "right = get_pos(vort[\"right_view\"])\n",
    "bottom = get_pos(vort[\"bottom_view\"])\n",
    "\n",
    "\n",
    "mask = vort[\"mask\"]\n",
    "mask_r = mask[:, inds[1]]\n",
    "mask_phi = mask[inds[0],:]\n",
    "\n",
    "vals = Rho_view\n",
    "R = Xc_view[mask]\n",
    "PHI = Yc_view[mask]\n",
    "\n",
    "Z = vals[mask]\n",
    "Z_r = vals[:, inds[1]]\n",
    "Z_phi = vals[inds[0],:]\n",
    "\n",
    "r0 = Xc_view[inds]\n",
    "phi0 = Yc_view[inds]\n",
    "\n",
    "\n",
    "c_ref = np.average(Z_phi[np.logical_not(mask_phi)])\n",
    "\n",
    "c_guess = c_ref\n",
    "a_guess = np.max(Z) - c_guess\n",
    "\n",
    "\n",
    "if bottom[1] > top[1]:\n",
    "    if phi0 > 0:\n",
    "        mask_up = PHI < phi0-np.pi\n",
    "        mask_low = np.logical_not(mask_up)\n",
    "\n",
    "        R_up = R[mask_up]\n",
    "        PHI_up = PHI[mask_up]+2*np.pi\n",
    "        Z_up = Z[mask_up]\n",
    "\n",
    "        R_low = R[mask_low]\n",
    "        PHI_low = PHI[mask_low]\n",
    "        Z_low = Z[mask_low]\n",
    "\n",
    "        R_fit = np.append(R_low,R_up)\n",
    "        PHI_fit = np.append(PHI_low,PHI_up)\n",
    "        Z_fit = np.append(Z_low,Z_up)\n",
    "    else:\n",
    "        mask_up = PHI > phi0+np.pi\n",
    "        mask_low = np.logical_not(mask_up)\n",
    "\n",
    "        R_up = R[mask_up]\n",
    "        PHI_up = PHI[mask_up]-2*np.pi\n",
    "        Z_up = Z[mask_up]\n",
    "\n",
    "        R_low = R[mask_low]\n",
    "        PHI_low = PHI[mask_low]\n",
    "        Z_low = Z[mask_low]\n",
    "\n",
    "        R_fit = np.append(R_low,R_up)\n",
    "        PHI_fit = np.append(PHI_low,PHI_up)\n",
    "        Z_fit = np.append(Z_low,Z_up)\n",
    "else:\n",
    "    R_fit = R\n",
    "    PHI_fit = PHI\n",
    "    Z_fit = Z\n",
    "\n",
    "fitter = Gauss2DFitter(R_fit, PHI_fit, Z_fit, \n",
    "                       p0={\"x0\" : r0, \"y0\" : phi0, \"c\" : 0.8*c_ref, \"a\" : a_guess},\n",
    "                       blow={\"c\" : 0.75*c_ref, \"a\": 0.75*a_guess},\n",
    "                       bup={\"c\" : 1.25*c_ref, \"a\": 1.25*a_guess})\n",
    "popt_rho, _ = fitter.fit_single()\n",
    "\n",
    "print(\"Sigma fit parameters\")\n",
    "for name, val, guess, low, up in zip(fitter.parameters, popt_rho, fitter.p0.values(), fitter.blow.values(), fitter.bup.values()):\n",
    "    print(f\"{name:5s} {val: .2e} ({guess: .2e}) [{low: .2e}, {up: .2e}]\")\n",
    "\n",
    "fig, ax = plt.subplots(dpi=150)\n",
    "img = ax.pcolormesh(Xc_view, Yc_view, Rho_view)\n",
    "ax.contour(Xc_view, Yc_view, gauss2D((Xc_view, Yc_view), *popt_rho), 10, colors=\"w\", linewidths=0.5)\n",
    "if phi0 < 0:\n",
    "    popt = popt_rho.copy()\n",
    "    popt[3] += 2*np.pi\n",
    "    ax.contour(Xc_view, Yc_view, gauss2D((Xc_view, Yc_view), *popt), 10, colors=\"w\", linewidths=0.5)\n",
    "else:\n",
    "    popt = popt_rho.copy()\n",
    "    popt[3] -= 2*np.pi\n",
    "    ax.contour(Xc_view, Yc_view, gauss2D((Xc_view, Yc_view), *popt), 10, colors=\"w\", linewidths=0.5)\n",
    "\n",
    "cbar = fig.colorbar(img, ax=ax)\n",
    "\n",
    "\n",
    "vals = vortensity_view\n",
    "R = Xc_view[mask]\n",
    "PHI = Yc_view[mask]\n",
    "Z = vals[mask]\n",
    "Z_r = vals[:, inds[1]]\n",
    "Z_phi = vals[inds[0],:]\n",
    "\n",
    "r0 = Xc_view[inds]\n",
    "phi0 = Yc_view[inds]\n",
    "\n",
    "if bottom[1] > top[1]:\n",
    "    Z_up = Z[mask_up]\n",
    "    Z_low = Z[mask_low]\n",
    "    Z_fit = np.append(Z_low,Z_up)\n",
    "else:\n",
    "    Z_fit = Z\n",
    "\n",
    "c_ref = np.average(Z_phi[np.logical_not(mask_phi)])\n",
    "\n",
    "c_guess = c_ref\n",
    "a_guess = np.min(Z) - c_guess\n",
    "\n",
    "fitter = Gauss2DFitter(R_fit, PHI_fit, Z_fit, \n",
    "                       p0={\"x0\" : r0, \"y0\" : phi0, \"c\" : c_ref, \"a\" : a_guess},\n",
    "                       blow={\"c\" : 0.75*c_ref, \"a\": 1.25*a_guess},\n",
    "                       bup={\"c\" : 1.25*c_ref, \"a\": 0.75*a_guess})\n",
    "popt_vort, _ = fitter.fit_single()\n",
    "\n",
    "print(\"Vortensity fit parameters\")\n",
    "for name, val in zip(fitter.parameters, popt_vort):\n",
    "    print(f\"{name:5s} {val: .2e}\")\n",
    "\n",
    "fig, ax = plt.subplots(dpi=150)\n",
    "levels = np.arange(-1, 1.5, 0.05)\n",
    "img = ax.pcolormesh(Xc_view, Yc_view, vortensity_view, vmin=levels[0], vmax=levels[-1], cmap=\"magma\")\n",
    "ax.contour(Xc_view, Yc_view, gauss2D((Xc_view, Yc_view), *popt_vort), colors=\"w\", linewidths=0.5, levels=levels)\n",
    "if phi0 < 0:\n",
    "    popt = popt_vort.copy()\n",
    "    popt[3] += 2*np.pi\n",
    "    ax.contour(Xc_view, Yc_view, gauss2D((Xc_view, Yc_view), *popt), colors=\"w\", linewidths=0.5, levels=levels)\n",
    "else:\n",
    "    popt = popt_vort.copy()\n",
    "    popt[3] -= 2*np.pi\n",
    "    ax.contour(Xc_view, Yc_view, gauss2D((Xc_view, Yc_view), *popt), colors=\"w\", linewidths=0.5, levels=levels)\n",
    "\n",
    "cbar = fig.colorbar(img, ax=ax)"
   ]
  },
  {
   "cell_type": "code",
   "execution_count": 56,
   "metadata": {},
   "outputs": [
    {
     "data": {
      "application/vnd.jupyter.widget-view+json": {
       "model_id": "fe2e2dbda50d45239da1acd920fb3260",
       "version_major": 2,
       "version_minor": 0
      },
      "text/plain": [
       "Canvas(toolbar=Toolbar(toolitems=[('Home', 'Reset original view', 'home', 'home'), ('Back', 'Back to previous …"
      ]
     },
     "metadata": {},
     "output_type": "display_data"
    }
   ],
   "source": [
    "fig, axes = plt.subplots(2,2, dpi=150, figsize=(8,6), constrained_layout=True, sharex=\"col\", sharey=\"row\")\n",
    "axes = axes.flatten()\n",
    "\n",
    "# sigma\n",
    "vals_view = Rho_view\n",
    "params = popt_rho\n",
    "c = params[0]\n",
    "a = params[1]\n",
    "r0 = params[2]\n",
    "phi0 = params[3]\n",
    "wr = params[4]\n",
    "wphi = params[5]\n",
    "\n",
    "rs = Xc_view[:,0]\n",
    "phis = Yc_view[0,:]\n",
    "\n",
    "indr = int(np.argmin(np.abs(rs - r0)))\n",
    "indphi = int(np.argmin(np.abs(phis - phi0)))\n",
    "inds = (indr, indphi)\n",
    "\n",
    "vals_r = vals_view[:, indphi]\n",
    "vals_phi = vals_view[indr, :]\n",
    "\n",
    "ax = axes[0]\n",
    "ax.plot(rs, vals_r)\n",
    "ax.plot(rs[mask_r], vals_r[mask_r])\n",
    "ax.plot(rs, gauss(rs, c, a, r0, wr))\n",
    "ax.set_ylabel(r\"$\\Sigma$\")\n",
    "\n",
    "ax = axes[1]\n",
    "ax.plot(phis, vals_phi)\n",
    "plot_periodic(ax, phis[mask_phi], vals_phi[mask_phi])\n",
    "plot_periodic(ax, phis, gauss(phis, c, a, phi0, wphi))\n",
    "\n",
    "\n",
    "\n",
    "# vortensity\n",
    "# sigma\n",
    "vals_view = vortensity_view\n",
    "params = popt_vort\n",
    "c = params[0]\n",
    "a = params[1]\n",
    "r0 = params[2]\n",
    "phi0 = params[3]\n",
    "wr = params[4]\n",
    "wphi = params[5]\n",
    "\n",
    "rs = Xc_view[:,0]\n",
    "phis = Yc_view[0,:]\n",
    "\n",
    "indr = int(np.argmin(np.abs(rs - r0)))\n",
    "indphi = int(np.argmin(np.abs(phis - phi0)))\n",
    "inds = (indr, indphi)\n",
    "\n",
    "vals_r = vals_view[:, indphi]\n",
    "vals_phi = vals_view[indr, :]\n",
    "\n",
    "ax = axes[2]\n",
    "ax.plot(rs, vals_r)\n",
    "ax.plot(rs, gauss(rs, c, a, r0, wr))\n",
    "ax.set_ylabel(r\"$\\varpi/\\varpi_0$\")\n",
    "ax.set_xlabel(r\"$r$\")\n",
    "\n",
    "ax = axes[3]\n",
    "ax.plot(phis, vals_phi)\n",
    "ax.plot(phis, gauss(phis, c, a, phi0, wphi))\n",
    "ax.set_ylim(-1, 1.5)\n",
    "ax.set_xlabel(r\"$\\phi$\")\n",
    "ax.set_xticks([-np.pi, -0.5*np.pi, 0, 0.5*np.pi, np.pi])\n",
    "ax.set_xticklabels([r\"$-\\pi$\", r\"$-\\pi/2$\", \"0\", r\"$\\pi/2$\", r\"$\\pi$\"])\n",
    "\n",
    "for ax in axes:\n",
    "    ax.grid(alpha=0.3)\n"
   ]
  },
  {
   "cell_type": "code",
   "execution_count": null,
   "metadata": {},
   "outputs": [],
   "source": []
  },
  {
   "cell_type": "code",
   "execution_count": null,
   "metadata": {},
   "outputs": [],
   "source": []
  },
  {
   "cell_type": "code",
   "execution_count": null,
   "metadata": {},
   "outputs": [],
   "source": []
  },
  {
   "cell_type": "code",
   "execution_count": null,
   "metadata": {},
   "outputs": [],
   "source": []
  }
 ],
 "metadata": {
  "kernelspec": {
   "display_name": "Python 3",
   "language": "python",
   "name": "python3"
  },
  "language_info": {
   "codemirror_mode": {
    "name": "ipython",
    "version": 3
   },
   "file_extension": ".py",
   "mimetype": "text/x-python",
   "name": "python",
   "nbconvert_exporter": "python",
   "pygments_lexer": "ipython3",
   "version": "3.8.6"
  },
  "toc-autonumbering": false,
  "toc-showmarkdowntxt": false
 },
 "nbformat": 4,
 "nbformat_minor": 4
}
