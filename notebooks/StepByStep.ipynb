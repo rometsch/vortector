{
 "cells": [
  {
   "cell_type": "code",
   "execution_count": 1,
   "id": "c6c79026-3346-424e-86d5-81d62fd26fb7",
   "metadata": {},
   "outputs": [],
   "source": [
    "import os\n",
    "from subprocess import run\n",
    "res = run([\"git\", \"rev-parse\", \"--show-toplevel\"], capture_output=True)\n",
    "root_dir = res.stdout.decode().strip()\n",
    "os.chdir(root_dir)"
   ]
  },
  {
   "cell_type": "code",
   "execution_count": 168,
   "id": "c96b98b3-ea49-4386-a302-a19265f2910d",
   "metadata": {},
   "outputs": [],
   "source": [
    "import numpy as np\n",
    "import matplotlib.pyplot as plt\n",
    "import matplotlib.gridspec as gridspec\n",
    "\n",
    "%reload_ext autoreload\n",
    "%autoreload 2\n",
    "\n",
    "from src.vortector.vortector import Vortector\n",
    "from src.vortector.visualize import show_fit_overview_2D, show_fit_overview_1D\n",
    "from src.vortector.contour import ContourDetector\n",
    "\n",
    "%matplotlib widget\n",
    "\n",
    "from synthvortex import VortexGenerator\n",
    "\n",
    "\n",
    "def show_img(arr, ax=None):\n",
    "    if ax is None:\n",
    "        fig, ax = plt.subplots(dpi=150)\n",
    "    else:\n",
    "        fig = ax.get_figure()\n",
    "        ax.cla()\n",
    "    ax.pcolormesh(arr.T)\n",
    "    return fig, ax\n",
    "\n",
    "fig_vortector = None\n",
    "\n",
    "def show_fit(fit):\n",
    "    low = [x for x in fit[\"bounds_low\"].values()]\n",
    "    high = [x for x in fit[\"bounds_high\"].values()]\n",
    "    for n,key in enumerate([\"c\", \"a\", \"r0\", \"phi0\", \"sigma_r\", \"sigma_phi\"]):\n",
    "        print(f\"{key:10s}: {low[n]: 10.5f} < {fit['p0'][n]: 10.5f} < {high[n]: 10.5f}    -> {fit[key]: 10.5f}\")"
   ]
  },
  {
   "cell_type": "code",
   "execution_count": 169,
   "id": "ec0cc3c8-e1fe-4459-befc-b080ac45ab0d",
   "metadata": {},
   "outputs": [
    {
     "data": {
      "application/vnd.jupyter.widget-view+json": {
       "model_id": "50885ca925254c4386c3302eab8acc12",
       "version_major": 2,
       "version_minor": 0
      },
      "text/plain": [
       "Canvas(toolbar=Toolbar(toolitems=[('Home', 'Reset original view', 'home', 'home'), ('Back', 'Back to previous …"
      ]
     },
     "metadata": {},
     "output_type": "display_data"
    }
   ],
   "source": [
    "if fig_vortector is None:\n",
    "    fig_vortector = plt.figure(figsize=(12,8))"
   ]
  },
  {
   "cell_type": "code",
   "execution_count": 206,
   "id": "80411752-f37b-403f-bf21-d5157b726210",
   "metadata": {},
   "outputs": [
    {
     "name": "stdout",
     "output_type": "stream",
     "text": [
      "CPU times: user 898 ms, sys: 334 ms, total: 1.23 s\n",
      "Wall time: 254 ms\n",
      "Number of vortices: 2\n",
      "c         :    0.75146 <    0.80156 <    1.25243    ->    1.01275\n",
      "a         :    0.65871 <    1.31741 <    2.63482    ->    1.30850\n",
      "r0        :   10.23570 <   13.04851 <   15.86132    ->   12.99907\n",
      "phi0      :    3.29179 <    3.69857 <    4.10535    ->   -2.57830\n",
      "sigma_r   :    0.56256 <    5.62563 <   11.25125    ->    3.53732\n",
      "sigma_phi :    0.08136 <    0.81356 <    1.62712    ->    0.50195\n",
      "-----\n",
      "c         :    0.77004 <    0.82137 <    1.28339    ->    1.00235\n",
      "a         :    0.35680 <    0.71359 <    1.42719    ->    0.73864\n",
      "r0        :    2.73558 <    4.96845 <    7.20131    ->    4.95853\n",
      "phi0      :   -0.52568 <    0.21904 <    0.96376    ->    0.21524\n",
      "sigma_r   :    0.44657 <    4.46573 <    8.93146    ->    2.40930\n",
      "sigma_phi :    0.14894 <    1.48944 <    2.97888    ->    0.70161\n",
      "-----\n"
     ]
    }
   ],
   "source": [
    "scaling = 2\n",
    "# vgen = VortexGenerator(3, periodic_y=True, Nr=121*scaling,Nphi=251*scaling, noise=0, seed=139040831483689419186733474417936403656)\n",
    "vgen = VortexGenerator(3, periodic_y=True, Nr=121*scaling,Nphi=251*scaling, noise=0, seed=77286521634823927887570432972751377545)\n",
    "vd = Vortector(vgen.Rs, vgen.Phis, vgen.Area, vgen.vortensity, vgen.density, verbose=False, debug=True)\n",
    "%time vd.detect(include_mask=True, keep_internals=True)\n",
    "n = None\n",
    "\n",
    "show_fit_overview_2D(vd, n=n, fig=fig_vortector)\n",
    "print(\"Number of vortices:\", len(vd.vortices))\n",
    "vgen.seed\n",
    "if n is None:\n",
    "    vorts = vd.vortices\n",
    "else:\n",
    "    vorts = [vd.vortices[n]]\n",
    "for vort in vorts:\n",
    "    show_fit(vort[\"fits\"][\"surface_density\"])\n",
    "    print(\"-----\")"
   ]
  },
  {
   "cell_type": "code",
   "execution_count": 176,
   "id": "c11f3836-2ea0-42ab-9985-c4d559fcbe2d",
   "metadata": {},
   "outputs": [],
   "source": [
    "#%load_ext snakeviz\n",
    "#%snakeviz vd.detect(include_mask=True, keep_internals=True)"
   ]
  },
  {
   "cell_type": "code",
   "execution_count": 186,
   "id": "f7510d93-37d4-4fb9-a83d-a3c5ff80b96e",
   "metadata": {},
   "outputs": [
    {
     "data": {
      "application/vnd.jupyter.widget-view+json": {
       "model_id": "560ffe4fc4b8456f9162b04c14ee023f",
       "version_major": 2,
       "version_minor": 0
      },
      "text/plain": [
       "Canvas(toolbar=Toolbar(toolitems=[('Home', 'Reset original view', 'home', 'home'), ('Back', 'Back to previous …"
      ]
     },
     "metadata": {},
     "output_type": "display_data"
    },
    {
     "data": {
      "text/plain": [
       "<matplotlib.collections.QuadMesh at 0x7f68a9769040>"
      ]
     },
     "execution_count": 186,
     "metadata": {},
     "output_type": "execute_result"
    }
   ],
   "source": [
    "r, phi, vort, dens, mask = vd.extract_data(vd.vortices[0], region=\"contour\")\n",
    "Z = np.ma.masked_array(dens, mask=~mask)\n",
    "fig, ax = plt.subplots()\n",
    "ax.pcolormesh(r, phi, Z)"
   ]
  },
  {
   "cell_type": "code",
   "execution_count": 51,
   "id": "bc415f84-d54e-47cb-b220-9c8b4b50585b",
   "metadata": {},
   "outputs": [
    {
     "data": {
      "application/vnd.jupyter.widget-view+json": {
       "model_id": "e99223de15dd429094bdc0b01a10e2b7",
       "version_major": 2,
       "version_minor": 0
      },
      "text/plain": [
       "Canvas(toolbar=Toolbar(toolitems=[('Home', 'Reset original view', 'home', 'home'), ('Back', 'Back to previous …"
      ]
     },
     "metadata": {},
     "output_type": "display_data"
    }
   ],
   "source": [
    "fig, ax = show_img(cd.data_extended)"
   ]
  },
  {
   "cell_type": "code",
   "execution_count": 52,
   "id": "5f940eec-e289-4b50-8dfd-331921775bbb",
   "metadata": {},
   "outputs": [],
   "source": [
    "cd = ContourDetector(vgen.vortensity, np.linspace(-1,1,41))\n",
    "contours = cd.detect_elliptic_contours()\n",
    "show_img(cd.data_extended, ax = ax)\n",
    "for cnt in cd.contours_closed:\n",
    "# for cnt in contours:\n",
    "# for cnt in cd.contours:\n",
    "# for cnt in cd.contours\n",
    "    try:\n",
    "        bnd = cnt[\"boundary\"]\n",
    "    except KeyError:\n",
    "        bnd = cnt[\"detection\"][\"boundary\"]\n",
    "    except TypeError:\n",
    "        bnd = cd.contours[cnt][\"boundary\"]\n",
    "    x = bnd[:,0,1]\n",
    "    y = bnd[:,0,0]\n",
    "    ax.plot(x,y)"
   ]
  },
  {
   "cell_type": "code",
   "execution_count": null,
   "id": "b416a5a2-07a5-402a-a67f-128e55e21b2a",
   "metadata": {},
   "outputs": [],
   "source": []
  }
 ],
 "metadata": {
  "kernelspec": {
   "display_name": "Python 3",
   "language": "python",
   "name": "python3"
  },
  "language_info": {
   "codemirror_mode": {
    "name": "ipython",
    "version": 3
   },
   "file_extension": ".py",
   "mimetype": "text/x-python",
   "name": "python",
   "nbconvert_exporter": "python",
   "pygments_lexer": "ipython3",
   "version": "3.9.4"
  }
 },
 "nbformat": 4,
 "nbformat_minor": 5
}
