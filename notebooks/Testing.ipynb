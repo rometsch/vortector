{
 "cells": [
  {
   "cell_type": "markdown",
   "metadata": {},
   "source": [
    "# Testing Notebook\n",
    "\n",
    "This notebook is used for running development version of the Vortector"
   ]
  },
  {
   "cell_type": "code",
   "execution_count": 1,
   "metadata": {},
   "outputs": [],
   "source": [
    "import numpy as np\n",
    "import matplotlib.pyplot as plt\n",
    "import matplotlib.gridspec as gridspec\n",
    "\n",
    "%reload_ext autoreload\n",
    "%autoreload 2\n",
    "\n",
    "from src.vortector.vortector import Vortector\n",
    "from src.vortector.visualize import show_fit_overview_2D, show_fit_overview_1D\n",
    "from src.vortector.contour import detect_elliptic_contours\n",
    "\n",
    "%matplotlib widget"
   ]
  },
  {
   "cell_type": "code",
   "execution_count": 2,
   "metadata": {},
   "outputs": [],
   "source": [
    "from synthvortex import VortexGenerator\n",
    "vgen = VortexGenerator(2, periodic_y=True)"
   ]
  },
  {
   "cell_type": "code",
   "execution_count": 3,
   "metadata": {},
   "outputs": [
    {
     "data": {
      "application/vnd.jupyter.widget-view+json": {
       "model_id": "902c5d63bfb04a56bc978b03fcb3b06e",
       "version_major": 2,
       "version_minor": 0
      },
      "text/plain": [
       "Canvas(toolbar=Toolbar(toolitems=[('Home', 'Reset original view', 'home', 'home'), ('Back', 'Back to previous …"
      ]
     },
     "metadata": {},
     "output_type": "display_data"
    }
   ],
   "source": [
    "fig_vortector = plt.figure(dpi=150)"
   ]
  },
  {
   "cell_type": "code",
   "execution_count": 37,
   "metadata": {},
   "outputs": [
    {
     "name": "stdout",
     "output_type": "stream",
     "text": [
      "Number of found contours: 100\n",
      "Number of closed contours: 97\n",
      "Area of contours: [46601.0, 46601.0, 32691.5, 32691.5, 31397.0, 31397.0, 28353.5, 28353.5, 25071.5, 25071.5, 22350.0, 22350.0, 20524.0, 20524.0, 19950.5, 19950.5, 17760.5, 17760.5, 17493.0, 17493.0, 15735.0, 15735.0, 15336.5, 15336.5, 13827.0, 13827.0, 13576.5, 13576.5, 12064.5, 12064.5, 11988.0, 11988.0, 10659.0, 10659.0, 10241.0, 10241.0, 9423.0, 9423.0, 8496.5, 8496.5, 8284.0, 8284.0, 7208.0, 7208.0, 6665.0, 6665.0, 6189.5, 6189.5, 5215.0, 5215.0, 4716.5, 4716.5, 4267.0, 4267.0, 3785.5, 3666.0, 3310.0, 3310.0, 3281.5, 3281.5, 2453.0, 2333.5, 2333.5, 2060.0, 2060.0, 1918.5, 1918.5, 1633.5, 1633.5, 1427.5, 1427.5, 1327.5, 1327.5, 1131.5, 1065.0, 1031.0, 911.5, 911.5, 894.5, 894.5, 756.0, 756.0, 562.0, 562.0, 394.0, 394.0, 326.5, 326.5, 296.0, 241.0, 241.0, 220.5, 220.5, 178.0, 178.0, 60.5, 60.5]\n",
      "Removed 45 contours which were duplicates. 52 remaining.\n",
      "Detected 17 elliptic contours.\n",
      "Removed 0 candidates by common area and bbox. 17 remaining\n",
      "Removed 8 candidates by due to vortensity drop < 0.1.\n",
      "CPU times: user 488 ms, sys: 192 ms, total: 681 ms\n",
      "Wall time: 182 ms\n",
      "Number of vortices: 2\n"
     ]
    },
    {
     "data": {
      "text/plain": [
       "199243536374598981447639019221332595703"
      ]
     },
     "execution_count": 37,
     "metadata": {},
     "output_type": "execute_result"
    }
   ],
   "source": [
    "from synthvortex import VortexGenerator\n",
    "scaling = 3\n",
    "vgen = VortexGenerator(3, periodic_y=True, Nr=121*scaling,Nphi=251*scaling)\n",
    "# vgen = VortexGenerator(3, periodic_y=True, Nr=121*scaling,Nphi=251*scaling, seed=123009799731638641813521844717530781350, noise=0)\n",
    "# vgen = VortexGenerator(filename=\"synthvort_examples/detection_overlapping_vortices.pickle\")\n",
    "vd = Vortector(vgen.Rs, vgen.Phis, vgen.Area, vgen.vortensity, vgen.density, verbose=True)\n",
    "# n = 0\n",
    "# vd.fit(n)\n",
    "# for k in range(2):\n",
    "#     vd.fit(n, region=\"combined\") \n",
    "def detect_and_fit(vd):\n",
    "    vd.detect(include_mask=True, autofit=False, keep_internals=False)\n",
    "    for k in range(len(vd.vortices)):\n",
    "        vd.fit(k)\n",
    "#         vd.fit(k, region=\"combined\")\n",
    "%time detect_and_fit(vd)\n",
    "n = None\n",
    "show_fit_overview_2D(vd, n=n, bnd_pnts=False, fig=fig_vortector)\n",
    "print(\"Number of vortices:\", len(vd.vortices))\n",
    "vgen.seed"
   ]
  },
  {
   "cell_type": "code",
   "execution_count": null,
   "metadata": {},
   "outputs": [],
   "source": []
  },
  {
   "cell_type": "code",
   "execution_count": 19,
   "metadata": {},
   "outputs": [
    {
     "name": "stdout",
     "output_type": "stream",
     "text": [
      "The snakeviz extension is already loaded. To reload it, use:\n",
      "  %reload_ext snakeviz\n",
      "Number of found contours: 79\n",
      "Number of closed contours: 62\n",
      "Area of contours: [13227.0, 13227.0, 10088.0, 10088.0, 8793.0, 8793.0, 7863.0, 7863.0, 7118.5, 7118.5, 6492.0, 6492.0, 5989.5, 5989.5, 5572.5, 5572.5, 5210.0, 5210.0, 4858.5, 4858.5, 4515.5, 4515.5, 4193.5, 4193.5, 3878.5, 3878.5, 3564.5, 3564.5, 3255.0, 3255.0, 2962.5, 2962.5, 2686.0, 2686.0, 2410.0, 2410.0, 2125.5, 2125.5, 1832.5, 1832.5, 1511.0, 1511.0, 1166.0, 1166.0, 735.5, 735.5, 124.0, 124.0, 87.5, 74.5, 74.5, 67.5, 67.5, 62.0, 62.0, 62.0, 61.5, 61.5, 45.0, 45.0, 32.5, 32.5]\n",
      "Removed 30 contours which were duplicates. 32 remaining.\n",
      "Detected 25 elliptic contours.\n",
      "Removed 0 candidates by common area and bbox. 25 remaining\n",
      "Warning: Error while fitting vortensity: Each lower bound must be strictly less than each upper bound.\n",
      "Warning: Error while fitting surface density: Each lower bound must be strictly less than each upper bound.\n",
      "Warning: KeyError encountered in calculating fit differences: 'fits'\n",
      "Removed 5 candidates by due to vortensity drop < 0.1.\n",
      " \n",
      "*** Profile stats marshalled to file '/tmp/tmphnhxyiqb'. \n",
      "Embedding SnakeViz in this document...\n"
     ]
    },
    {
     "data": {
      "text/html": [
       "\n",
       "<iframe id='snakeviz-bda23aaa-af2d-11eb-871c-2f61dc0c037a' frameborder=0 seamless width='100%' height='1000'></iframe>\n",
       "<script>document.getElementById(\"snakeviz-bda23aaa-af2d-11eb-871c-2f61dc0c037a\").setAttribute(\"src\", \"http://\" + document.location.hostname + \":8080/snakeviz/%2Ftmp%2Ftmphnhxyiqb\")</script>\n"
      ],
      "text/plain": [
       "<IPython.core.display.HTML object>"
      ]
     },
     "metadata": {},
     "output_type": "display_data"
    }
   ],
   "source": [
    "%load_ext snakeviz\n",
    "%snakeviz vd.detect(autofit=True)"
   ]
  },
  {
   "cell_type": "code",
   "execution_count": 4,
   "metadata": {},
   "outputs": [
    {
     "name": "stdout",
     "output_type": "stream",
     "text": [
      "-0.13240203318373686\n",
      "-0.08159054445480816\n"
     ]
    }
   ],
   "source": [
    "for vort in vd.vortices:\n",
    "    print(vort[\"contour\"][\"stats\"][\"vortensity_min\"])"
   ]
  },
  {
   "cell_type": "code",
   "execution_count": 12,
   "metadata": {},
   "outputs": [],
   "source": [
    "name = \"drifting_sigma_fit\"\n",
    "filename = f\"synthvort_examples/{name}.pickle\"\n",
    "note=\"Sigmafit outside of contour.\"\n",
    "import os\n",
    "if os.path.exists(filename):\n",
    "    print(\"This file already exists. Please use another filename.\")\n",
    "else:\n",
    "    vgen.save(filename, \n",
    "              note=\"There are two overlapping vortices and one of them is not detected.\")"
   ]
  },
  {
   "cell_type": "code",
   "execution_count": 6,
   "metadata": {},
   "outputs": [
    {
     "data": {
      "application/vnd.jupyter.widget-view+json": {
       "model_id": "34827e61b801492989b3078bad15d29b",
       "version_major": 2,
       "version_minor": 0
      },
      "text/plain": [
       "Canvas(toolbar=Toolbar(toolitems=[('Home', 'Reset original view', 'home', 'home'), ('Back', 'Back to previous …"
      ]
     },
     "metadata": {},
     "output_type": "display_data"
    }
   ],
   "source": [
    "fig_single_vortex = plt.figure(dpi=150)"
   ]
  },
  {
   "cell_type": "code",
   "execution_count": 79,
   "metadata": {},
   "outputs": [],
   "source": [
    "def vort_sigma_plot(fig,Rs,Phis,vortensity,density,mask):\n",
    "    fig.clf()\n",
    "    gs = gridspec.GridSpec(ncols=2, nrows=1, figure=fig_single_vortex)\n",
    "    axes = [fig.add_subplot(gs[0, 0]),fig.add_subplot(gs[0, 1])]\n",
    "\n",
    "    vort_masked = np.ma.masked_array(vortensity, mask=~mask)\n",
    "    im = axes[0].pcolormesh(Rs, Phis, vort_masked, vmin=0, vmax=1, shading=\"auto\")\n",
    "    axes[0].contour(Rs, Phis, vort_masked, cmap=\"Greys\", linewidths=1)\n",
    "    axes[0].set_xlabel(\"r\")\n",
    "    axes[0].set_ylabel(\"phi\")\n",
    "    cbar = fig.colorbar(im, ax=axes[0], orientation=\"horizontal\")\n",
    "    cbar.set_label(\"vortensity\")\n",
    "\n",
    "    density_masked = np.ma.masked_array(density, mask=~mask)\n",
    "    im = axes[1].pcolormesh(Rs, Phis, density_masked, shading=\"auto\")\n",
    "    axes[1].contour(Rs, Phis, density_masked, cmap=\"Greys\", linewidths=1)\n",
    "    axes[1].set_xlabel(\"r\")\n",
    "    cbar = fig.colorbar(im, ax=axes[1], orientation=\"horizontal\")\n",
    "    cbar.set_label(\"density\")\n",
    "\n",
    "vort_data = vd.extract_data(vd.vortices[0], region=\"combined\")\n",
    "vort_sigma_plot(fig_single_vortex, *vort_data)"
   ]
  },
  {
   "cell_type": "code",
   "execution_count": 10,
   "metadata": {},
   "outputs": [
    {
     "data": {
      "text/plain": [
       "{'detection': {'contour_value': 0.6500000000000001,\n",
       "  'opencv_contour_number': 33000,\n",
       "  'uuid': 'dc043da8-ea5e-480f-88f7-3fa962a2d8ab',\n",
       "  'pixel_area': 3037.0,\n",
       "  'pixel_arcLength': 224.16652059555054,\n",
       "  'bounding_x_img': array([ 56, 101], dtype=int32),\n",
       "  'bounding_y_img': array([290, 377], dtype=int32),\n",
       "  'pnt_xlow_img': array([ 56, 319], dtype=int32),\n",
       "  'pnt_xhigh_img': array([101, 328], dtype=int32),\n",
       "  'pnt_ylow_img': array([ 77, 290], dtype=int32),\n",
       "  'pnt_yhigh_img': array([ 84, 377], dtype=int32),\n",
       "  'dx_img': 45,\n",
       "  'dy_img': 87,\n",
       "  'ellipse': {'center_img': (334.0018615722656, 78.95472717285156),\n",
       "   'axesLengths_img': (45.0428466796875, 86.45751190185547),\n",
       "   'angle_img': 93.6780014038086},\n",
       "  'ellipse_area_delta_relative': 0.053850483385040226,\n",
       "  'ellipse_area_delta': 163.54391804036717,\n",
       "  'parameters': {'Nx': 121,\n",
       "   'Ny': 251,\n",
       "   'max_ellipse_aspect_ratio': inf,\n",
       "   'max_ellipse_deviation': 0.15,\n",
       "   'levels': [-1.0,\n",
       "    -0.95,\n",
       "    -0.9,\n",
       "    -0.85,\n",
       "    -0.8,\n",
       "    -0.75,\n",
       "    -0.7,\n",
       "    -0.6499999999999999,\n",
       "    -0.6,\n",
       "    -0.55,\n",
       "    -0.5,\n",
       "    -0.44999999999999996,\n",
       "    -0.3999999999999999,\n",
       "    -0.35,\n",
       "    -0.29999999999999993,\n",
       "    -0.25,\n",
       "    -0.19999999999999996,\n",
       "    -0.1499999999999999,\n",
       "    -0.09999999999999998,\n",
       "    -0.04999999999999993,\n",
       "    0.0,\n",
       "    0.050000000000000044,\n",
       "    0.10000000000000009,\n",
       "    0.15000000000000013,\n",
       "    0.20000000000000018,\n",
       "    0.25,\n",
       "    0.30000000000000004,\n",
       "    0.3500000000000001,\n",
       "    0.40000000000000013,\n",
       "    0.4500000000000002,\n",
       "    0.5,\n",
       "    0.55,\n",
       "    0.6000000000000001,\n",
       "    0.6500000000000001,\n",
       "    0.7000000000000002,\n",
       "    0.75,\n",
       "    0.8,\n",
       "    0.8500000000000001,\n",
       "    0.9000000000000001,\n",
       "    0.9500000000000002,\n",
       "    1.0]}},\n",
       " 'mask': array([[False, False, False, ..., False, False, False],\n",
       "        [False, False, False, ..., False, False, False],\n",
       "        [False, False, False, ..., False, False, False],\n",
       "        ...,\n",
       "        [False, False, False, ..., False, False, False],\n",
       "        [False, False, False, ..., False, False, False],\n",
       "        [False, False, False, ..., False, False, False]]),\n",
       " 'pnt_xhigh': (101, 203),\n",
       " 'pnt_xlow': (56, 194),\n",
       " 'pnt_ylow': (77, 165),\n",
       " 'pnt_yhigh': (84, 1),\n",
       " 'stats': {'mass': 269.9378169421284,\n",
       "  'vortensity_avg': 0.28517830801929894,\n",
       "  'vortensity_med': 0.28447232400397293,\n",
       "  'vortensity_min': -0.08159054445480816,\n",
       "  'vortensity_max': 0.6490014708793219,\n",
       "  'surface_density_avg': 2.3265571435534786,\n",
       "  'surface_density_med': 2.0251102706655177,\n",
       "  'surface_density_min': 1.2613045984506785,\n",
       "  'surface_density_max': 4.74255720154499,\n",
       "  'area': 117.25882315578025,\n",
       "  'rmax': 4.050783355466281,\n",
       "  'rmin': 12.342216134569854,\n",
       "  'phimin': 1.001304431423042,\n",
       "  'phimax': -3.104043737411429,\n",
       "  'height': 2.177837138345115,\n",
       "  'vortensity_min_pos': (8.30531527530275, 2.177837138345116),\n",
       "  'vortensity_min_inds': (85, 212),\n",
       "  'surface_density_max_pos': (7.522234483583645, 1.8774458089182033),\n",
       "  'surface_density_max_inds': (81, 200),\n",
       "  'azimuthal_at_vortensity_min': {'vortensity_max': 1.0289868656777779,\n",
       "   'vortensity_avg': 0.6839628444107716,\n",
       "   'vortensity_med': 0.9613379085386737},\n",
       "  'azimuthal_at_surface_density_max': {'surface_density_min': 4.74255720154499,\n",
       "   'surface_density_avg': 1.7367420208421191,\n",
       "   'surface_density_med': 1.0400044179659846}},\n",
       " 'pnt_xlow_pos': (4.050783355466281, 1.727250144204747),\n",
       " 'pnt_xhigh_pos': (12.342216134569854, 1.9525436412749313),\n",
       " 'pnt_ylow_pos': (6.8129877976188284, 1.001304431423042),\n",
       " 'pnt_yhigh_pos': (8.102215853997258, -3.104043737411429)}"
      ]
     },
     "execution_count": 10,
     "metadata": {},
     "output_type": "execute_result"
    }
   ],
   "source": [
    "vd.vortices[1][\"contour\"]"
   ]
  },
  {
   "cell_type": "code",
   "execution_count": null,
   "metadata": {},
   "outputs": [],
   "source": []
  },
  {
   "cell_type": "code",
   "execution_count": null,
   "metadata": {},
   "outputs": [],
   "source": []
  },
  {
   "cell_type": "code",
   "execution_count": null,
   "metadata": {},
   "outputs": [],
   "source": []
  },
  {
   "cell_type": "code",
   "execution_count": null,
   "metadata": {},
   "outputs": [],
   "source": []
  },
  {
   "cell_type": "code",
   "execution_count": null,
   "metadata": {},
   "outputs": [],
   "source": []
  },
  {
   "cell_type": "code",
   "execution_count": null,
   "metadata": {},
   "outputs": [],
   "source": []
  },
  {
   "cell_type": "code",
   "execution_count": null,
   "metadata": {},
   "outputs": [],
   "source": []
  }
 ],
 "metadata": {
  "kernelspec": {
   "display_name": "Python 3",
   "language": "python",
   "name": "python3"
  },
  "language_info": {
   "codemirror_mode": {
    "name": "ipython",
    "version": 3
   },
   "file_extension": ".py",
   "mimetype": "text/x-python",
   "name": "python",
   "nbconvert_exporter": "python",
   "pygments_lexer": "ipython3",
   "version": "3.8.6"
  }
 },
 "nbformat": 4,
 "nbformat_minor": 4
}
